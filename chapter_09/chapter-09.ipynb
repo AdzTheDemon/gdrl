{
 "cells": [
  {
   "cell_type": "code",
   "execution_count": null,
   "metadata": {},
   "outputs": [],
   "source": [
    "# NPG, TRPO, ACER, PPO, ACKTR"
   ]
  },
  {
   "cell_type": "code",
   "execution_count": 1,
   "metadata": {},
   "outputs": [],
   "source": [
    "import gym\n",
    "import torch\n",
    "import random\n",
    "import numpy as np\n",
    "from scipy.stats import uniform, argus, alpha, beta, rv_continuous, rv_discrete\n",
    "from sklearn.model_selection import RandomizedSearchCV\n",
    "\n",
    "from gym import Wrapper\n",
    "\n",
    "from tqdm import tqdm_notebook as tqdm\n",
    "from collections import defaultdict\n",
    "\n",
    "from itertools import count\n",
    "import matplotlib.pyplot as plt"
   ]
  },
  {
   "cell_type": "code",
   "execution_count": 2,
   "metadata": {},
   "outputs": [],
   "source": [
    "def c_softmax(x, sf=1, mag=2, shift=1):\n",
    "    return 1/(1 + np.exp(-x * sf)) * mag - shift\n",
    "def p_tanh(x, power=3, expl=0.001, mag=1, shift=0):\n",
    "    return np.tanh(np.power(x, power) * expl) * mag - shift\n",
    "def t_power(x, power=2, expl=0.5, mag=2, shift=1):\n",
    "    return np.tanh(np.sign(x) * np.power(x, power) * expl) * mag - shift"
   ]
  },
  {
   "cell_type": "code",
   "execution_count": 3,
   "metadata": {},
   "outputs": [],
   "source": [
    "class BaseAgent():\n",
    "    def _set_seed(self, seed, env):\n",
    "        env.seed(seed)\n",
    "        torch.manual_seed(seed)\n",
    "        np.random.seed(seed)\n",
    "        random.seed(seed)\n",
    "\n",
    "    def _extract_x(self, X):\n",
    "        seed,  environments = X[0]\n",
    "        environments = {\n",
    "            env.env.unwrapped.__class__.__name__:{'env':env} for env in environments\n",
    "        }\n",
    "        return seed, environments\n",
    "\n",
    "    def fit(self, X):\n",
    "        seed, environments = self._extract_x(X)\n",
    "        self.results = {}\n",
    "        for env_name, env_data in environments.items():\n",
    "            env = env_data['env'].env\n",
    "            gamma = env_data['env'].gamma\n",
    "            max_episodes = env_data['env'].max_episodes\n",
    "            goal_mean_reward = env_data['env'].goal_mean_reward\n",
    "            self._set_seed(seed, env)\n",
    "            print('Training on {} environment with seed {} and params {}'.format(env_name, seed, self.params))\n",
    "            self.results[env_name] = self.train(env, gamma, max_episodes, goal_mean_reward)\n",
    "        return self.results\n",
    "\n",
    "    def score(self, X):\n",
    "        seed, environments = self._extract_x(X)\n",
    "        total_score = 0\n",
    "        for env_name, env_data in environments.items():\n",
    "            env = env_data['env'].env\n",
    "            self._set_seed(seed, env)\n",
    "            \n",
    "            policy = self.results[env_name]['policy']\n",
    "            e_mean_reward = self.evaluate(env, policy)\n",
    "            t_episodes = self.results[env_name]['training_episodes']\n",
    "            t_episodes_weight = env_data['env'].training_episodes_weight\n",
    "            t_mean_reward = self.results[env_name]['training_mean_reward']\n",
    "            t_mean_reward_weight = env_data['env'].training_mean_reward_weight\n",
    "            e_mean_reward_weight = env_data['env'].evaluation_mean_reward_weight\n",
    "            goal_mean_reward = env_data['env'].goal_mean_reward\n",
    "\n",
    "            e_mean_reward_score = c_softmax(e_mean_reward / goal_mean_reward - 1, 50)\n",
    "            w_e_mean_reward_score = e_mean_reward_score * e_mean_reward_weight\n",
    "            \n",
    "            t_mean_reward_bonus = c_softmax(t_mean_reward / goal_mean_reward - 1, 50)\n",
    "            w_t_mean_reward_bonus = t_mean_reward_bonus * t_mean_reward_weight\n",
    "            \n",
    "            t_episodes_bonus = t_power(env_data['env'].max_episodes/t_episodes - 1)\n",
    "            w_t_episodes_bonus = t_episodes_bonus * t_episodes_weight\n",
    "            \n",
    "            score = w_e_mean_reward_score + w_t_episodes_bonus + w_t_mean_reward_bonus\n",
    "\n",
    "            print(\"Score in the {} environment with seed {}:\"\n",
    "                  \"\\nAgent = {}\"\n",
    "                  \"\\nScore = {}. Breakdown:\"\n",
    "                  \"\\n\\tEvaluation mean reward = {}, normalized = {}, weighted = {}\"\n",
    "                  \"\\n\\tTraining mean reward = {}, normalized = {}, weighted = {}\"\n",
    "                  \"\\n\\tTraining episodes = {}, normalized = {}, weighted = {}\"\n",
    "                  \"\".format(env_name, seed, \n",
    "                            self,\n",
    "                            score,\n",
    "                            e_mean_reward, e_mean_reward_score, w_e_mean_reward_score,\n",
    "                            t_mean_reward, t_mean_reward_bonus, w_t_mean_reward_bonus,\n",
    "                            t_episodes, t_episodes_bonus, w_t_episodes_bonus))\n",
    "            total_score += score\n",
    "\n",
    "        print('Total score across all environments for seed {} = {}'.format(seed, total_score))\n",
    "        print('---------------------------------------------\\n')\n",
    "        return total_score\n",
    "    \n",
    "    def demo(self, environment, results):\n",
    "        self.evaluate(env=environment.env, episodes=1, \n",
    "                      policy=results[environment.get_environment_name()]['policy'], \n",
    "                      render=True)\n",
    "        \n",
    "    def get_params(self, deep=False):\n",
    "        return self.params\n",
    "\n",
    "    def set_params(self, **params):\n",
    "        self.params = {\n",
    "            k:v for k, v in params.items()\n",
    "        }\n",
    "        for k, v in self.params.items():\n",
    "            setattr(self, k, v)\n",
    "        return self\n",
    "\n",
    "    def __repr__(self):\n",
    "        class_name = self.__class__.__name__\n",
    "        params_str = ', '.join([str(k) + '=' + str(v) for k, v in self.params.items()])\n",
    "        return '%s(%s)' % (class_name, params_str)"
   ]
  },
  {
   "cell_type": "code",
   "execution_count": 4,
   "metadata": {},
   "outputs": [],
   "source": [
    "class Qlearning(BaseAgent):\n",
    "    def __init__(self):\n",
    "        self.params = {}\n",
    "        self.results = {}\n",
    "        \n",
    "    def train(self, env, gamma, max_episodes, goal_mean_reward):\n",
    "        nS, nA = env.observation_space.n, env.action_space.n\n",
    "        Q = np.zeros((nS, nA))\n",
    "\n",
    "        rewards = []\n",
    "        with tqdm(total=max_episodes) as pbar:\n",
    "            for e in range(max_episodes):\n",
    "                state, done = env.reset(), False\n",
    "                self.behavioral_strategy.reset()\n",
    "                rewards.append(0)\n",
    "                while not done:\n",
    "                    action = self.behavioral_strategy.select_action(Q[state])\n",
    "                    new_state, reward, done, _ = env.step(action)\n",
    "                    rewards[-1] += reward\n",
    "                    target = reward + (not done) * gamma * Q[new_state].max()\n",
    "                    error = target - Q[state][action]\n",
    "                    Q[state][action] += self.alpha() * error\n",
    "                    state = new_state\n",
    "\n",
    "                V = np.max(Q, axis=1)\n",
    "                policy = {s:a for s, a in enumerate(np.argmax(Q, axis=1))}\n",
    "                if e % (max_episodes/100) == 0:\n",
    "                    training_mean_reward = self.evaluate(env, policy)\n",
    "                    if training_mean_reward >= goal_mean_reward:\n",
    "                        pbar.update(pbar.total - e)\n",
    "                        break\n",
    "                pbar.update(1)\n",
    "        results = {\n",
    "            'Q': Q,\n",
    "            'V': V,\n",
    "            'policy': policy,\n",
    "            'training_episodes': e+1,\n",
    "            'training_mean_reward': training_mean_reward,\n",
    "        }\n",
    "        return results\n",
    "\n",
    "    def evaluate(self, env, policy, episodes=100, render=False):\n",
    "        rewards = []\n",
    "        for e in range(episodes):\n",
    "            state, is_terminal = env.reset(), False\n",
    "            rewards.append(0)\n",
    "            for t in count(start=1):\n",
    "                if render: env.render()\n",
    "                action = policy[state]\n",
    "                state, reward, is_terminal, _ = env.step(action)\n",
    "                rewards[-1] += reward\n",
    "                if is_terminal:\n",
    "                    break\n",
    "\n",
    "        if render: env.render()\n",
    "        env.close()\n",
    "        return np.mean(rewards)"
   ]
  },
  {
   "cell_type": "code",
   "execution_count": 5,
   "metadata": {},
   "outputs": [],
   "source": [
    "class BaseSchedule():\n",
    "    def __init__(self, *args, **kwds):\n",
    "        self.params = kwds\n",
    "        for k, v in self.params.items():\n",
    "            setattr(self, k, v)\n",
    "        self.reset()\n",
    "    def __call__(self):\n",
    "        raise NotImplemented\n",
    "    def reset(self):\n",
    "        setattr(self, '_t', 0)\n",
    "    @property\n",
    "    def tick(self):\n",
    "        curr_t = self._t\n",
    "        self._t += 1\n",
    "        return curr_t\n",
    "    def __repr__(self):\n",
    "        class_name = self.__class__.__name__\n",
    "        self.params['value'] = self.value\n",
    "        params_str = ', '.join(['{}={}'.format(k, round(v, 3)) for k, v in self.params.items()])\n",
    "        return \"{}({})\".format(class_name, params_str)"
   ]
  },
  {
   "cell_type": "code",
   "execution_count": 6,
   "metadata": {},
   "outputs": [],
   "source": [
    "class ConstantSchedule(BaseSchedule):\n",
    "    def __call__(self):\n",
    "        self.tick\n",
    "        return self.value"
   ]
  },
  {
   "cell_type": "code",
   "execution_count": 7,
   "metadata": {},
   "outputs": [],
   "source": [
    "class LinearlyDecayingSchedule(BaseSchedule):\n",
    "    def __call__(self):\n",
    "        self.value = max(self.min_value, self.initial_value - (1 - self.decay_rate) * self.tick)\n",
    "        return self.value\n",
    "    def reset(self):\n",
    "        super(LinearlyDecayingSchedule, self).reset()\n",
    "        self.value = self.initial_value"
   ]
  },
  {
   "cell_type": "code",
   "execution_count": 8,
   "metadata": {},
   "outputs": [],
   "source": [
    "class ExponentiallyDecayingSchedule(BaseSchedule):\n",
    "    def __call__(self):\n",
    "        self.value = max(self.min_value, self.initial_value * np.exp((self.decay_rate - 1) * self.tick))\n",
    "        return self.value\n",
    "    def reset(self):\n",
    "        super(ExponentiallyDecayingSchedule, self).reset()\n",
    "        self.value = self.initial_value"
   ]
  },
  {
   "cell_type": "code",
   "execution_count": 9,
   "metadata": {},
   "outputs": [
    {
     "name": "stdout",
     "output_type": "stream",
     "text": [
      "0 0.5590779458944112 ConstantSchedule(value=0.559)\n",
      "1 0.5590779458944112 ConstantSchedule(value=0.559)\n",
      "2 0.5590779458944112 ConstantSchedule(value=0.559)\n",
      "3 0.5590779458944112 ConstantSchedule(value=0.559)\n",
      "4 0.5590779458944112 ConstantSchedule(value=0.559)\n",
      "0 ConstantSchedule(value=0.559)\n",
      "ConstantSchedule(value=0.559)\n",
      "0.5590779458944112 0.5590779458944112 0.5590779458944112\n"
     ]
    },
    {
     "data": {
      "image/png": "[encoded data removed]",
      "text/plain": [
       "<Figure size 432x288 with 1 Axes>"
      ]
     },
     "metadata": {
      "needs_background": "light"
     },
     "output_type": "display_data"
    }
   ],
   "source": [
    "s = ConstantSchedule(value=uniform().rvs())\n",
    "for i in range(np.random.randint(10)):\n",
    "    print(s._t, s(), s)\n",
    "s.reset()\n",
    "print(s._t, s)\n",
    "x, y = [], []\n",
    "for i in range(1000):\n",
    "    x.append(i)\n",
    "    y.append(s())\n",
    "print(s)\n",
    "print(np.min(y), np.mean(y), np.max(y))\n",
    "plt.plot(x, y)\n",
    "plt.show()"
   ]
  },
  {
   "cell_type": "code",
   "execution_count": 10,
   "metadata": {},
   "outputs": [
    {
     "name": "stdout",
     "output_type": "stream",
     "text": [
      "0 1.0 LinearlyDecayingSchedule(initial_value=1.0, min_value=0.01, decay_rate=0.99, value=1.0)\n",
      "1 0.99 LinearlyDecayingSchedule(initial_value=1.0, min_value=0.01, decay_rate=0.99, value=0.99)\n",
      "2 0.98 LinearlyDecayingSchedule(initial_value=1.0, min_value=0.01, decay_rate=0.99, value=0.98)\n",
      "3 0.97 LinearlyDecayingSchedule(initial_value=1.0, min_value=0.01, decay_rate=0.99, value=0.97)\n",
      "4 0.96 LinearlyDecayingSchedule(initial_value=1.0, min_value=0.01, decay_rate=0.99, value=0.96)\n",
      "5 0.95 LinearlyDecayingSchedule(initial_value=1.0, min_value=0.01, decay_rate=0.99, value=0.95)\n",
      "6 0.94 LinearlyDecayingSchedule(initial_value=1.0, min_value=0.01, decay_rate=0.99, value=0.94)\n",
      "7 0.9299999999999999 LinearlyDecayingSchedule(initial_value=1.0, min_value=0.01, decay_rate=0.99, value=0.93)\n",
      "8 0.9199999999999999 LinearlyDecayingSchedule(initial_value=1.0, min_value=0.01, decay_rate=0.99, value=0.92)\n",
      "0 LinearlyDecayingSchedule(initial_value=1.0, min_value=0.01, decay_rate=0.99, value=1.0)\n",
      "LinearlyDecayingSchedule(initial_value=1.0, min_value=0.01, decay_rate=0.99, value=0.01)\n",
      "0.01 0.05949999999999995 1.0\n"
     ]
    },
    {
     "data": {
      "image/png": "[encoded data removed]",
      "text/plain": [
       "<Figure size 432x288 with 1 Axes>"
      ]
     },
     "metadata": {
      "needs_background": "light"
     },
     "output_type": "display_data"
    }
   ],
   "source": [
    "s = LinearlyDecayingSchedule(initial_value=1.0, min_value=0.01, decay_rate=0.99)\n",
    "for i in range(np.random.randint(10)):\n",
    "    print(s._t, s(), s)\n",
    "s.reset()\n",
    "print(s._t, s)\n",
    "x, y = [], []\n",
    "for i in range(1000):\n",
    "    x.append(i)\n",
    "    y.append(s())\n",
    "print(s)\n",
    "print(np.min(y), np.mean(y), np.max(y))\n",
    "plt.plot(x, y)\n",
    "plt.show()"
   ]
  },
  {
   "cell_type": "code",
   "execution_count": 11,
   "metadata": {},
   "outputs": [
    {
     "name": "stdout",
     "output_type": "stream",
     "text": [
      "0 1.0 ExponentiallyDecayingSchedule(initial_value=1.0, min_value=0.01, decay_rate=0.99, value=1.0)\n",
      "1 0.990049833749168 ExponentiallyDecayingSchedule(initial_value=1.0, min_value=0.01, decay_rate=0.99, value=0.99)\n",
      "2 0.9801986733067553 ExponentiallyDecayingSchedule(initial_value=1.0, min_value=0.01, decay_rate=0.99, value=0.98)\n",
      "3 0.9704455335485082 ExponentiallyDecayingSchedule(initial_value=1.0, min_value=0.01, decay_rate=0.99, value=0.97)\n",
      "4 0.9607894391523232 ExponentiallyDecayingSchedule(initial_value=1.0, min_value=0.01, decay_rate=0.99, value=0.961)\n",
      "5 0.951229424500714 ExponentiallyDecayingSchedule(initial_value=1.0, min_value=0.01, decay_rate=0.99, value=0.951)\n",
      "6 0.9417645335842486 ExponentiallyDecayingSchedule(initial_value=1.0, min_value=0.01, decay_rate=0.99, value=0.942)\n",
      "0 ExponentiallyDecayingSchedule(initial_value=1.0, min_value=0.01, decay_rate=0.99, value=1.0)\n",
      "ExponentiallyDecayingSchedule(initial_value=1.0, min_value=0.01, decay_rate=0.99, value=0.01)\n",
      "0.01 0.10489066729883752 1.0\n"
     ]
    },
    {
     "data": {
      "image/png": "[encoded data removed]",
      "text/plain": [
       "<Figure size 432x288 with 1 Axes>"
      ]
     },
     "metadata": {
      "needs_background": "light"
     },
     "output_type": "display_data"
    }
   ],
   "source": [
    "s = ExponentiallyDecayingSchedule(initial_value=1.0, min_value=0.01, decay_rate=0.99)\n",
    "for i in range(np.random.randint(10)):\n",
    "    print(s._t, s(), s)\n",
    "s.reset()\n",
    "print(s._t, s)\n",
    "x, y = [], []\n",
    "for i in range(1000):\n",
    "    x.append(i)\n",
    "    y.append(s())\n",
    "print(s)\n",
    "print(np.min(y), np.mean(y), np.max(y))\n",
    "plt.plot(x, y)\n",
    "plt.show()"
   ]
  },
  {
   "cell_type": "code",
   "execution_count": 12,
   "metadata": {},
   "outputs": [],
   "source": [
    "class EpsilonGreedyPolicy():\n",
    "    def __init__(self, epsilon_schedule):\n",
    "        self.epsilon_schedule = epsilon_schedule\n",
    "        self.epsilon = self.epsilon_schedule()\n",
    "    def reset(self):\n",
    "        self.epsilon_schedule.reset()\n",
    "    def select_action(self, Qs):\n",
    "        action = np.argmax(Qs) if np.random.random() > self.epsilon else np.random.randint(len(Qs))\n",
    "        self.epsilon = self.epsilon_schedule()\n",
    "        return action\n",
    "    def __repr__(self):\n",
    "        class_name = self.__class__.__name__\n",
    "        return \"{}(epsilon={}, {})\".format(class_name, self.epsilon, self.epsilon_schedule)"
   ]
  },
  {
   "cell_type": "code",
   "execution_count": 13,
   "metadata": {},
   "outputs": [
    {
     "data": {
      "text/plain": [
       "EpsilonGreedyPolicy(epsilon=0.9, ExponentiallyDecayingSchedule(initial_value=0.9, min_value=0.1, decay_rate=0.054, value=0.9))"
      ]
     },
     "execution_count": 13,
     "metadata": {},
     "output_type": "execute_result"
    }
   ],
   "source": [
    "s = EpsilonGreedyPolicy(\n",
    "    epsilon_schedule=ExponentiallyDecayingSchedule(\n",
    "        initial_value=0.9, \n",
    "        min_value=0.1, \n",
    "        decay_rate=uniform().rvs()))\n",
    "s"
   ]
  },
  {
   "cell_type": "code",
   "execution_count": 14,
   "metadata": {},
   "outputs": [
    {
     "name": "stdout",
     "output_type": "stream",
     "text": [
      "0.6178651223109696 0.9570024264053262 0.9996047752678702\n"
     ]
    },
    {
     "data": {
      "image/png": "[encoded data removed]",
      "text/plain": [
       "<Figure size 432x288 with 1 Axes>"
      ]
     },
     "metadata": {
      "needs_background": "light"
     },
     "output_type": "display_data"
    }
   ],
   "source": [
    "lot = [argus(6).rvs() for _ in range(1000)]\n",
    "print(np.min(lot), np.mean(lot), np.max(lot))\n",
    "plt.hist(lot)\n",
    "plt.show()"
   ]
  },
  {
   "cell_type": "code",
   "execution_count": 15,
   "metadata": {},
   "outputs": [
    {
     "name": "stdout",
     "output_type": "stream",
     "text": [
      "0.00028304947466095687 0.06357843216464149 0.6571582874439628\n"
     ]
    },
    {
     "data": {
      "image/png": "[encoded data removed]",
      "text/plain": [
       "<Figure size 432x288 with 1 Axes>"
      ]
     },
     "metadata": {
      "needs_background": "light"
     },
     "output_type": "display_data"
    }
   ],
   "source": [
    "class argus_complement(rv_continuous):\n",
    "    def __init__(self, *args, **kwargs):\n",
    "        self.argus = argus(*args, **kwargs)\n",
    "    def rvs(self, *args, **kwargs):\n",
    "        argus_value = self.argus.rvs(*args, **kwargs) \n",
    "        return min(max(0.0, 1 - argus_value), 1.0)\n",
    "lot = [argus_complement(5).rvs() for _ in range(1000)]\n",
    "print(np.min(lot), np.mean(lot), np.max(lot))\n",
    "plt.hist(lot)\n",
    "plt.show()"
   ]
  },
  {
   "cell_type": "code",
   "execution_count": 16,
   "metadata": {},
   "outputs": [
    {
     "name": "stdout",
     "output_type": "stream",
     "text": [
      "0.052064305375783486 0.4949295933838398 0.8780826621473985\n"
     ]
    },
    {
     "data": {
      "image/png": "[encoded data removed]",
      "text/plain": [
       "<Figure size 432x288 with 1 Axes>"
      ]
     },
     "metadata": {
      "needs_background": "light"
     },
     "output_type": "display_data"
    }
   ],
   "source": [
    "lot = [beta(5, 5).rvs() for _ in range(1000)]\n",
    "print(np.min(lot), np.mean(lot), np.max(lot))\n",
    "plt.hist(lot)\n",
    "plt.show()"
   ]
  },
  {
   "cell_type": "code",
   "execution_count": 17,
   "metadata": {},
   "outputs": [
    {
     "name": "stdout",
     "output_type": "stream",
     "text": [
      "0.8036336443251092 0.9684999230871184 0.9999945715510861\n"
     ]
    },
    {
     "data": {
      "image/png": "[encoded data removed]",
      "text/plain": [
       "<Figure size 432x288 with 1 Axes>"
      ]
     },
     "metadata": {
      "needs_background": "light"
     },
     "output_type": "display_data"
    }
   ],
   "source": [
    "class beta_complement(rv_continuous):\n",
    "    def __init__(self, *args, **kwargs):\n",
    "        self.beta = beta(*args, **kwargs)\n",
    "    def rvs(self, *args, **kwargs):\n",
    "        beta_value = self.beta.rvs(*args, **kwargs) \n",
    "        return min(max(0, 1 - beta_value), 1.0)\n",
    "lot = [beta_complement(1, 30).rvs() for _ in range(1000)]\n",
    "print(np.min(lot), np.mean(lot), np.max(lot))\n",
    "plt.hist(lot)\n",
    "plt.show()"
   ]
  },
  {
   "cell_type": "code",
   "execution_count": 18,
   "metadata": {},
   "outputs": [
    {
     "data": {
      "image/png": "[encoded data removed]",
      "text/plain": [
       "<Figure size 432x288 with 1 Axes>"
      ]
     },
     "metadata": {
      "needs_background": "light"
     },
     "output_type": "display_data"
    }
   ],
   "source": [
    "def c_softmax(x, sf=1, mag=2, shift=1):\n",
    "    return 1/(1 + np.exp(-x * sf)) * mag - shift\n",
    "x = np.arange(-2, 2, 0.01)\n",
    "lot = [c_softmax(i, 1, 2, 1) for i in x]\n",
    "plt.plot(x, lot)\n",
    "plt.show()"
   ]
  },
  {
   "cell_type": "code",
   "execution_count": 19,
   "metadata": {},
   "outputs": [
    {
     "data": {
      "image/png": "[encoded data removed]",
      "text/plain": [
       "<Figure size 432x288 with 1 Axes>"
      ]
     },
     "metadata": {
      "needs_background": "light"
     },
     "output_type": "display_data"
    }
   ],
   "source": [
    "def p_tanh(x, power=3, expl=0.001, mag=1, shift=0):\n",
    "    return np.tanh(np.power(x, power) * expl) * mag - shift\n",
    "x = np.arange(-15, 15, 0.01)\n",
    "lot = [p_tanh(i) for i in x]\n",
    "plt.plot(x, lot)\n",
    "plt.show()"
   ]
  },
  {
   "cell_type": "code",
   "execution_count": 20,
   "metadata": {},
   "outputs": [
    {
     "data": {
      "image/png": "[encoded data removed]",
      "text/plain": [
       "<Figure size 432x288 with 1 Axes>"
      ]
     },
     "metadata": {
      "needs_background": "light"
     },
     "output_type": "display_data"
    }
   ],
   "source": [
    "def t_power(x, power=2, expl=0.5, mag=2, shift=1):\n",
    "    return np.tanh(np.sign(x) * np.power(x, power) * expl) * mag - shift\n",
    "x = np.arange(0, 5, 0.01)\n",
    "lot = [t_power(i, power=2, expl=0.5) for i in x]\n",
    "plt.plot(x, lot)\n",
    "plt.show()"
   ]
  },
  {
   "cell_type": "code",
   "execution_count": 21,
   "metadata": {},
   "outputs": [],
   "source": [
    "class TrainingConfiguration:\n",
    "    def __init__(self, seeds, environments):\n",
    "        self.seeds = seeds\n",
    "        self.environments = environments\n",
    "    def data(self):\n",
    "        return [(seed, self.environments) for seed in self.seeds]"
   ]
  },
  {
   "cell_type": "code",
   "execution_count": 22,
   "metadata": {},
   "outputs": [],
   "source": [
    "class TrainingEnvironment:\n",
    "    def __init__(self, \n",
    "                 env, \n",
    "                 gamma,\n",
    "                 max_episodes, \n",
    "                 goal_mean_reward,\n",
    "                 training_mean_reward_weight,\n",
    "                 training_episodes_weight,\n",
    "                 evaluation_mean_reward_weight):\n",
    "        self.env = env\n",
    "        self.gamma = gamma\n",
    "        self.max_episodes = max_episodes\n",
    "        self.goal_mean_reward = goal_mean_reward\n",
    "        self.training_mean_reward_weight = training_mean_reward_weight\n",
    "        self.training_episodes_weight = training_episodes_weight\n",
    "        self.evaluation_mean_reward_weight = evaluation_mean_reward_weight\n",
    "    def get_environment_name(self):\n",
    "        return self.env.unwrapped.__class__.__name__"
   ]
  },
  {
   "cell_type": "code",
   "execution_count": 23,
   "metadata": {},
   "outputs": [],
   "source": [
    "seeds = (\n",
    "    12,\n",
    "    34,\n",
    "    56,\n",
    "    78,\n",
    "    90,\n",
    ")\n",
    "\n",
    "environments = (\n",
    "    TrainingEnvironment(\n",
    "        env=gym.make('FrozenLake-v0'), \n",
    "        gamma=0.99,\n",
    "        max_episodes=5000,\n",
    "        goal_mean_reward=0.70,\n",
    "        training_mean_reward_weight=0.1,\n",
    "        training_episodes_weight=0.2,\n",
    "        evaluation_mean_reward_weight=0.7,\n",
    "    ),\n",
    "    #TrainingEnvironment(\n",
    "    #    env=gym.make('Taxi-v2'), \n",
    "    #    max_episodes=100000,\n",
    "    #    goal_mean_reward=800,\n",
    "    #    training_mean_reward_weight=0.03,\n",
    "    #    training_episodes_weight=0.07,\n",
    "    #    evaluation_mean_reward_weight=0.9,\n",
    "    #),\n",
    ")\n",
    "\n",
    "training_configuration = TrainingConfiguration(seeds=seeds, environments=environments)"
   ]
  },
  {
   "cell_type": "code",
   "execution_count": 24,
   "metadata": {},
   "outputs": [],
   "source": [
    "class ParamGrid():\n",
    "    def __init__(self):\n",
    "        self.grid = {}\n",
    "    def add(self, param, func, times=5):\n",
    "        if param not in self.grid:\n",
    "            self.grid[param] = []\n",
    "        self.grid[param] += [func() for _ in range(times)]\n",
    "    def data(self):\n",
    "        return self.grid\n",
    "    def __len__(self):\n",
    "        count = 0\n",
    "        for k, v in self.grid.items():\n",
    "            count += len(v)\n",
    "        return count"
   ]
  },
  {
   "cell_type": "code",
   "execution_count": 25,
   "metadata": {
    "scrolled": true
   },
   "outputs": [
    {
     "data": {
      "text/plain": [
       "{'alpha': [ConstantSchedule(value=0.603),\n",
       "  ConstantSchedule(value=0.723),\n",
       "  ConstantSchedule(value=0.744),\n",
       "  ConstantSchedule(value=0.341),\n",
       "  ConstantSchedule(value=0.393),\n",
       "  LinearlyDecayingSchedule(initial_value=1.0, min_value=0.098, decay_rate=1.0, value=1.0),\n",
       "  LinearlyDecayingSchedule(initial_value=1.0, min_value=0.168, decay_rate=0.99, value=1.0),\n",
       "  LinearlyDecayingSchedule(initial_value=1.0, min_value=0.137, decay_rate=0.998, value=1.0),\n",
       "  LinearlyDecayingSchedule(initial_value=1.0, min_value=0.071, decay_rate=0.958, value=1.0),\n",
       "  LinearlyDecayingSchedule(initial_value=1.0, min_value=0.052, decay_rate=0.976, value=1.0),\n",
       "  ExponentiallyDecayingSchedule(initial_value=1.0, min_value=0.06, decay_rate=0.994, value=1.0),\n",
       "  ExponentiallyDecayingSchedule(initial_value=1.0, min_value=0.073, decay_rate=0.964, value=1.0),\n",
       "  ExponentiallyDecayingSchedule(initial_value=1.0, min_value=0.111, decay_rate=0.998, value=1.0),\n",
       "  ExponentiallyDecayingSchedule(initial_value=1.0, min_value=0.09, decay_rate=0.996, value=1.0),\n",
       "  ExponentiallyDecayingSchedule(initial_value=1.0, min_value=0.074, decay_rate=0.991, value=1.0)],\n",
       " 'behavioral_strategy': [EpsilonGreedyPolicy(epsilon=0.09891688511742908, ConstantSchedule(value=0.099)),\n",
       "  EpsilonGreedyPolicy(epsilon=0.0620865541722682, ConstantSchedule(value=0.062)),\n",
       "  EpsilonGreedyPolicy(epsilon=0.11536442599539684, ConstantSchedule(value=0.115)),\n",
       "  EpsilonGreedyPolicy(epsilon=0.11386286623716069, ConstantSchedule(value=0.114)),\n",
       "  EpsilonGreedyPolicy(epsilon=0.0775019291289278, ConstantSchedule(value=0.078)),\n",
       "  EpsilonGreedyPolicy(epsilon=1.0, LinearlyDecayingSchedule(initial_value=1.0, min_value=0.012, decay_rate=1.0, value=1.0)),\n",
       "  EpsilonGreedyPolicy(epsilon=1.0, LinearlyDecayingSchedule(initial_value=1.0, min_value=0.009, decay_rate=0.988, value=1.0)),\n",
       "  EpsilonGreedyPolicy(epsilon=1.0, LinearlyDecayingSchedule(initial_value=1.0, min_value=0.007, decay_rate=0.998, value=1.0)),\n",
       "  EpsilonGreedyPolicy(epsilon=1.0, LinearlyDecayingSchedule(initial_value=1.0, min_value=0.028, decay_rate=0.993, value=1.0)),\n",
       "  EpsilonGreedyPolicy(epsilon=1.0, LinearlyDecayingSchedule(initial_value=1.0, min_value=0.001, decay_rate=0.98, value=1.0)),\n",
       "  EpsilonGreedyPolicy(epsilon=1.0, ExponentiallyDecayingSchedule(initial_value=1.0, min_value=0.01, decay_rate=0.999, value=1.0)),\n",
       "  EpsilonGreedyPolicy(epsilon=1.0, ExponentiallyDecayingSchedule(initial_value=1.0, min_value=0.005, decay_rate=0.996, value=1.0)),\n",
       "  EpsilonGreedyPolicy(epsilon=1.0, ExponentiallyDecayingSchedule(initial_value=1.0, min_value=0.023, decay_rate=0.993, value=1.0)),\n",
       "  EpsilonGreedyPolicy(epsilon=1.0, ExponentiallyDecayingSchedule(initial_value=1.0, min_value=0.001, decay_rate=0.997, value=1.0)),\n",
       "  EpsilonGreedyPolicy(epsilon=1.0, ExponentiallyDecayingSchedule(initial_value=1.0, min_value=0.005, decay_rate=0.999, value=1.0))]}"
      ]
     },
     "execution_count": 25,
     "metadata": {},
     "output_type": "execute_result"
    }
   ],
   "source": [
    "grid = ParamGrid()\n",
    "grid.add(\n",
    "    'alpha', \n",
    "    lambda: ConstantSchedule(\n",
    "        value=beta(5, 5).rvs()\n",
    "    )\n",
    ")\n",
    "grid.add(\n",
    "    'alpha', \n",
    "    lambda: LinearlyDecayingSchedule(\n",
    "        initial_value=1.0, \n",
    "        min_value=beta(10, 80).rvs(), \n",
    "        decay_rate=beta(50, 0.6).rvs()\n",
    "    )\n",
    ")\n",
    "grid.add(\n",
    "    'alpha', \n",
    "    lambda: ExponentiallyDecayingSchedule(\n",
    "        initial_value=1.0, \n",
    "        min_value=beta(10, 80).rvs(), \n",
    "        decay_rate=beta(50, 0.6).rvs()\n",
    "    )\n",
    ")\n",
    "grid.add(\n",
    "    'behavioral_strategy', \n",
    "    lambda: EpsilonGreedyPolicy(\n",
    "        epsilon_schedule=ConstantSchedule(\n",
    "            value=beta(5, 50).rvs()\n",
    "        )\n",
    "    )\n",
    ")\n",
    "grid.add(\n",
    "    'behavioral_strategy', \n",
    "    lambda: EpsilonGreedyPolicy(\n",
    "        epsilon_schedule=LinearlyDecayingSchedule(\n",
    "            initial_value=1.0, \n",
    "            min_value=beta(1, 100).rvs(),\n",
    "            decay_rate=beta(50, 0.6).rvs()\n",
    "        )\n",
    "    )\n",
    ")\n",
    "grid.add(\n",
    "    'behavioral_strategy', \n",
    "    lambda: EpsilonGreedyPolicy(\n",
    "        epsilon_schedule=ExponentiallyDecayingSchedule(\n",
    "            initial_value=1.0, \n",
    "            min_value=beta(1, 100).rvs(),\n",
    "            decay_rate=beta(50, 0.6).rvs()\n",
    "        )\n",
    "    )\n",
    ")\n",
    "grid.data()"
   ]
  },
  {
   "cell_type": "code",
   "execution_count": 26,
   "metadata": {},
   "outputs": [],
   "source": [
    "class OneToOneCV:\n",
    "    def get_n_splits(self, X=None, y=None, groups=None):\n",
    "        return len(X)\n",
    "    def split(self, X, y=None, groups=None):\n",
    "        for i in range(len(X)):\n",
    "            yield [np.array([i]), np.array([i])]"
   ]
  },
  {
   "cell_type": "code",
   "execution_count": 27,
   "metadata": {
    "scrolled": true
   },
   "outputs": [
    {
     "name": "stdout",
     "output_type": "stream",
     "text": [
      "Training on FrozenLakeEnv environment with seed 34 and params {'behavioral_strategy': EpsilonGreedyPolicy(epsilon=1.0, LinearlyDecayingSchedule(initial_value=1.0, min_value=0.009, decay_rate=0.988, value=1.0)), 'alpha': LinearlyDecayingSchedule(initial_value=1.0, min_value=0.168, decay_rate=0.99, value=1.0)}\n",
      "Training on FrozenLakeEnv environment with seed 12 and params {'behavioral_strategy': EpsilonGreedyPolicy(epsilon=1.0, LinearlyDecayingSchedule(initial_value=1.0, min_value=0.009, decay_rate=0.988, value=1.0)), 'alpha': LinearlyDecayingSchedule(initial_value=1.0, min_value=0.168, decay_rate=0.99, value=1.0)}\n",
      "Training on FrozenLakeEnv environment with seed 78 and params {'behavioral_strategy': EpsilonGreedyPolicy(epsilon=1.0, LinearlyDecayingSchedule(initial_value=1.0, min_value=0.009, decay_rate=0.988, value=1.0)), 'alpha': LinearlyDecayingSchedule(initial_value=1.0, min_value=0.168, decay_rate=0.99, value=1.0)}\n",
      "Training on FrozenLakeEnv environment with seed 56 and params {'behavioral_strategy': EpsilonGreedyPolicy(epsilon=1.0, LinearlyDecayingSchedule(initial_value=1.0, min_value=0.009, decay_rate=0.988, value=1.0)), 'alpha': LinearlyDecayingSchedule(initial_value=1.0, min_value=0.168, decay_rate=0.99, value=1.0)}\n",
      "Training on FrozenLakeEnv environment with seed 90 and params {'behavioral_strategy': EpsilonGreedyPolicy(epsilon=1.0, LinearlyDecayingSchedule(initial_value=1.0, min_value=0.009, decay_rate=0.988, value=1.0)), 'alpha': LinearlyDecayingSchedule(initial_value=1.0, min_value=0.168, decay_rate=0.99, value=1.0)}\n",
      "Training on FrozenLakeEnv environment with seed 12 and params {'behavioral_strategy': EpsilonGreedyPolicy(epsilon=1.0, LinearlyDecayingSchedule(initial_value=1.0, min_value=0.012, decay_rate=1.0, value=1.0)), 'alpha': LinearlyDecayingSchedule(initial_value=1.0, min_value=0.071, decay_rate=0.958, value=1.0)}\n",
      "Training on FrozenLakeEnv environment with seed 34 and params {'behavioral_strategy': EpsilonGreedyPolicy(epsilon=1.0, LinearlyDecayingSchedule(initial_value=1.0, min_value=0.012, decay_rate=1.0, value=1.0)), 'alpha': LinearlyDecayingSchedule(initial_value=1.0, min_value=0.071, decay_rate=0.958, value=1.0)}\n",
      "Training on FrozenLakeEnv environment with seed 56 and params {'behavioral_strategy': EpsilonGreedyPolicy(epsilon=1.0, LinearlyDecayingSchedule(initial_value=1.0, min_value=0.012, decay_rate=1.0, value=1.0)), 'alpha': LinearlyDecayingSchedule(initial_value=1.0, min_value=0.071, decay_rate=0.958, value=1.0)}\n",
      "Training on FrozenLakeEnv environment with seed 56 and params {'behavioral_strategy': EpsilonGreedyPolicy(epsilon=0.11536442599539684, ConstantSchedule(value=0.115)), 'alpha': ConstantSchedule(value=0.723)}\n",
      "Training on FrozenLakeEnv environment with seed 90 and params {'behavioral_strategy': EpsilonGreedyPolicy(epsilon=0.11536442599539684, ConstantSchedule(value=0.115)), 'alpha': ConstantSchedule(value=0.723)}\n",
      "Training on FrozenLakeEnv environment with seed 34 and params {'behavioral_strategy': EpsilonGreedyPolicy(epsilon=0.11386286623716069, ConstantSchedule(value=0.114)), 'alpha': LinearlyDecayingSchedule(initial_value=1.0, min_value=0.052, decay_rate=0.976, value=1.0)}\n",
      "Training on FrozenLakeEnv environment with seed 12 and params {'behavioral_strategy': EpsilonGreedyPolicy(epsilon=0.11386286623716069, ConstantSchedule(value=0.114)), 'alpha': LinearlyDecayingSchedule(initial_value=1.0, min_value=0.052, decay_rate=0.976, value=1.0)}\n",
      "Training on FrozenLakeEnv environment with seed 78 and params {'behavioral_strategy': EpsilonGreedyPolicy(epsilon=0.11536442599539684, ConstantSchedule(value=0.115)), 'alpha': ConstantSchedule(value=0.723)}\n",
      "Training on FrozenLakeEnv environment with seed 56 and params {'behavioral_strategy': EpsilonGreedyPolicy(epsilon=0.11386286623716069, ConstantSchedule(value=0.114)), 'alpha': LinearlyDecayingSchedule(initial_value=1.0, min_value=0.052, decay_rate=0.976, value=1.0)}\n",
      "Training on FrozenLakeEnv environment with seed 78 and params {'behavioral_strategy': EpsilonGreedyPolicy(epsilon=0.11386286623716069, ConstantSchedule(value=0.114)), 'alpha': LinearlyDecayingSchedule(initial_value=1.0, min_value=0.052, decay_rate=0.976, value=1.0)}\n",
      "Training on FrozenLakeEnv environment with seed 90 and params {'behavioral_strategy': EpsilonGreedyPolicy(epsilon=0.11386286623716069, ConstantSchedule(value=0.114)), 'alpha': LinearlyDecayingSchedule(initial_value=1.0, min_value=0.052, decay_rate=0.976, value=1.0)}\n",
      "Training on FrozenLakeEnv environment with seed 12 and params {'behavioral_strategy': EpsilonGreedyPolicy(epsilon=0.0620865541722682, ConstantSchedule(value=0.062)), 'alpha': ConstantSchedule(value=0.341)}\n",
      "Training on FrozenLakeEnv environment with seed 56 and params {'behavioral_strategy': EpsilonGreedyPolicy(epsilon=0.0620865541722682, ConstantSchedule(value=0.062)), 'alpha': ConstantSchedule(value=0.341)}\n",
      "Training on FrozenLakeEnv environment with seed 78 and params {'behavioral_strategy': EpsilonGreedyPolicy(epsilon=0.0620865541722682, ConstantSchedule(value=0.062)), 'alpha': ConstantSchedule(value=0.341)}\n",
      "Training on FrozenLakeEnv environment with seed 34 and params {'behavioral_strategy': EpsilonGreedyPolicy(epsilon=0.0620865541722682, ConstantSchedule(value=0.062)), 'alpha': ConstantSchedule(value=0.341)}\n",
      "Training on FrozenLakeEnv environment with seed 90 and params {'behavioral_strategy': EpsilonGreedyPolicy(epsilon=0.0620865541722682, ConstantSchedule(value=0.062)), 'alpha': ConstantSchedule(value=0.341)}\n",
      "Training on FrozenLakeEnv environment with seed 12 and params {'behavioral_strategy': EpsilonGreedyPolicy(epsilon=0.11536442599539684, ConstantSchedule(value=0.115)), 'alpha': ConstantSchedule(value=0.723)}\n",
      "Training on FrozenLakeEnv environment with seed 12 and params {'behavioral_strategy': EpsilonGreedyPolicy(epsilon=1.0, ExponentiallyDecayingSchedule(initial_value=1.0, min_value=0.001, decay_rate=0.997, value=1.0)), 'alpha': ExponentiallyDecayingSchedule(initial_value=1.0, min_value=0.09, decay_rate=0.996, value=1.0)}\n",
      "Training on FrozenLakeEnv environment with seed 56 and params {'behavioral_strategy': EpsilonGreedyPolicy(epsilon=1.0, ExponentiallyDecayingSchedule(initial_value=1.0, min_value=0.001, decay_rate=0.997, value=1.0)), 'alpha': ExponentiallyDecayingSchedule(initial_value=1.0, min_value=0.09, decay_rate=0.996, value=1.0)}\n",
      "Training on FrozenLakeEnv environment with seed 34 and params {'behavioral_strategy': EpsilonGreedyPolicy(epsilon=1.0, ExponentiallyDecayingSchedule(initial_value=1.0, min_value=0.001, decay_rate=0.997, value=1.0)), 'alpha': ExponentiallyDecayingSchedule(initial_value=1.0, min_value=0.09, decay_rate=0.996, value=1.0)}\n"
     ]
    },
    {
     "data": {
      "application/vnd.jupyter.widget-view+json": {
       "model_id": "f4c2d8e6182042a38529ca41cfb3d5cf",
       "version_major": 2,
       "version_minor": 0
      },
      "text/plain": [
       "HBox(children=(IntProgress(value=0, max=5000), HTML(value='')))"
      ]
     },
     "metadata": {},
     "output_type": "display_data"
    },
    {
     "name": "stdout",
     "output_type": "stream",
     "text": [
      "Training on FrozenLakeEnv environment with seed 90 and params {'behavioral_strategy': EpsilonGreedyPolicy(epsilon=1.0, ExponentiallyDecayingSchedule(initial_value=1.0, min_value=0.001, decay_rate=0.997, value=1.0)), 'alpha': ExponentiallyDecayingSchedule(initial_value=1.0, min_value=0.09, decay_rate=0.996, value=1.0)}\n",
      "Training on FrozenLakeEnv environment with seed 78 and params {'behavioral_strategy': EpsilonGreedyPolicy(epsilon=1.0, ExponentiallyDecayingSchedule(initial_value=1.0, min_value=0.001, decay_rate=0.997, value=1.0)), 'alpha': ExponentiallyDecayingSchedule(initial_value=1.0, min_value=0.09, decay_rate=0.996, value=1.0)}\n",
      "Training on FrozenLakeEnv environment with seed 34 and params {'behavioral_strategy': EpsilonGreedyPolicy(epsilon=0.09891688511742908, ConstantSchedule(value=0.099)), 'alpha': ExponentiallyDecayingSchedule(initial_value=1.0, min_value=0.074, decay_rate=0.991, value=1.0)}\n",
      "Training on FrozenLakeEnv environment with seed 78 and params {'behavioral_strategy': EpsilonGreedyPolicy(epsilon=1.0, LinearlyDecayingSchedule(initial_value=1.0, min_value=0.012, decay_rate=1.0, value=1.0)), 'alpha': LinearlyDecayingSchedule(initial_value=1.0, min_value=0.071, decay_rate=0.958, value=1.0)}\n",
      "Training on FrozenLakeEnv environment with seed 12 and params {'behavioral_strategy': EpsilonGreedyPolicy(epsilon=0.09891688511742908, ConstantSchedule(value=0.099)), 'alpha': ExponentiallyDecayingSchedule(initial_value=1.0, min_value=0.074, decay_rate=0.991, value=1.0)}\n",
      "Training on FrozenLakeEnv environment with seed 34 and params {'behavioral_strategy': EpsilonGreedyPolicy(epsilon=0.11536442599539684, ConstantSchedule(value=0.115)), 'alpha': ConstantSchedule(value=0.723)}\n",
      "Training on FrozenLakeEnv environment with seed 90 and params {'behavioral_strategy': EpsilonGreedyPolicy(epsilon=1.0, LinearlyDecayingSchedule(initial_value=1.0, min_value=0.012, decay_rate=1.0, value=1.0)), 'alpha': LinearlyDecayingSchedule(initial_value=1.0, min_value=0.071, decay_rate=0.958, value=1.0)}\n"
     ]
    },
    {
     "data": {
      "application/vnd.jupyter.widget-view+json": {
       "model_id": "19b2628c42aa4190a8ef30bbe14b9e31",
       "version_major": 2,
       "version_minor": 0
      },
      "text/plain": [
       "HBox(children=(IntProgress(value=0, max=5000), HTML(value='')))"
      ]
     },
     "metadata": {},
     "output_type": "display_data"
    },
    {
     "data": {
      "application/vnd.jupyter.widget-view+json": {
       "model_id": "a4b96177a558472994b027782104d487",
       "version_major": 2,
       "version_minor": 0
      },
      "text/plain": [
       "HBox(children=(IntProgress(value=0, max=5000), HTML(value='')))"
      ]
     },
     "metadata": {},
     "output_type": "display_data"
    },
    {
     "data": {
      "application/vnd.jupyter.widget-view+json": {
       "model_id": "ddfce627fe5d41c39285beac588396cf",
       "version_major": 2,
       "version_minor": 0
      },
      "text/plain": [
       "HBox(children=(IntProgress(value=0, max=5000), HTML(value='')))"
      ]
     },
     "metadata": {},
     "output_type": "display_data"
    },
    {
     "data": {
      "application/vnd.jupyter.widget-view+json": {
       "model_id": "9d4b9dc555f542a6921180d04c025292",
       "version_major": 2,
       "version_minor": 0
      },
      "text/plain": [
       "HBox(children=(IntProgress(value=0, max=5000), HTML(value='')))"
      ]
     },
     "metadata": {},
     "output_type": "display_data"
    },
    {
     "data": {
      "application/vnd.jupyter.widget-view+json": {
       "model_id": "b2bfd007cb4540f1ad3fc7e6fa740f86",
       "version_major": 2,
       "version_minor": 0
      },
      "text/plain": [
       "HBox(children=(IntProgress(value=0, max=5000), HTML(value='')))"
      ]
     },
     "metadata": {},
     "output_type": "display_data"
    },
    {
     "data": {
      "application/vnd.jupyter.widget-view+json": {
       "model_id": "d5b66858f4a6429c940213f145baa662",
       "version_major": 2,
       "version_minor": 0
      },
      "text/plain": [
       "HBox(children=(IntProgress(value=0, max=5000), HTML(value='')))"
      ]
     },
     "metadata": {},
     "output_type": "display_data"
    },
    {
     "data": {
      "application/vnd.jupyter.widget-view+json": {
       "model_id": "0ef6685c0e12414f8f75e09d87f04232",
       "version_major": 2,
       "version_minor": 0
      },
      "text/plain": [
       "HBox(children=(IntProgress(value=0, max=5000), HTML(value='')))"
      ]
     },
     "metadata": {},
     "output_type": "display_data"
    },
    {
     "data": {
      "application/vnd.jupyter.widget-view+json": {
       "model_id": "dbb31c7163534f64b7ca084be7c79f8c",
       "version_major": 2,
       "version_minor": 0
      },
      "text/plain": [
       "HBox(children=(IntProgress(value=0, max=5000), HTML(value='')))"
      ]
     },
     "metadata": {},
     "output_type": "display_data"
    },
    {
     "data": {
      "application/vnd.jupyter.widget-view+json": {
       "model_id": "61dc9ba21c454221be7b1668cf5efcda",
       "version_major": 2,
       "version_minor": 0
      },
      "text/plain": [
       "HBox(children=(IntProgress(value=0, max=5000), HTML(value='')))"
      ]
     },
     "metadata": {},
     "output_type": "display_data"
    },
    {
     "data": {
      "application/vnd.jupyter.widget-view+json": {
       "model_id": "5fd1e8271ff84c5e852fb42d2d9e6c2b",
       "version_major": 2,
       "version_minor": 0
      },
      "text/plain": [
       "HBox(children=(IntProgress(value=0, max=5000), HTML(value='')))"
      ]
     },
     "metadata": {},
     "output_type": "display_data"
    },
    {
     "data": {
      "application/vnd.jupyter.widget-view+json": {
       "model_id": "73539e43025a4fdbb2f5769acab3da53",
       "version_major": 2,
       "version_minor": 0
      },
      "text/plain": [
       "HBox(children=(IntProgress(value=0, max=5000), HTML(value='')))"
      ]
     },
     "metadata": {},
     "output_type": "display_data"
    },
    {
     "data": {
      "application/vnd.jupyter.widget-view+json": {
       "model_id": "3d08b99f428247a18c4543c7356876a8",
       "version_major": 2,
       "version_minor": 0
      },
      "text/plain": [
       "HBox(children=(IntProgress(value=0, max=5000), HTML(value='')))"
      ]
     },
     "metadata": {},
     "output_type": "display_data"
    },
    {
     "data": {
      "application/vnd.jupyter.widget-view+json": {
       "model_id": "a473c067eb2142f48b6e23415fdab531",
       "version_major": 2,
       "version_minor": 0
      },
      "text/plain": [
       "HBox(children=(IntProgress(value=0, max=5000), HTML(value='')))"
      ]
     },
     "metadata": {},
     "output_type": "display_data"
    },
    {
     "data": {
      "application/vnd.jupyter.widget-view+json": {
       "model_id": "a34619d5d55c40d793b08c6216251802",
       "version_major": 2,
       "version_minor": 0
      },
      "text/plain": [
       "HBox(children=(IntProgress(value=0, max=5000), HTML(value='')))"
      ]
     },
     "metadata": {},
     "output_type": "display_data"
    },
    {
     "data": {
      "application/vnd.jupyter.widget-view+json": {
       "model_id": "c33ffe1ad2e045bf99ed4a304ed2742a",
       "version_major": 2,
       "version_minor": 0
      },
      "text/plain": [
       "HBox(children=(IntProgress(value=0, max=5000), HTML(value='')))"
      ]
     },
     "metadata": {},
     "output_type": "display_data"
    },
    {
     "data": {
      "application/vnd.jupyter.widget-view+json": {
       "model_id": "c16cafe70b6f4bdf8d5e7bba3cc04516",
       "version_major": 2,
       "version_minor": 0
      },
      "text/plain": [
       "HBox(children=(IntProgress(value=0, max=5000), HTML(value='')))"
      ]
     },
     "metadata": {},
     "output_type": "display_data"
    },
    {
     "data": {
      "application/vnd.jupyter.widget-view+json": {
       "model_id": "6abbbc123c4b46cbbaa16f1e17f85cea",
       "version_major": 2,
       "version_minor": 0
      },
      "text/plain": [
       "HBox(children=(IntProgress(value=0, max=5000), HTML(value='')))"
      ]
     },
     "metadata": {},
     "output_type": "display_data"
    },
    {
     "data": {
      "application/vnd.jupyter.widget-view+json": {
       "model_id": "d9036a4846e74f53a27488e42d975fb3",
       "version_major": 2,
       "version_minor": 0
      },
      "text/plain": [
       "HBox(children=(IntProgress(value=0, max=5000), HTML(value='')))"
      ]
     },
     "metadata": {},
     "output_type": "display_data"
    },
    {
     "data": {
      "application/vnd.jupyter.widget-view+json": {
       "model_id": "96f845dab0664e20b2831a44f0b8bffd",
       "version_major": 2,
       "version_minor": 0
      },
      "text/plain": [
       "HBox(children=(IntProgress(value=0, max=5000), HTML(value='')))"
      ]
     },
     "metadata": {},
     "output_type": "display_data"
    },
    {
     "data": {
      "application/vnd.jupyter.widget-view+json": {
       "model_id": "54c683dff529401aad53a79fe728778f",
       "version_major": 2,
       "version_minor": 0
      },
      "text/plain": [
       "HBox(children=(IntProgress(value=0, max=5000), HTML(value='')))"
      ]
     },
     "metadata": {},
     "output_type": "display_data"
    },
    {
     "data": {
      "application/vnd.jupyter.widget-view+json": {
       "model_id": "82e58f7659304f418903e2775df54fb4",
       "version_major": 2,
       "version_minor": 0
      },
      "text/plain": [
       "HBox(children=(IntProgress(value=0, max=5000), HTML(value='')))"
      ]
     },
     "metadata": {},
     "output_type": "display_data"
    },
    {
     "data": {
      "application/vnd.jupyter.widget-view+json": {
       "model_id": "7aa0278c4f114595a355be54be2d11d5",
       "version_major": 2,
       "version_minor": 0
      },
      "text/plain": [
       "HBox(children=(IntProgress(value=0, max=5000), HTML(value='')))"
      ]
     },
     "metadata": {},
     "output_type": "display_data"
    },
    {
     "data": {
      "application/vnd.jupyter.widget-view+json": {
       "model_id": "a2828154d89a489ca3fd39e212a15061",
       "version_major": 2,
       "version_minor": 0
      },
      "text/plain": [
       "HBox(children=(IntProgress(value=0, max=5000), HTML(value='')))"
      ]
     },
     "metadata": {},
     "output_type": "display_data"
    },
    {
     "data": {
      "application/vnd.jupyter.widget-view+json": {
       "model_id": "7281b0bbcc8f4c068a031f4ee288483c",
       "version_major": 2,
       "version_minor": 0
      },
      "text/plain": [
       "HBox(children=(IntProgress(value=0, max=5000), HTML(value='')))"
      ]
     },
     "metadata": {},
     "output_type": "display_data"
    },
    {
     "data": {
      "application/vnd.jupyter.widget-view+json": {
       "model_id": "db901bcf11a0461cb19a22992883c27a",
       "version_major": 2,
       "version_minor": 0
      },
      "text/plain": [
       "HBox(children=(IntProgress(value=0, max=5000), HTML(value='')))"
      ]
     },
     "metadata": {},
     "output_type": "display_data"
    },
    {
     "data": {
      "application/vnd.jupyter.widget-view+json": {
       "model_id": "f5545095a4054121a6f9f3307b548fef",
       "version_major": 2,
       "version_minor": 0
      },
      "text/plain": [
       "HBox(children=(IntProgress(value=0, max=5000), HTML(value='')))"
      ]
     },
     "metadata": {},
     "output_type": "display_data"
    },
    {
     "data": {
      "application/vnd.jupyter.widget-view+json": {
       "model_id": "b181de43eea84dd0aea70e90e33c05d9",
       "version_major": 2,
       "version_minor": 0
      },
      "text/plain": [
       "HBox(children=(IntProgress(value=0, max=5000), HTML(value='')))"
      ]
     },
     "metadata": {},
     "output_type": "display_data"
    },
    {
     "data": {
      "application/vnd.jupyter.widget-view+json": {
       "model_id": "e5a83d2e8dea43fda200505524b30086",
       "version_major": 2,
       "version_minor": 0
      },
      "text/plain": [
       "HBox(children=(IntProgress(value=0, max=5000), HTML(value='')))"
      ]
     },
     "metadata": {},
     "output_type": "display_data"
    },
    {
     "data": {
      "application/vnd.jupyter.widget-view+json": {
       "model_id": "08c20953d00b49c88005174132f2e8d3",
       "version_major": 2,
       "version_minor": 0
      },
      "text/plain": [
       "HBox(children=(IntProgress(value=0, max=5000), HTML(value='')))"
      ]
     },
     "metadata": {},
     "output_type": "display_data"
    },
    {
     "data": {
      "application/vnd.jupyter.widget-view+json": {
       "model_id": "f243a5ac5a9c44279a78a49a93e4453a",
       "version_major": 2,
       "version_minor": 0
      },
      "text/plain": [
       "HBox(children=(IntProgress(value=0, max=5000), HTML(value='')))"
      ]
     },
     "metadata": {},
     "output_type": "display_data"
    },
    {
     "data": {
      "application/vnd.jupyter.widget-view+json": {
       "model_id": "7c314cf5afd5441d9a1ea67c45179a6d",
       "version_major": 2,
       "version_minor": 0
      },
      "text/plain": [
       "HBox(children=(IntProgress(value=0, max=5000), HTML(value='')))"
      ]
     },
     "metadata": {},
     "output_type": "display_data"
    },
    {
     "name": "stdout",
     "output_type": "stream",
     "text": [
      "\n",
      "Score in the FrozenLakeEnv environment with seed 12:\n",
      "Agent = Qlearning(behavioral_strategy=EpsilonGreedyPolicy(epsilon=0.9628540027476498, LinearlyDecayingSchedule(initial_value=1.0, min_value=0.009, decay_rate=0.988, value=0.963)), alpha=LinearlyDecayingSchedule(initial_value=1.0, min_value=0.168, decay_rate=0.99, value=0.168))\n",
      "Score = -0.4657152780942059. Breakdown:\n",
      "\tEvaluation mean reward = 0.54, normalized = -0.9999782399563084, weighted = -0.6999847679694159\n",
      "\tTraining mean reward = 0.71, normalized = 0.3426949069654588, weighted = 0.03426949069654588\n",
      "\tTraining episodes = 901, normalized = 0.9999999958933206, weighted = 0.19999999917866412\n",
      "Total score across all environments for seed 12 = -0.4657152780942059\n",
      "---------------------------------------------\n",
      "\n",
      "Training on FrozenLakeEnv environment with seed 56 and params {'behavioral_strategy': EpsilonGreedyPolicy(epsilon=0.09891688511742908, ConstantSchedule(value=0.099)), 'alpha': ExponentiallyDecayingSchedule(initial_value=1.0, min_value=0.074, decay_rate=0.991, value=1.0)}\n"
     ]
    },
    {
     "data": {
      "application/vnd.jupyter.widget-view+json": {
       "model_id": "c16dde30998b4f3483032acb3700e96d",
       "version_major": 2,
       "version_minor": 0
      },
      "text/plain": [
       "HBox(children=(IntProgress(value=0, max=5000), HTML(value='')))"
      ]
     },
     "metadata": {},
     "output_type": "display_data"
    },
    {
     "name": "stdout",
     "output_type": "stream",
     "text": [
      "\n",
      "\n",
      "Score in the FrozenLakeEnv environment with seed 90:\n",
      "Agent = Qlearning(behavioral_strategy=EpsilonGreedyPolicy(epsilon=0.950472003663533, LinearlyDecayingSchedule(initial_value=1.0, min_value=0.009, decay_rate=0.988, value=0.95)), alpha=LinearlyDecayingSchedule(initial_value=1.0, min_value=0.168, decay_rate=0.99, value=0.168))\n",
      "Score = 0.9939580773746546. Breakdown:\n",
      "\tEvaluation mean reward = 0.78, normalized = 0.9934246772281319, weighted = 0.6953972740596923\n",
      "\tTraining mean reward = 0.77, normalized = 0.9866142981514305, weighted = 0.09866142981514306\n",
      "\tTraining episodes = 1251, normalized = 0.9994968674990963, weighted = 0.19989937349981926\n",
      "Total score across all environments for seed 90 = 0.9939580773746546\n",
      "---------------------------------------------\n",
      "\n",
      "Training on FrozenLakeEnv environment with seed 78 and params {'behavioral_strategy': EpsilonGreedyPolicy(epsilon=0.09891688511742908, ConstantSchedule(value=0.099)), 'alpha': ExponentiallyDecayingSchedule(initial_value=1.0, min_value=0.074, decay_rate=0.991, value=1.0)}\n",
      "Score in the FrozenLakeEnv environment with seed 34:\n",
      "Agent = Qlearning(behavioral_strategy=EpsilonGreedyPolicy(epsilon=0.9997594490893471, LinearlyDecayingSchedule(initial_value=1.0, min_value=0.012, decay_rate=1.0, value=1.0)), alpha=LinearlyDecayingSchedule(initial_value=1.0, min_value=0.071, decay_rate=0.958, value=0.071))\n",
      "Score = 0.9110856890814126. Breakdown:\n",
      "\tEvaluation mean reward = 0.74, normalized = 0.8913734677347187, weighted = 0.623961427414303\n",
      "\tTraining mean reward = 0.74, normalized = 0.8913734677347187, weighted = 0.08913734677347188\n",
      "\tTraining episodes = 1451, normalized = 0.9899345744681884, weighted = 0.1979869148936377\n",
      "Total score across all environments for seed 34 = 0.9110856890814126\n",
      "---------------------------------------------\n",
      "\n",
      "Training on FrozenLakeEnv environment with seed 90 and params {'behavioral_strategy': EpsilonGreedyPolicy(epsilon=0.09891688511742908, ConstantSchedule(value=0.099)), 'alpha': ExponentiallyDecayingSchedule(initial_value=1.0, min_value=0.074, decay_rate=0.991, value=1.0)}\n",
      "\n"
     ]
    },
    {
     "data": {
      "application/vnd.jupyter.widget-view+json": {
       "model_id": "8aff90919bc1443c8dbfa3bfc75db5fd",
       "version_major": 2,
       "version_minor": 0
      },
      "text/plain": [
       "HBox(children=(IntProgress(value=0, max=5000), HTML(value='')))"
      ]
     },
     "metadata": {},
     "output_type": "display_data"
    },
    {
     "name": "stdout",
     "output_type": "stream",
     "text": [
      "Score in the FrozenLakeEnv environment with seed 78:\n",
      "Agent = Qlearning(behavioral_strategy=EpsilonGreedyPolicy(epsilon=0.9876180009158833, LinearlyDecayingSchedule(initial_value=1.0, min_value=0.009, decay_rate=0.988, value=0.988)), alpha=LinearlyDecayingSchedule(initial_value=1.0, min_value=0.168, decay_rate=0.99, value=0.168))\n",
      "Score = -0.4622155317827092. Breakdown:\n",
      "\tEvaluation mean reward = 0.62, normalized = -0.993424677228132, weighted = -0.6953972740596923\n",
      "\tTraining mean reward = 0.71, normalized = 0.3426949069654588, weighted = 0.03426949069654588\n",
      "\tTraining episodes = 1401, normalized = 0.9945612579021861, weighted = 0.19891225158043724\n",
      "Total score across all environments for seed 78 = -0.4622155317827092\n",
      "---------------------------------------------\n",
      "\n",
      "Training on FrozenLakeEnv environment with seed 12 and params {'behavioral_strategy': EpsilonGreedyPolicy(epsilon=1.0, LinearlyDecayingSchedule(initial_value=1.0, min_value=0.001, decay_rate=0.98, value=1.0)), 'alpha': LinearlyDecayingSchedule(initial_value=1.0, min_value=0.052, decay_rate=0.976, value=1.0)}\n"
     ]
    },
    {
     "data": {
      "application/vnd.jupyter.widget-view+json": {
       "model_id": "b6e62d3298784738884832d750d5b9da",
       "version_major": 2,
       "version_minor": 0
      },
      "text/plain": [
       "HBox(children=(IntProgress(value=0, max=5000), HTML(value='')))"
      ]
     },
     "metadata": {},
     "output_type": "display_data"
    },
    {
     "name": "stdout",
     "output_type": "stream",
     "text": [
      "\n",
      "Score in the FrozenLakeEnv environment with seed 56:\n",
      "Agent = Qlearning(behavioral_strategy=EpsilonGreedyPolicy(epsilon=0.9996391736340207, LinearlyDecayingSchedule(initial_value=1.0, min_value=0.012, decay_rate=1.0, value=1.0)), alpha=LinearlyDecayingSchedule(initial_value=1.0, min_value=0.071, decay_rate=0.958, value=0.071))\n",
      "Score = 0.8057841581332867. Breakdown:\n",
      "\tEvaluation mean reward = 0.74, normalized = 0.8913734677347187, weighted = 0.623961427414303\n",
      "\tTraining mean reward = 0.7, normalized = 0.0, weighted = 0.0\n",
      "\tTraining episodes = 1701, normalized = 0.9091136535949187, weighted = 0.18182273071898375\n",
      "Total score across all environments for seed 56 = 0.8057841581332867\n",
      "---------------------------------------------\n",
      "\n",
      "Training on FrozenLakeEnv environment with seed 34 and params {'behavioral_strategy': EpsilonGreedyPolicy(epsilon=1.0, LinearlyDecayingSchedule(initial_value=1.0, min_value=0.001, decay_rate=0.98, value=1.0)), 'alpha': LinearlyDecayingSchedule(initial_value=1.0, min_value=0.052, decay_rate=0.976, value=1.0)}\n"
     ]
    },
    {
     "data": {
      "application/vnd.jupyter.widget-view+json": {
       "model_id": "e44bc429364740ecbc590ee4a4ec85f1",
       "version_major": 2,
       "version_minor": 0
      },
      "text/plain": [
       "HBox(children=(IntProgress(value=0, max=5000), HTML(value='')))"
      ]
     },
     "metadata": {},
     "output_type": "display_data"
    },
    {
     "data": {
      "application/vnd.jupyter.widget-view+json": {
       "model_id": "4c7f6b71a02d482fb0dbda74ca607bfd",
       "version_major": 2,
       "version_minor": 0
      },
      "text/plain": [
       "HBox(children=(IntProgress(value=0, max=5000), HTML(value='')))"
      ]
     },
     "metadata": {},
     "output_type": "display_data"
    },
    {
     "name": "stdout",
     "output_type": "stream",
     "text": [
      "\n",
      "Score in the FrozenLakeEnv environment with seed 56:\n",
      "Agent = Qlearning(behavioral_strategy=EpsilonGreedyPolicy(epsilon=0.8142700137382488, LinearlyDecayingSchedule(initial_value=1.0, min_value=0.009, decay_rate=0.988, value=0.814)), alpha=LinearlyDecayingSchedule(initial_value=1.0, min_value=0.168, decay_rate=0.99, value=0.168))\n",
      "Score = 0.8871530078838054. Breakdown:\n",
      "\tEvaluation mean reward = 0.77, normalized = 0.9866142981514305, weighted = 0.6906300087060013\n",
      "\tTraining mean reward = 0.7, normalized = 0.0, weighted = 0.0\n",
      "\tTraining episodes = 1501, normalized = 0.98261499588902, weighted = 0.19652299917780403\n",
      "Total score across all environments for seed 56 = 0.8871530078838054\n",
      "---------------------------------------------\n",
      "\n",
      "Training on FrozenLakeEnv environment with seed 56 and params {'behavioral_strategy': EpsilonGreedyPolicy(epsilon=1.0, LinearlyDecayingSchedule(initial_value=1.0, min_value=0.001, decay_rate=0.98, value=1.0)), 'alpha': LinearlyDecayingSchedule(initial_value=1.0, min_value=0.052, decay_rate=0.976, value=1.0)}\n"
     ]
    },
    {
     "data": {
      "application/vnd.jupyter.widget-view+json": {
       "model_id": "21ef205ca7184986b40fa23cbb5570c0",
       "version_major": 2,
       "version_minor": 0
      },
      "text/plain": [
       "HBox(children=(IntProgress(value=0, max=5000), HTML(value='')))"
      ]
     },
     "metadata": {},
     "output_type": "display_data"
    },
    {
     "name": "stdout",
     "output_type": "stream",
     "text": [
      "\n",
      "\n",
      "Score in the FrozenLakeEnv environment with seed 90:\n",
      "Agent = Qlearning(behavioral_strategy=EpsilonGreedyPolicy(epsilon=0.9998797245446736, LinearlyDecayingSchedule(initial_value=1.0, min_value=0.012, decay_rate=1.0, value=1.0)), alpha=LinearlyDecayingSchedule(initial_value=1.0, min_value=0.071, decay_rate=0.958, value=0.071))\n",
      "Score = -0.5170859994475904. Breakdown:\n",
      "\tEvaluation mean reward = 0.61, normalized = -0.9967756945029475, weighted = -0.6977429861520632\n",
      "\tTraining mean reward = 0.77, normalized = 0.9866142981514305, weighted = 0.09866142981514306\n",
      "\tTraining episodes = 2151, normalized = 0.40997778444664923, weighted = 0.08199555688932986\n",
      "Total score across all environments for seed 90 = -0.5170859994475904\n",
      "---------------------------------------------\n",
      "\n",
      "Training on FrozenLakeEnv environment with seed 78 and params {'behavioral_strategy': EpsilonGreedyPolicy(epsilon=1.0, LinearlyDecayingSchedule(initial_value=1.0, min_value=0.001, decay_rate=0.98, value=1.0)), 'alpha': LinearlyDecayingSchedule(initial_value=1.0, min_value=0.052, decay_rate=0.976, value=1.0)}\n",
      "Score in the FrozenLakeEnv environment with seed 78:\n",
      "Agent = Qlearning(behavioral_strategy=EpsilonGreedyPolicy(epsilon=0.972295936209412, ExponentiallyDecayingSchedule(initial_value=1.0, min_value=0.001, decay_rate=0.997, value=0.972)), alpha=ExponentiallyDecayingSchedule(initial_value=1.0, min_value=0.09, decay_rate=0.996, value=0.09))\n",
      "Score = -0.47740513238097687. Breakdown:\n",
      "\tEvaluation mean reward = 0.62, normalized = -0.993424677228132, weighted = -0.6953972740596923\n",
      "\tTraining mean reward = 0.75, normalized = 0.9453064264076343, weighted = 0.09453064264076344\n",
      "\tTraining episodes = 2001, normalized = 0.6173074951897601, weighted = 0.12346149903795203\n",
      "Total score across all environments for seed 78 = -0.47740513238097687\n",
      "---------------------------------------------\n",
      "\n",
      "Training on FrozenLakeEnv environment with seed 90 and params {'behavioral_strategy': EpsilonGreedyPolicy(epsilon=1.0, LinearlyDecayingSchedule(initial_value=1.0, min_value=0.001, decay_rate=0.98, value=1.0)), 'alpha': LinearlyDecayingSchedule(initial_value=1.0, min_value=0.052, decay_rate=0.976, value=1.0)}\n"
     ]
    },
    {
     "data": {
      "application/vnd.jupyter.widget-view+json": {
       "model_id": "4d6590f5c8664af5b94804c5ff1ac2aa",
       "version_major": 2,
       "version_minor": 0
      },
      "text/plain": [
       "HBox(children=(IntProgress(value=0, max=5000), HTML(value='')))"
      ]
     },
     "metadata": {},
     "output_type": "display_data"
    },
    {
     "data": {
      "application/vnd.jupyter.widget-view+json": {
       "model_id": "18da506c30e54ea6a699be353cf826d4",
       "version_major": 2,
       "version_minor": 0
      },
      "text/plain": [
       "HBox(children=(IntProgress(value=0, max=5000), HTML(value='')))"
      ]
     },
     "metadata": {},
     "output_type": "display_data"
    },
    {
     "name": "stdout",
     "output_type": "stream",
     "text": [
      "\n",
      "\n",
      "Score in the FrozenLakeEnv environment with seed 56:\n",
      "Agent = Qlearning(behavioral_strategy=EpsilonGreedyPolicy(epsilon=0.9624131553491263, ExponentiallyDecayingSchedule(initial_value=1.0, min_value=0.001, decay_rate=0.997, value=0.962)), alpha=ExponentiallyDecayingSchedule(initial_value=1.0, min_value=0.09, decay_rate=0.996, value=0.09))\n",
      "Score = 0.9356106243511527. Breakdown:\n",
      "\tEvaluation mean reward = 0.8, normalized = 0.9984202681165271, weighted = 0.6988941876815689\n",
      "\tTraining mean reward = 0.74, normalized = 0.8913734677347187, weighted = 0.08913734677347188\n",
      "\tTraining episodes = 1901, normalized = 0.7378954494805599, weighted = 0.147579089896112\n",
      "Total score across all environments for seed 56 = 0.9356106243511527\n",
      "---------------------------------------------\n",
      "\n",
      "Training on FrozenLakeEnv environment with seed 12 and params {'behavioral_strategy': EpsilonGreedyPolicy(epsilon=1.0, ExponentiallyDecayingSchedule(initial_value=1.0, min_value=0.001, decay_rate=0.997, value=1.0)), 'alpha': ExponentiallyDecayingSchedule(initial_value=1.0, min_value=0.073, decay_rate=0.964, value=1.0)}\n",
      "\n",
      "Score in the FrozenLakeEnv environment with seed 12:\n",
      "Agent = Qlearning(behavioral_strategy=EpsilonGreedyPolicy(epsilon=0.9993986227233678, LinearlyDecayingSchedule(initial_value=1.0, min_value=0.012, decay_rate=1.0, value=0.999)), alpha=LinearlyDecayingSchedule(initial_value=1.0, min_value=0.071, decay_rate=0.958, value=0.071))\n",
      "Score = -0.3294464035501151. Breakdown:\n",
      "\tEvaluation mean reward = 0.68, normalized = -0.613357260395381, weighted = -0.42935008227676663\n",
      "\tTraining mean reward = 0.74, normalized = 0.8913734677347187, weighted = 0.08913734677347188\n",
      "\tTraining episodes = 2401, normalized = 0.0538316597658981, weighted = 0.01076633195317962\n",
      "Total score across all environments for seed 12 = -0.3294464035501151\n",
      "---------------------------------------------\n",
      "\n",
      "Training on FrozenLakeEnv environment with seed 34 and params {'behavioral_strategy': EpsilonGreedyPolicy(epsilon=1.0, ExponentiallyDecayingSchedule(initial_value=1.0, min_value=0.001, decay_rate=0.997, value=1.0)), 'alpha': ExponentiallyDecayingSchedule(initial_value=1.0, min_value=0.073, decay_rate=0.964, value=1.0)}\n",
      "\n",
      "Score in the FrozenLakeEnv environment with seed 12:\n",
      "Agent = Qlearning(behavioral_strategy=EpsilonGreedyPolicy(epsilon=0.9974491625889466, ExponentiallyDecayingSchedule(initial_value=1.0, min_value=0.001, decay_rate=0.997, value=0.997)), alpha=ExponentiallyDecayingSchedule(initial_value=1.0, min_value=0.09, decay_rate=0.996, value=0.09))\n",
      "Score = 0.5822245511523796. Breakdown:\n",
      "\tEvaluation mean reward = 0.72, normalized = 0.6133572603953845, weighted = 0.42935008227676913\n",
      "\tTraining mean reward = 0.8, normalized = 0.9984202681165271, weighted = 0.09984202681165272\n",
      "\tTraining episodes = 2251, normalized = 0.26516221031978904, weighted = 0.05303244206395781\n",
      "Total score across all environments for seed 12 = 0.5822245511523796\n",
      "---------------------------------------------\n",
      "\n"
     ]
    },
    {
     "data": {
      "application/vnd.jupyter.widget-view+json": {
       "model_id": "33dc73d654cf40dd8b80951fbe8127a9",
       "version_major": 2,
       "version_minor": 0
      },
      "text/plain": [
       "HBox(children=(IntProgress(value=0, max=5000), HTML(value='')))"
      ]
     },
     "metadata": {},
     "output_type": "display_data"
    },
    {
     "name": "stdout",
     "output_type": "stream",
     "text": [
      "Training on FrozenLakeEnv environment with seed 56 and params {'behavioral_strategy': EpsilonGreedyPolicy(epsilon=1.0, ExponentiallyDecayingSchedule(initial_value=1.0, min_value=0.001, decay_rate=0.997, value=1.0)), 'alpha': ExponentiallyDecayingSchedule(initial_value=1.0, min_value=0.073, decay_rate=0.964, value=1.0)}\n",
      "Score in the FrozenLakeEnv environment with seed 34:\n",
      "Agent = Qlearning(behavioral_strategy=EpsilonGreedyPolicy(epsilon=0.9133260064111828, LinearlyDecayingSchedule(initial_value=1.0, min_value=0.009, decay_rate=0.988, value=0.913)), alpha=LinearlyDecayingSchedule(initial_value=1.0, min_value=0.168, decay_rate=0.99, value=0.168))\n",
      "Score = 0.8313093749539672. Breakdown:\n",
      "\tEvaluation mean reward = 0.76, normalized = 0.9728461661125116, weighted = 0.6809923162787581\n",
      "\tTraining mean reward = 0.76, normalized = 0.9728461661125116, weighted = 0.09728461661125117\n",
      "\tTraining episodes = 2251, normalized = 0.26516221031978904, weighted = 0.05303244206395781"
     ]
    },
    {
     "data": {
      "application/vnd.jupyter.widget-view+json": {
       "model_id": "a66d93140e294f8f89873ba42e0e673d",
       "version_major": 2,
       "version_minor": 0
      },
      "text/plain": [
       "HBox(children=(IntProgress(value=0, max=5000), HTML(value='')))"
      ]
     },
     "metadata": {},
     "output_type": "display_data"
    },
    {
     "name": "stdout",
     "output_type": "stream",
     "text": [
      "\n",
      "Total score across all environments for seed 34 = 0.8313093749539672\n",
      "---------------------------------------------\n",
      "\n",
      "Training on FrozenLakeEnv environment with seed 78 and params {'behavioral_strategy': EpsilonGreedyPolicy(epsilon=1.0, ExponentiallyDecayingSchedule(initial_value=1.0, min_value=0.001, decay_rate=0.997, value=1.0)), 'alpha': ExponentiallyDecayingSchedule(initial_value=1.0, min_value=0.073, decay_rate=0.964, value=1.0)}\n",
      "\n"
     ]
    },
    {
     "data": {
      "application/vnd.jupyter.widget-view+json": {
       "model_id": "49e954dc9a1c447aa956ef462878f288",
       "version_major": 2,
       "version_minor": 0
      },
      "text/plain": [
       "HBox(children=(IntProgress(value=0, max=5000), HTML(value='')))"
      ]
     },
     "metadata": {},
     "output_type": "display_data"
    },
    {
     "name": "stdout",
     "output_type": "stream",
     "text": [
      "Score in the FrozenLakeEnv environment with seed 56:\n",
      "Agent = Qlearning(behavioral_strategy=EpsilonGreedyPolicy(epsilon=0.11386286623716069, ConstantSchedule(value=0.114)), alpha=LinearlyDecayingSchedule(initial_value=1.0, min_value=0.052, decay_rate=0.976, value=0.052))\n",
      "Score = 0.7897058130144037. Breakdown:\n",
      "\tEvaluation mean reward = 0.79, normalized = 0.9967756945029476, weighted = 0.6977429861520632\n",
      "\tTraining mean reward = 0.75, normalized = 0.9453064264076343, weighted = 0.09453064264076344\n",
      "\tTraining episodes = 2451, normalized = -0.01283907889211533, weighted = -0.0025678157784230662\n",
      "Total score across all environments for seed 56 = 0.7897058130144037\n",
      "---------------------------------------------\n",
      "\n"
     ]
    },
    {
     "data": {
      "application/vnd.jupyter.widget-view+json": {
       "model_id": "e9d949560028483592e3ba733015c6de",
       "version_major": 2,
       "version_minor": 0
      },
      "text/plain": [
       "HBox(children=(IntProgress(value=0, max=5000), HTML(value='')))"
      ]
     },
     "metadata": {},
     "output_type": "display_data"
    },
    {
     "name": "stdout",
     "output_type": "stream",
     "text": [
      "Training on FrozenLakeEnv environment with seed 90 and params {'behavioral_strategy': EpsilonGreedyPolicy(epsilon=1.0, ExponentiallyDecayingSchedule(initial_value=1.0, min_value=0.001, decay_rate=0.997, value=1.0)), 'alpha': ExponentiallyDecayingSchedule(initial_value=1.0, min_value=0.073, decay_rate=0.964, value=1.0)}\n"
     ]
    },
    {
     "data": {
      "application/vnd.jupyter.widget-view+json": {
       "model_id": "c92cafae7a9a4638a3fa14d9fbb286da",
       "version_major": 2,
       "version_minor": 0
      },
      "text/plain": [
       "HBox(children=(IntProgress(value=0, max=5000), HTML(value='')))"
      ]
     },
     "metadata": {},
     "output_type": "display_data"
    },
    {
     "name": "stdout",
     "output_type": "stream",
     "text": [
      "\n",
      "Score in the FrozenLakeEnv environment with seed 34:\n",
      "Agent = Qlearning(behavioral_strategy=EpsilonGreedyPolicy(epsilon=0.9309825943595155, ExponentiallyDecayingSchedule(initial_value=1.0, min_value=0.001, decay_rate=0.997, value=0.931)), alpha=ExponentiallyDecayingSchedule(initial_value=1.0, min_value=0.073, decay_rate=0.964, value=0.073))\n",
      "Score = 0.9130987741877749. Breakdown:\n",
      "\tEvaluation mean reward = 0.74, normalized = 0.8913734677347187, weighted = 0.623961427414303\n",
      "\tTraining mean reward = 0.74, normalized = 0.8913734677347187, weighted = 0.08913734677347188\n",
      "\tTraining episodes = 251, normalized = 1.0, weighted = 0.2\n",
      "Total score across all environments for seed 34 = 0.9130987741877749\n",
      "---------------------------------------------\n",
      "\n",
      "Training on FrozenLakeEnv environment with seed 12 and params {'behavioral_strategy': EpsilonGreedyPolicy(epsilon=0.0775019291289278, ConstantSchedule(value=0.078)), 'alpha': ConstantSchedule(value=0.723)}\n"
     ]
    },
    {
     "data": {
      "application/vnd.jupyter.widget-view+json": {
       "model_id": "1d94f58c73744c3d89a622cb7a822180",
       "version_major": 2,
       "version_minor": 0
      },
      "text/plain": [
       "HBox(children=(IntProgress(value=0, max=5000), HTML(value='')))"
      ]
     },
     "metadata": {},
     "output_type": "display_data"
    },
    {
     "name": "stdout",
     "output_type": "stream",
     "text": [
      "\n",
      "Score in the FrozenLakeEnv environment with seed 56:\n",
      "Agent = Qlearning(behavioral_strategy=EpsilonGreedyPolicy(epsilon=0.9185558675613521, LinearlyDecayingSchedule(initial_value=1.0, min_value=0.001, decay_rate=0.98, value=0.919)), alpha=LinearlyDecayingSchedule(initial_value=1.0, min_value=0.052, decay_rate=0.976, value=0.052))\n",
      "Score = -0.33492470714101163. Breakdown:\n",
      "\tEvaluation mean reward = 0.66, normalized = -0.8913734677347183, weighted = -0.6239614274143027\n",
      "\tTraining mean reward = 0.74, normalized = 0.8913734677347187, weighted = 0.08913734677347188\n",
      "\tTraining episodes = 1251, normalized = 0.9994968674990963, weighted = 0.19989937349981926\n",
      "Total score across all environments for seed 56 = -0.33492470714101163\n",
      "---------------------------------------------\n",
      "\n",
      "Training on FrozenLakeEnv environment with seed 34 and params {'behavioral_strategy': EpsilonGreedyPolicy(epsilon=0.0775019291289278, ConstantSchedule(value=0.078)), 'alpha': ConstantSchedule(value=0.723)}\n"
     ]
    },
    {
     "data": {
      "application/vnd.jupyter.widget-view+json": {
       "model_id": "257354b17071495480218abe2a647eb8",
       "version_major": 2,
       "version_minor": 0
      },
      "text/plain": [
       "HBox(children=(IntProgress(value=0, max=5000), HTML(value='')))"
      ]
     },
     "metadata": {},
     "output_type": "display_data"
    },
    {
     "name": "stdout",
     "output_type": "stream",
     "text": [
      "\n",
      "Score in the FrozenLakeEnv environment with seed 90:\n",
      "Agent = Qlearning(behavioral_strategy=EpsilonGreedyPolicy(epsilon=0.9974491625889466, ExponentiallyDecayingSchedule(initial_value=1.0, min_value=0.001, decay_rate=0.997, value=0.997)), alpha=ExponentiallyDecayingSchedule(initial_value=1.0, min_value=0.09, decay_rate=0.996, value=0.09))\n",
      "Score = -0.7783863334298268. Breakdown:\n",
      "\tEvaluation mean reward = 0.55, normalized = -0.9999555506739739, weighted = -0.6999688854717817\n",
      "\tTraining mean reward = 0.71, normalized = 0.3426949069654588, weighted = 0.03426949069654588\n",
      "\tTraining episodes = 3001, normalized = -0.5634346932729546, weighted = -0.11268693865459092\n",
      "Total score across all environments for seed 90 = -0.7783863334298268\n",
      "---------------------------------------------\n",
      "\n",
      "Training on FrozenLakeEnv environment with seed 56 and params {'behavioral_strategy': EpsilonGreedyPolicy(epsilon=0.0775019291289278, ConstantSchedule(value=0.078)), 'alpha': ConstantSchedule(value=0.723)}\n"
     ]
    },
    {
     "data": {
      "application/vnd.jupyter.widget-view+json": {
       "model_id": "1b61af858f3849e79fd7917259534cbc",
       "version_major": 2,
       "version_minor": 0
      },
      "text/plain": [
       "HBox(children=(IntProgress(value=0, max=5000), HTML(value='')))"
      ]
     },
     "metadata": {},
     "output_type": "display_data"
    },
    {
     "name": "stdout",
     "output_type": "stream",
     "text": [
      "\n",
      "Score in the FrozenLakeEnv environment with seed 34:\n",
      "Agent = Qlearning(behavioral_strategy=EpsilonGreedyPolicy(epsilon=0.9389169006710141, LinearlyDecayingSchedule(initial_value=1.0, min_value=0.001, decay_rate=0.98, value=0.939)), alpha=LinearlyDecayingSchedule(initial_value=1.0, min_value=0.052, decay_rate=0.976, value=0.052))\n",
      "Score = 0.8857766829397844. Breakdown:\n",
      "\tEvaluation mean reward = 0.74, normalized = 0.8913734677347187, weighted = 0.623961427414303\n",
      "\tTraining mean reward = 0.75, normalized = 0.9453064264076343, weighted = 0.09453064264076344\n",
      "\tTraining episodes = 1801, normalized = 0.8364230644235897, weighted = 0.16728461288471796\n",
      "Total score across all environments for seed 34 = 0.8857766829397844\n",
      "---------------------------------------------\n",
      "\n",
      "Training on FrozenLakeEnv environment with seed 78 and params {'behavioral_strategy': EpsilonGreedyPolicy(epsilon=0.0775019291289278, ConstantSchedule(value=0.078)), 'alpha': ConstantSchedule(value=0.723)}\n"
     ]
    },
    {
     "data": {
      "application/vnd.jupyter.widget-view+json": {
       "model_id": "d83fccf5754749fa85e7e4e73649ed77",
       "version_major": 2,
       "version_minor": 0
      },
      "text/plain": [
       "HBox(children=(IntProgress(value=0, max=5000), HTML(value='')))"
      ]
     },
     "metadata": {},
     "output_type": "display_data"
    },
    {
     "name": "stdout",
     "output_type": "stream",
     "text": [
      "\n",
      "\n",
      "Score in the FrozenLakeEnv environment with seed 12:\n",
      "Agent = Qlearning(behavioral_strategy=EpsilonGreedyPolicy(epsilon=0.11386286623716069, ConstantSchedule(value=0.114)), alpha=LinearlyDecayingSchedule(initial_value=1.0, min_value=0.052, decay_rate=0.976, value=0.052))\n",
      "Score = -0.7250694842246463. Breakdown:\n",
      "\tEvaluation mean reward = 0.65, normalized = -0.9453064264076338, weighted = -0.6617144984853437\n",
      "\tTraining mean reward = 0.71, normalized = 0.3426949069654588, weighted = 0.03426949069654588\n",
      "\tTraining episodes = 2901, normalized = -0.4881223821792423, weighted = -0.09762447643584847\n",
      "Total score across all environments for seed 12 = -0.7250694842246463\n",
      "---------------------------------------------\n",
      "\n",
      "Training on FrozenLakeEnv environment with seed 90 and params {'behavioral_strategy': EpsilonGreedyPolicy(epsilon=0.0775019291289278, ConstantSchedule(value=0.078)), 'alpha': ConstantSchedule(value=0.723)}\n",
      "Score in the FrozenLakeEnv environment with seed 90:\n",
      "Agent = Qlearning(behavioral_strategy=EpsilonGreedyPolicy(epsilon=0.0620865541722682, ConstantSchedule(value=0.062)), alpha=ConstantSchedule(value=0.341))\n",
      "Score = -0.48753873785150315. Breakdown:\n",
      "\tEvaluation mean reward = 0.68, normalized = -0.613357260395381, weighted = -0.42935008227676663\n",
      "\tTraining mean reward = 0.74, normalized = 0.8913734677347187, weighted = 0.08913734677347188\n",
      "\tTraining episodes = 3301, normalized = -0.736630011741042, weighted = -0.14732600234820842\n",
      "Total score across all environments for seed 90 = -0.48753873785150315\n",
      "---------------------------------------------\n",
      "\n",
      "Training on FrozenLakeEnv environment with seed 12 and params {'behavioral_strategy': EpsilonGreedyPolicy(epsilon=1.0, LinearlyDecayingSchedule(initial_value=1.0, min_value=0.007, decay_rate=0.998, value=1.0)), 'alpha': LinearlyDecayingSchedule(initial_value=1.0, min_value=0.098, decay_rate=1.0, value=1.0)}\n"
     ]
    },
    {
     "data": {
      "application/vnd.jupyter.widget-view+json": {
       "model_id": "3ee75eab337d452f99b0171ab63b9748",
       "version_major": 2,
       "version_minor": 0
      },
      "text/plain": [
       "HBox(children=(IntProgress(value=0, max=5000), HTML(value='')))"
      ]
     },
     "metadata": {},
     "output_type": "display_data"
    },
    {
     "data": {
      "application/vnd.jupyter.widget-view+json": {
       "model_id": "d30ed8e67364443683c82a80a2183841",
       "version_major": 2,
       "version_minor": 0
      },
      "text/plain": [
       "HBox(children=(IntProgress(value=0, max=5000), HTML(value='')))"
      ]
     },
     "metadata": {},
     "output_type": "display_data"
    },
    {
     "name": "stdout",
     "output_type": "stream",
     "text": [
      "\n",
      "\n",
      "Score in the FrozenLakeEnv environment with seed 78:\n",
      "Agent = Qlearning(behavioral_strategy=EpsilonGreedyPolicy(epsilon=0.979638966890338, LinearlyDecayingSchedule(initial_value=1.0, min_value=0.001, decay_rate=0.98, value=0.98)), alpha=LinearlyDecayingSchedule(initial_value=1.0, min_value=0.052, decay_rate=0.976, value=0.052))\n",
      "Score = 0.497776687747657. Breakdown:\n",
      "\tEvaluation mean reward = 0.71, normalized = 0.3426949069654588, weighted = 0.23988643487582115\n",
      "\tTraining mean reward = 0.8, normalized = 0.9984202681165271, weighted = 0.09984202681165272\n",
      "\tTraining episodes = 1851, normalized = 0.7902411303009154, weighted = 0.1580482260601831\n",
      "Total score across all environments for seed 78 = 0.497776687747657\n",
      "---------------------------------------------\n",
      "\n",
      "Training on FrozenLakeEnv environment with seed 34 and params {'behavioral_strategy': EpsilonGreedyPolicy(epsilon=1.0, LinearlyDecayingSchedule(initial_value=1.0, min_value=0.007, decay_rate=0.998, value=1.0)), 'alpha': LinearlyDecayingSchedule(initial_value=1.0, min_value=0.098, decay_rate=1.0, value=1.0)}\n",
      "Score in the FrozenLakeEnv environment with seed 12:\n",
      "Agent = Qlearning(behavioral_strategy=EpsilonGreedyPolicy(epsilon=0.9185558675613521, LinearlyDecayingSchedule(initial_value=1.0, min_value=0.001, decay_rate=0.98, value=0.919)), alpha=LinearlyDecayingSchedule(initial_value=1.0, min_value=0.052, decay_rate=0.976, value=0.052))\n",
      "Score = 0.500991857670545. Breakdown:\n",
      "\tEvaluation mean reward = 0.72, normalized = 0.6133572603953845, weighted = 0.42935008227676913\n",
      "\tTraining mean reward = 0.78, normalized = 0.9934246772281319, weighted = 0.09934246772281319\n",
      "\tTraining episodes = 2551, normalized = -0.13850346164518668, weighted = -0.027700692329037338\n",
      "Total score across all environments for seed 12 = 0.500991857670545\n",
      "---------------------------------------------\n",
      "\n",
      "Training on FrozenLakeEnv environment with seed 56 and params {'behavioral_strategy': EpsilonGreedyPolicy(epsilon=1.0, LinearlyDecayingSchedule(initial_value=1.0, min_value=0.007, decay_rate=0.998, value=1.0)), 'alpha': LinearlyDecayingSchedule(initial_value=1.0, min_value=0.098, decay_rate=1.0, value=1.0)}\n"
     ]
    },
    {
     "data": {
      "application/vnd.jupyter.widget-view+json": {
       "model_id": "6734769d2fee4d0e841ae7178fb10e3a",
       "version_major": 2,
       "version_minor": 0
      },
      "text/plain": [
       "HBox(children=(IntProgress(value=0, max=5000), HTML(value='')))"
      ]
     },
     "metadata": {},
     "output_type": "display_data"
    },
    {
     "name": "stdout",
     "output_type": "stream",
     "text": [
      "\n"
     ]
    },
    {
     "data": {
      "application/vnd.jupyter.widget-view+json": {
       "model_id": "64a837bc5b6c49e987e430cf9f289b7d",
       "version_major": 2,
       "version_minor": 0
      },
      "text/plain": [
       "HBox(children=(IntProgress(value=0, max=5000), HTML(value='')))"
      ]
     },
     "metadata": {},
     "output_type": "display_data"
    },
    {
     "name": "stdout",
     "output_type": "stream",
     "text": [
      "Score in the FrozenLakeEnv environment with seed 78:\n",
      "Agent = Qlearning(behavioral_strategy=EpsilonGreedyPolicy(epsilon=0.9995188981786942, LinearlyDecayingSchedule(initial_value=1.0, min_value=0.012, decay_rate=1.0, value=1.0)), alpha=LinearlyDecayingSchedule(initial_value=1.0, min_value=0.071, decay_rate=0.958, value=0.071))\n",
      "Score = 0.46389490567386904. Breakdown:\n",
      "\tEvaluation mean reward = 0.73, normalized = 0.7899988299594711, weighted = 0.5529991809716297\n",
      "\tTraining mean reward = 0.81, normalized = 0.999226343498715, weighted = 0.0999226343498715\n",
      "\tTraining episodes = 4051, normalized = -0.9451345482381608, weighted = -0.18902690964763216\n",
      "Total score across all environments for seed 78 = 0.46389490567386904\n",
      "---------------------------------------------\n",
      "\n",
      "Training on FrozenLakeEnv environment with seed 78 and params {'behavioral_strategy': EpsilonGreedyPolicy(epsilon=1.0, LinearlyDecayingSchedule(initial_value=1.0, min_value=0.007, decay_rate=0.998, value=1.0)), 'alpha': LinearlyDecayingSchedule(initial_value=1.0, min_value=0.098, decay_rate=1.0, value=1.0)}\n"
     ]
    },
    {
     "data": {
      "application/vnd.jupyter.widget-view+json": {
       "model_id": "87f0a27e6ca047719ff8cc6473818118",
       "version_major": 2,
       "version_minor": 0
      },
      "text/plain": [
       "HBox(children=(IntProgress(value=0, max=5000), HTML(value='')))"
      ]
     },
     "metadata": {},
     "output_type": "display_data"
    },
    {
     "name": "stdout",
     "output_type": "stream",
     "text": [
      "\n",
      "Score in the FrozenLakeEnv environment with seed 56:\n",
      "Agent = Qlearning(behavioral_strategy=EpsilonGreedyPolicy(epsilon=0.9232512448220334, LinearlyDecayingSchedule(initial_value=1.0, min_value=0.007, decay_rate=0.998, value=0.923)), alpha=LinearlyDecayingSchedule(initial_value=1.0, min_value=0.098, decay_rate=1.0, value=0.098))\n",
      "Score = 0.9964044159672062. Breakdown:\n",
      "\tEvaluation mean reward = 0.79, normalized = 0.9967756945029476, weighted = 0.6977429861520632\n",
      "\tTraining mean reward = 0.77, normalized = 0.9866142981514305, weighted = 0.09866142981514306\n",
      "\tTraining episodes = 301, normalized = 1.0, weighted = 0.2\n",
      "Total score across all environments for seed 56 = 0.9964044159672062\n",
      "---------------------------------------------\n",
      "\n",
      "Training on FrozenLakeEnv environment with seed 90 and params {'behavioral_strategy': EpsilonGreedyPolicy(epsilon=1.0, LinearlyDecayingSchedule(initial_value=1.0, min_value=0.007, decay_rate=0.998, value=1.0)), 'alpha': LinearlyDecayingSchedule(initial_value=1.0, min_value=0.098, decay_rate=1.0, value=1.0)}\n",
      "\n"
     ]
    },
    {
     "data": {
      "application/vnd.jupyter.widget-view+json": {
       "model_id": "07f1b9d392e545e98683cd14c25c7681",
       "version_major": 2,
       "version_minor": 0
      },
      "text/plain": [
       "HBox(children=(IntProgress(value=0, max=5000), HTML(value='')))"
      ]
     },
     "metadata": {},
     "output_type": "display_data"
    },
    {
     "name": "stdout",
     "output_type": "stream",
     "text": [
      "Score in the FrozenLakeEnv environment with seed 12:\n",
      "Agent = Qlearning(behavioral_strategy=EpsilonGreedyPolicy(epsilon=0.9898356246362454, ExponentiallyDecayingSchedule(initial_value=1.0, min_value=0.001, decay_rate=0.997, value=0.99)), alpha=ExponentiallyDecayingSchedule(initial_value=1.0, min_value=0.073, decay_rate=0.964, value=0.073))\n",
      "Score = -0.2726850300498239. Breakdown:\n",
      "\tEvaluation mean reward = 0.68, normalized = -0.613357260395381, weighted = -0.42935008227676663\n",
      "\tTraining mean reward = 0.74, normalized = 0.8913734677347187, weighted = 0.08913734677347188\n",
      "\tTraining episodes = 2201, normalized = 0.3376385272673543, weighted = 0.06752770545347087\n",
      "Total score across all environments for seed 12 = -0.2726850300498239\n",
      "---------------------------------------------\n",
      "\n",
      "Training on FrozenLakeEnv environment with seed 12 and params {'behavioral_strategy': EpsilonGreedyPolicy(epsilon=1.0, LinearlyDecayingSchedule(initial_value=1.0, min_value=0.028, decay_rate=0.993, value=1.0)), 'alpha': ExponentiallyDecayingSchedule(initial_value=1.0, min_value=0.06, decay_rate=0.994, value=1.0)}\n",
      "\n"
     ]
    },
    {
     "data": {
      "application/vnd.jupyter.widget-view+json": {
       "model_id": "b613a5d5cd3b493081b2d6cefbc68f4f",
       "version_major": 2,
       "version_minor": 0
      },
      "text/plain": [
       "HBox(children=(IntProgress(value=0, max=5000), HTML(value='')))"
      ]
     },
     "metadata": {},
     "output_type": "display_data"
    },
    {
     "name": "stdout",
     "output_type": "stream",
     "text": [
      "\n",
      "Score in the FrozenLakeEnv environment with seed 78:\n",
      "Agent = Qlearning(behavioral_strategy=EpsilonGreedyPolicy(epsilon=0.9949048319493907, ExponentiallyDecayingSchedule(initial_value=1.0, min_value=0.001, decay_rate=0.997, value=0.995)), alpha=ExponentiallyDecayingSchedule(initial_value=1.0, min_value=0.073, decay_rate=0.964, value=0.073))\n",
      "Score = 0.4008818747610981. Breakdown:\n",
      "\tEvaluation mean reward = 0.71, normalized = 0.3426949069654588, weighted = 0.23988643487582115\n",
      "\tTraining mean reward = 0.73, normalized = 0.7899988299594711, weighted = 0.07899988299594712\n",
      "\tTraining episodes = 2151, normalized = 0.40997778444664923, weighted = 0.08199555688932986\n",
      "Total score across all environments for seed 78 = 0.4008818747610981\n",
      "---------------------------------------------\n",
      "\n",
      "Training on FrozenLakeEnv environment with seed 34 and params {'behavioral_strategy': EpsilonGreedyPolicy(epsilon=1.0, LinearlyDecayingSchedule(initial_value=1.0, min_value=0.028, decay_rate=0.993, value=1.0)), 'alpha': ExponentiallyDecayingSchedule(initial_value=1.0, min_value=0.06, decay_rate=0.994, value=1.0)}\n",
      "Score in the FrozenLakeEnv environment with seed 56:\n",
      "Agent = Qlearning(behavioral_strategy=EpsilonGreedyPolicy(epsilon=0.11536442599539684, ConstantSchedule(value=0.115)), alpha=ConstantSchedule(value=0.723))\n",
      "Score = 0.6040203870158334. Breakdown:\n",
      "\tEvaluation mean reward = 0.78, normalized = 0.9934246772281319, weighted = 0.6953972740596923\n",
      "\tTraining mean reward = 0.75, normalized = 0.9453064264076343, weighted = 0.09453064264076344\n",
      "\tTraining episodes = 3951, normalized = -0.9295376484231119, weighted = -0.1859075296846224\n",
      "Total score across all environments for seed 56 = 0.6040203870158334\n",
      "---------------------------------------------\n",
      "\n",
      "Training on FrozenLakeEnv environment with seed 56 and params {'behavioral_strategy': EpsilonGreedyPolicy(epsilon=1.0, LinearlyDecayingSchedule(initial_value=1.0, min_value=0.028, decay_rate=0.993, value=1.0)), 'alpha': ExponentiallyDecayingSchedule(initial_value=1.0, min_value=0.06, decay_rate=0.994, value=1.0)}\n"
     ]
    },
    {
     "data": {
      "application/vnd.jupyter.widget-view+json": {
       "model_id": "6b3cc35937084f158749b7e0c4a68da2",
       "version_major": 2,
       "version_minor": 0
      },
      "text/plain": [
       "HBox(children=(IntProgress(value=0, max=5000), HTML(value='')))"
      ]
     },
     "metadata": {},
     "output_type": "display_data"
    },
    {
     "name": "stdout",
     "output_type": "stream",
     "text": [
      "\n"
     ]
    },
    {
     "data": {
      "application/vnd.jupyter.widget-view+json": {
       "model_id": "ee80a3fd737a431f8f1607f54a49db88",
       "version_major": 2,
       "version_minor": 0
      },
      "text/plain": [
       "HBox(children=(IntProgress(value=0, max=5000), HTML(value='')))"
      ]
     },
     "metadata": {},
     "output_type": "display_data"
    },
    {
     "name": "stdout",
     "output_type": "stream",
     "text": [
      "\n",
      "\n",
      "Score in the FrozenLakeEnv environment with seed 90:\n",
      "Agent = Qlearning(behavioral_strategy=EpsilonGreedyPolicy(epsilon=0.8574727682323662, LinearlyDecayingSchedule(initial_value=1.0, min_value=0.001, decay_rate=0.98, value=0.857)), alpha=LinearlyDecayingSchedule(initial_value=1.0, min_value=0.052, decay_rate=0.976, value=0.052))\n",
      "Score = -0.6318620984448858. Breakdown:\n",
      "\tEvaluation mean reward = 0.63, normalized = -0.9866142981514303, weighted = -0.6906300087060012\n",
      "\tTraining mean reward = 0.72, normalized = 0.6133572603953845, weighted = 0.061335726039538456\n",
      "\tTraining episodes = 2451, normalized = -0.01283907889211533, weighted = -0.0025678157784230662\n",
      "Total score across all environments for seed 90 = -0.6318620984448858\n",
      "---------------------------------------------\n",
      "\n",
      "Score in the FrozenLakeEnv environment with seed 34:\n",
      "Agent = Qlearning(behavioral_strategy=EpsilonGreedyPolicy(epsilon=0.9673419250195006, ExponentiallyDecayingSchedule(initial_value=1.0, min_value=0.001, decay_rate=0.997, value=0.967)), alpha=ExponentiallyDecayingSchedule(initial_value=1.0, min_value=0.09, decay_rate=0.996, value=0.09))\n",
      "Score = -0.8572648745483469. Breakdown:\n",
      "\tEvaluation mean reward = 0.65, normalized = -0.9453064264076338, weighted = -0.6617144984853437\n",
      "\tTraining mean reward = 0.7, normalized = 0.0, weighted = 0.0\n",
      "\tTraining episodes = 4351, normalized = -0.977751880315016, weighted = -0.1955503760630032Score in the FrozenLakeEnv environment with seed 12:\n",
      "Agent = Qlearning(behavioral_strategy=EpsilonGreedyPolicy(epsilon=0.9976016014006885, LinearlyDecayingSchedule(initial_value=1.0, min_value=0.007, decay_rate=0.998, value=0.998)), alpha=LinearlyDecayingSchedule(initial_value=1.0, min_value=0.098, decay_rate=1.0, value=0.098))\n",
      "Score = -0.4340615480581679. Breakdown:\n",
      "\tEvaluation mean reward = 0.62, normalized = -0.993424677228132, weighted = -0.6953972740596923\n",
      "\tTraining mean reward = 0.72, normalized = 0.6133572603953845, weighted = 0.061335726039538456\n",
      "\tTraining episodes = 851, normalized = 0.9999999998099298, weighted = 0.19999999996198597\n",
      "Training on FrozenLakeEnv environment with seed 78 and params {'behavioral_strategy': EpsilonGreedyPolicy(epsilon=1.0, LinearlyDecayingSchedule(initial_value=1.0, min_value=0.028, decay_rate=0.993, value=1.0)), 'alpha': ExponentiallyDecayingSchedule(initial_value=1.0, min_value=0.06, decay_rate=0.994, value=1.0)}\n",
      "\n",
      "Total score across all environments for seed 34 = -0.8572648745483469\n",
      "Total score across all environments for seed 12 = -0.4340615480581679\n",
      "---------------------------------------------\n",
      "---------------------------------------------\n",
      "\n",
      "\n",
      "Training on FrozenLakeEnv environment with seed 90 and params {'behavioral_strategy': EpsilonGreedyPolicy(epsilon=1.0, LinearlyDecayingSchedule(initial_value=1.0, min_value=0.028, decay_rate=0.993, value=1.0)), 'alpha': ExponentiallyDecayingSchedule(initial_value=1.0, min_value=0.06, decay_rate=0.994, value=1.0)}\n",
      "Training on FrozenLakeEnv environment with seed 12 and params {'behavioral_strategy': EpsilonGreedyPolicy(epsilon=1.0, LinearlyDecayingSchedule(initial_value=1.0, min_value=0.028, decay_rate=0.993, value=1.0)), 'alpha': LinearlyDecayingSchedule(initial_value=1.0, min_value=0.052, decay_rate=0.976, value=1.0)}\n"
     ]
    },
    {
     "data": {
      "application/vnd.jupyter.widget-view+json": {
       "model_id": "ae64f7964a2a41fea5431278a10489ec",
       "version_major": 2,
       "version_minor": 0
      },
      "text/plain": [
       "HBox(children=(IntProgress(value=0, max=5000), HTML(value='')))"
      ]
     },
     "metadata": {},
     "output_type": "display_data"
    },
    {
     "data": {
      "application/vnd.jupyter.widget-view+json": {
       "model_id": "1c1d4a76e98144b79d9afee89f0a1e06",
       "version_major": 2,
       "version_minor": 0
      },
      "text/plain": [
       "HBox(children=(IntProgress(value=0, max=5000), HTML(value='')))"
      ]
     },
     "metadata": {},
     "output_type": "display_data"
    },
    {
     "data": {
      "application/vnd.jupyter.widget-view+json": {
       "model_id": "3724f90493de4feab137e6ce3e194dda",
       "version_major": 2,
       "version_minor": 0
      },
      "text/plain": [
       "HBox(children=(IntProgress(value=0, max=5000), HTML(value='')))"
      ]
     },
     "metadata": {},
     "output_type": "display_data"
    },
    {
     "name": "stdout",
     "output_type": "stream",
     "text": [
      "\n",
      "Score in the FrozenLakeEnv environment with seed 34:\n",
      "Agent = Qlearning(behavioral_strategy=EpsilonGreedyPolicy(epsilon=0.11536442599539684, ConstantSchedule(value=0.115)), alpha=ConstantSchedule(value=0.723))\n",
      "Score = -0.9999999999999999. Breakdown:\n",
      "\tEvaluation mean reward = 0.0, normalized = -1.0, weighted = -0.7\n",
      "\tTraining mean reward = 0.0, normalized = -1.0, weighted = -0.1\n",
      "\tTraining episodes = 5000, normalized = -1.0, weighted = -0.2\n",
      "Total score across all environments for seed 34 = -0.9999999999999999\n",
      "---------------------------------------------\n",
      "\n",
      "Training on FrozenLakeEnv environment with seed 34 and params {'behavioral_strategy': EpsilonGreedyPolicy(epsilon=1.0, LinearlyDecayingSchedule(initial_value=1.0, min_value=0.028, decay_rate=0.993, value=1.0)), 'alpha': LinearlyDecayingSchedule(initial_value=1.0, min_value=0.052, decay_rate=0.976, value=1.0)}\n",
      "\n",
      "Score in the FrozenLakeEnv environment with seed 90:\n",
      "Agent = Qlearning(behavioral_strategy=EpsilonGreedyPolicy(epsilon=0.11386286623716069, ConstantSchedule(value=0.114)), alpha=LinearlyDecayingSchedule(initial_value=1.0, min_value=0.052, decay_rate=0.976, value=0.052))\n",
      "Score = -0.9999999999999999. Breakdown:\n",
      "\tEvaluation mean reward = 0.04, normalized = -1.0, weighted = -0.7\n",
      "\tTraining mean reward = 0.03, normalized = -1.0, weighted = -0.1\n",
      "\tTraining episodes = 5000, normalized = -1.0, weighted = -0.2\n",
      "Total score across all environments for seed 90 = -0.9999999999999999\n",
      "---------------------------------------------\n",
      "\n",
      "Training on FrozenLakeEnv environment with seed 56 and params {'behavioral_strategy': EpsilonGreedyPolicy(epsilon=1.0, LinearlyDecayingSchedule(initial_value=1.0, min_value=0.028, decay_rate=0.993, value=1.0)), 'alpha': LinearlyDecayingSchedule(initial_value=1.0, min_value=0.052, decay_rate=0.976, value=1.0)}\n",
      "\n",
      "Score in the FrozenLakeEnv environment with seed 12:\n",
      "Agent = Qlearning(behavioral_strategy=EpsilonGreedyPolicy(epsilon=0.11536442599539684, ConstantSchedule(value=0.115)), alpha=ConstantSchedule(value=0.723))\n",
      "Score = -0.9999999999999999. Breakdown:\n",
      "\tEvaluation mean reward = 0.0, normalized = -1.0, weighted = -0.7\n",
      "\tTraining mean reward = 0.0, normalized = -1.0, weighted = -0.1\n",
      "\tTraining episodes = 5000, normalized = -1.0, weighted = -0.2\n",
      "Total score across all environments for seed 12 = -0.9999999999999999\n",
      "---------------------------------------------\n",
      "\n",
      "Training on FrozenLakeEnv environment with seed 78 and params {'behavioral_strategy': EpsilonGreedyPolicy(epsilon=1.0, LinearlyDecayingSchedule(initial_value=1.0, min_value=0.028, decay_rate=0.993, value=1.0)), 'alpha': LinearlyDecayingSchedule(initial_value=1.0, min_value=0.052, decay_rate=0.976, value=1.0)}\n"
     ]
    },
    {
     "data": {
      "application/vnd.jupyter.widget-view+json": {
       "model_id": "d74a32382bb347e7ac7714f55af84abe",
       "version_major": 2,
       "version_minor": 0
      },
      "text/plain": [
       "HBox(children=(IntProgress(value=0, max=5000), HTML(value='')))"
      ]
     },
     "metadata": {},
     "output_type": "display_data"
    },
    {
     "data": {
      "application/vnd.jupyter.widget-view+json": {
       "model_id": "ab7273ab1c26414ab2957c8a90f20312",
       "version_major": 2,
       "version_minor": 0
      },
      "text/plain": [
       "HBox(children=(IntProgress(value=0, max=5000), HTML(value='')))"
      ]
     },
     "metadata": {},
     "output_type": "display_data"
    },
    {
     "data": {
      "application/vnd.jupyter.widget-view+json": {
       "model_id": "fcc60e1e71ba4074a8a165fee811093e",
       "version_major": 2,
       "version_minor": 0
      },
      "text/plain": [
       "HBox(children=(IntProgress(value=0, max=5000), HTML(value='')))"
      ]
     },
     "metadata": {},
     "output_type": "display_data"
    },
    {
     "name": "stdout",
     "output_type": "stream",
     "text": [
      "\n",
      "\n",
      "Score in the FrozenLakeEnv environment with seed 78:\n",
      "Agent = Qlearning(behavioral_strategy=EpsilonGreedyPolicy(epsilon=0.0620865541722682, ConstantSchedule(value=0.062)), alpha=ConstantSchedule(value=0.341))\n",
      "Score = -0.9999999999999999. Breakdown:\n",
      "\tEvaluation mean reward = 0.0, normalized = -1.0, weighted = -0.7\n",
      "\tTraining mean reward = 0.0, normalized = -1.0, weighted = -0.1\n",
      "\tTraining episodes = 5000, normalized = -1.0, weighted = -0.2\n",
      "Total score across all environments for seed 78 = -0.9999999999999999\n",
      "---------------------------------------------\n",
      "\n",
      "Training on FrozenLakeEnv environment with seed 90 and params {'behavioral_strategy': EpsilonGreedyPolicy(epsilon=1.0, LinearlyDecayingSchedule(initial_value=1.0, min_value=0.028, decay_rate=0.993, value=1.0)), 'alpha': LinearlyDecayingSchedule(initial_value=1.0, min_value=0.052, decay_rate=0.976, value=1.0)}\n",
      "Score in the FrozenLakeEnv environment with seed 90:\n",
      "Agent = Qlearning(behavioral_strategy=EpsilonGreedyPolicy(epsilon=0.9949048319493907, ExponentiallyDecayingSchedule(initial_value=1.0, min_value=0.001, decay_rate=0.997, value=0.995)), alpha=ExponentiallyDecayingSchedule(initial_value=1.0, min_value=0.073, decay_rate=0.964, value=0.073))\n",
      "Score = 0.5980350036213552. Breakdown:\n",
      "\tEvaluation mean reward = 0.73, normalized = 0.7899988299594711, weighted = 0.5529991809716297\n",
      "\tTraining mean reward = 0.71, normalized = 0.3426949069654588, weighted = 0.03426949069654588\n",
      "\tTraining episodes = 2401, normalized = 0.0538316597658981, weighted = 0.01076633195317962\n",
      "Total score across all environments for seed 90 = 0.5980350036213552\n",
      "---------------------------------------------\n",
      "\n",
      "Training on FrozenLakeEnv environment with seed 12 and params {'behavioral_strategy': EpsilonGreedyPolicy(epsilon=1.0, ExponentiallyDecayingSchedule(initial_value=1.0, min_value=0.005, decay_rate=0.999, value=1.0)), 'alpha': ExponentiallyDecayingSchedule(initial_value=1.0, min_value=0.073, decay_rate=0.964, value=1.0)}\n",
      "\n",
      "Score in the FrozenLakeEnv environment with seed 12:\n",
      "Agent = Qlearning(behavioral_strategy=EpsilonGreedyPolicy(epsilon=0.09891688511742908, ConstantSchedule(value=0.099)), alpha=ExponentiallyDecayingSchedule(initial_value=1.0, min_value=0.074, decay_rate=0.991, value=0.074))\n",
      "Score = -0.8152018123510852. Breakdown:\n",
      "\tEvaluation mean reward = 0.63, normalized = -0.9866142981514303, weighted = -0.6906300087060012\n",
      "\tTraining mean reward = 0.72, normalized = 0.6133572603953845, weighted = 0.061335726039538456\n",
      "\tTraining episodes = 3951, normalized = -0.9295376484231119, weighted = -0.1859075296846224\n",
      "Total score across all environments for seed 12 = -0.8152018123510852\n",
      "---------------------------------------------\n"
     ]
    },
    {
     "data": {
      "application/vnd.jupyter.widget-view+json": {
       "model_id": "198132d2f8f243a69ba0cd872a896192",
       "version_major": 2,
       "version_minor": 0
      },
      "text/plain": [
       "HBox(children=(IntProgress(value=0, max=5000), HTML(value='')))"
      ]
     },
     "metadata": {},
     "output_type": "display_data"
    },
    {
     "name": "stdout",
     "output_type": "stream",
     "text": [
      "\n",
      "Training on FrozenLakeEnv environment with seed 34 and params {'behavioral_strategy': EpsilonGreedyPolicy(epsilon=1.0, ExponentiallyDecayingSchedule(initial_value=1.0, min_value=0.005, decay_rate=0.999, value=1.0)), 'alpha': ExponentiallyDecayingSchedule(initial_value=1.0, min_value=0.073, decay_rate=0.964, value=1.0)}\n"
     ]
    },
    {
     "data": {
      "application/vnd.jupyter.widget-view+json": {
       "model_id": "26d24febf395477dbf83f3d1a1e0413c",
       "version_major": 2,
       "version_minor": 0
      },
      "text/plain": [
       "HBox(children=(IntProgress(value=0, max=5000), HTML(value='')))"
      ]
     },
     "metadata": {},
     "output_type": "display_data"
    },
    {
     "name": "stdout",
     "output_type": "stream",
     "text": [
      "\n",
      "Score in the FrozenLakeEnv environment with seed 34:\n",
      "Agent = Qlearning(behavioral_strategy=EpsilonGreedyPolicy(epsilon=0.11386286623716069, ConstantSchedule(value=0.114)), alpha=LinearlyDecayingSchedule(initial_value=1.0, min_value=0.052, decay_rate=0.976, value=0.052))\n",
      "Score = -0.9999999999999999. Breakdown:\n",
      "\tEvaluation mean reward = 0.0, normalized = -1.0, weighted = -0.7\n",
      "\tTraining mean reward = 0.0, normalized = -1.0, weighted = -0.1\n",
      "\tTraining episodes = 5000, normalized = -1.0, weighted = -0.2\n"
     ]
    },
    {
     "data": {
      "application/vnd.jupyter.widget-view+json": {
       "model_id": "5fa33a1d76a7409683ef02a41eba7e3d",
       "version_major": 2,
       "version_minor": 0
      },
      "text/plain": [
       "HBox(children=(IntProgress(value=0, max=5000), HTML(value='')))"
      ]
     },
     "metadata": {},
     "output_type": "display_data"
    },
    {
     "name": "stdout",
     "output_type": "stream",
     "text": [
      "Total score across all environments for seed 34 = -0.9999999999999999\n",
      "---------------------------------------------\n",
      "\n",
      "Training on FrozenLakeEnv environment with seed 56 and params {'behavioral_strategy': EpsilonGreedyPolicy(epsilon=1.0, ExponentiallyDecayingSchedule(initial_value=1.0, min_value=0.005, decay_rate=0.999, value=1.0)), 'alpha': ExponentiallyDecayingSchedule(initial_value=1.0, min_value=0.073, decay_rate=0.964, value=1.0)}\n",
      "\n",
      "Score in the FrozenLakeEnv environment with seed 90:\n",
      "Agent = Qlearning(behavioral_strategy=EpsilonGreedyPolicy(epsilon=0.11536442599539684, ConstantSchedule(value=0.115)), alpha=ConstantSchedule(value=0.723))\n",
      "Score = -0.9999999999999999. Breakdown:\n",
      "\tEvaluation mean reward = 0.0, normalized = -1.0, weighted = -0.7\n",
      "\tTraining mean reward = 0.0, normalized = -1.0, weighted = -0.1\n",
      "\tTraining episodes = 5000, normalized = -1.0, weighted = -0.2\n",
      "Total score across all environments for seed 90 = -0.9999999999999999\n",
      "---------------------------------------------\n",
      "\n",
      "Training on FrozenLakeEnv environment with seed 78 and params {'behavioral_strategy': EpsilonGreedyPolicy(epsilon=1.0, ExponentiallyDecayingSchedule(initial_value=1.0, min_value=0.005, decay_rate=0.999, value=1.0)), 'alpha': ExponentiallyDecayingSchedule(initial_value=1.0, min_value=0.073, decay_rate=0.964, value=1.0)}\n",
      "\n",
      "\n"
     ]
    },
    {
     "data": {
      "application/vnd.jupyter.widget-view+json": {
       "model_id": "34714574bcf94b8b92f8e96d6e41d268",
       "version_major": 2,
       "version_minor": 0
      },
      "text/plain": [
       "HBox(children=(IntProgress(value=0, max=5000), HTML(value='')))"
      ]
     },
     "metadata": {},
     "output_type": "display_data"
    },
    {
     "name": "stdout",
     "output_type": "stream",
     "text": [
      "Score in the FrozenLakeEnv environment with seed 34:\n",
      "Agent = Qlearning(behavioral_strategy=EpsilonGreedyPolicy(epsilon=0.0620865541722682, ConstantSchedule(value=0.062)), alpha=ConstantSchedule(value=0.341))\n",
      "Score = -0.9999999999999999. Breakdown:\n",
      "\tEvaluation mean reward = 0.0, normalized = -1.0, weighted = -0.7\n",
      "\tTraining mean reward = 0.0, normalized = -1.0, weighted = -0.1\n",
      "\tTraining episodes = 5000, normalized = -1.0, weighted = -0.2\n",
      "Total score across all environments for seed 34 = -0.9999999999999999\n",
      "---------------------------------------------\n",
      "\n",
      "Training on FrozenLakeEnv environment with seed 90 and params {'behavioral_strategy': EpsilonGreedyPolicy(epsilon=1.0, ExponentiallyDecayingSchedule(initial_value=1.0, min_value=0.005, decay_rate=0.999, value=1.0)), 'alpha': ExponentiallyDecayingSchedule(initial_value=1.0, min_value=0.073, decay_rate=0.964, value=1.0)}\n",
      "Score in the FrozenLakeEnv environment with seed 12:\n",
      "Agent = Qlearning(behavioral_strategy=EpsilonGreedyPolicy(epsilon=0.0620865541722682, ConstantSchedule(value=0.062)), alpha=ConstantSchedule(value=0.341))\n",
      "Score = -0.9999999999999999. Breakdown:\n",
      "\tEvaluation mean reward = 0.0, normalized = -1.0, weighted = -0.7\n",
      "\tTraining mean reward = 0.0, normalized = -1.0, weighted = -0.1\n",
      "\tTraining episodes = 5000, normalized = -1.0, weighted = -0.2\n",
      "Total score across all environments for seed 12 = -0.9999999999999999\n",
      "---------------------------------------------\n",
      "\n",
      "Training on FrozenLakeEnv environment with seed 12 and params {'behavioral_strategy': EpsilonGreedyPolicy(epsilon=0.0775019291289278, ConstantSchedule(value=0.078)), 'alpha': ConstantSchedule(value=0.744)}\n"
     ]
    },
    {
     "data": {
      "application/vnd.jupyter.widget-view+json": {
       "model_id": "7339e810385b4dd5afc9a89504d20aa7",
       "version_major": 2,
       "version_minor": 0
      },
      "text/plain": [
       "HBox(children=(IntProgress(value=0, max=5000), HTML(value='')))"
      ]
     },
     "metadata": {},
     "output_type": "display_data"
    },
    {
     "name": "stdout",
     "output_type": "stream",
     "text": [
      "\n"
     ]
    },
    {
     "data": {
      "application/vnd.jupyter.widget-view+json": {
       "model_id": "6799c165e5d04079810b1b5c4cb926a2",
       "version_major": 2,
       "version_minor": 0
      },
      "text/plain": [
       "HBox(children=(IntProgress(value=0, max=5000), HTML(value='')))"
      ]
     },
     "metadata": {},
     "output_type": "display_data"
    },
    {
     "name": "stdout",
     "output_type": "stream",
     "text": [
      "Score in the FrozenLakeEnv environment with seed 78:\n",
      "Agent = Qlearning(behavioral_strategy=EpsilonGreedyPolicy(epsilon=0.11536442599539684, ConstantSchedule(value=0.115)), alpha=ConstantSchedule(value=0.723))\n",
      "Score = -0.9999999999999999. Breakdown:\n",
      "\tEvaluation mean reward = 0.0, normalized = -1.0, weighted = -0.7\n",
      "\tTraining mean reward = 0.0, normalized = -1.0, weighted = -0.1\n",
      "\tTraining episodes = 5000, normalized = -1.0, weighted = -0.2\n",
      "Total score across all environments for seed 78 = -0.9999999999999999\n",
      "---------------------------------------------\n",
      "\n",
      "Training on FrozenLakeEnv environment with seed 34 and params {'behavioral_strategy': EpsilonGreedyPolicy(epsilon=0.0775019291289278, ConstantSchedule(value=0.078)), 'alpha': ConstantSchedule(value=0.744)}\n"
     ]
    },
    {
     "data": {
      "application/vnd.jupyter.widget-view+json": {
       "model_id": "0a9bb68a9a9b4d45b6e94e0d17ecefdb",
       "version_major": 2,
       "version_minor": 0
      },
      "text/plain": [
       "HBox(children=(IntProgress(value=0, max=5000), HTML(value='')))"
      ]
     },
     "metadata": {},
     "output_type": "display_data"
    },
    {
     "name": "stdout",
     "output_type": "stream",
     "text": [
      "\n",
      "\n",
      "Score in the FrozenLakeEnv environment with seed 78:\n",
      "Agent = Qlearning(behavioral_strategy=EpsilonGreedyPolicy(epsilon=0.11386286623716069, ConstantSchedule(value=0.114)), alpha=LinearlyDecayingSchedule(initial_value=1.0, min_value=0.052, decay_rate=0.976, value=0.052))\n",
      "Score = -0.9999999999999999. Breakdown:\n",
      "\tEvaluation mean reward = 0.0, normalized = -1.0, weighted = -0.7\n",
      "\tTraining mean reward = 0.0, normalized = -1.0, weighted = -0.1\n",
      "\tTraining episodes = 5000, normalized = -1.0, weighted = -0.2\n",
      "Total score across all environments for seed 78 = -0.9999999999999999\n",
      "---------------------------------------------\n",
      "\n",
      "Score in the FrozenLakeEnv environment with seed 78:\n",
      "Agent = Qlearning(behavioral_strategy=EpsilonGreedyPolicy(epsilon=0.9856096084041313, LinearlyDecayingSchedule(initial_value=1.0, min_value=0.007, decay_rate=0.998, value=0.986)), alpha=LinearlyDecayingSchedule(initial_value=1.0, min_value=0.098, decay_rate=1.0, value=0.098))\n",
      "Score = 0.5385477709947993. Breakdown:\n",
      "\tEvaluation mean reward = 0.71, normalized = 0.3426949069654588, weighted = 0.23988643487582115\n",
      "\tTraining mean reward = 0.77, normalized = 0.9866142981514305, weighted = 0.09866142981514306\n",
      "\tTraining episodes = 1001, normalized = 0.9999995315191756, weighted = 0.19999990630383513Training on FrozenLakeEnv environment with seed 56 and params {'behavioral_strategy': EpsilonGreedyPolicy(epsilon=0.0775019291289278, ConstantSchedule(value=0.078)), 'alpha': ConstantSchedule(value=0.744)}\n",
      "\n",
      "Total score across all environments for seed 78 = 0.5385477709947993\n",
      "---------------------------------------------\n",
      "\n",
      "Training on FrozenLakeEnv environment with seed 78 and params {'behavioral_strategy': EpsilonGreedyPolicy(epsilon=0.0775019291289278, ConstantSchedule(value=0.078)), 'alpha': ConstantSchedule(value=0.744)}\n"
     ]
    },
    {
     "data": {
      "application/vnd.jupyter.widget-view+json": {
       "model_id": "be9b2df95cf34ebdad719b34e0b44d09",
       "version_major": 2,
       "version_minor": 0
      },
      "text/plain": [
       "HBox(children=(IntProgress(value=0, max=5000), HTML(value='')))"
      ]
     },
     "metadata": {},
     "output_type": "display_data"
    },
    {
     "name": "stdout",
     "output_type": "stream",
     "text": [
      "\n",
      "Score in the FrozenLakeEnv environment with seed 56:\n",
      "Agent = Qlearning(behavioral_strategy=EpsilonGreedyPolicy(epsilon=0.0620865541722682, ConstantSchedule(value=0.062)), alpha=ConstantSchedule(value=0.341))\n",
      "Score = -0.9999999999999999. Breakdown:\n",
      "\tEvaluation mean reward = 0.0, normalized = -1.0, weighted = -0.7\n",
      "\tTraining mean reward = 0.0, normalized = -1.0, weighted = -0.1\n",
      "\tTraining episodes = 5000, normalized = -1.0, weighted = -0.2\n",
      "Total score across all environments for seed 56 = -0.9999999999999999\n",
      "---------------------------------------------\n",
      "\n",
      "Training on FrozenLakeEnv environment with seed 90 and params {'behavioral_strategy': EpsilonGreedyPolicy(epsilon=0.0775019291289278, ConstantSchedule(value=0.078)), 'alpha': ConstantSchedule(value=0.744)}\n"
     ]
    },
    {
     "data": {
      "application/vnd.jupyter.widget-view+json": {
       "model_id": "5172e52f0a054f5fbe12261f506b8e3c",
       "version_major": 2,
       "version_minor": 0
      },
      "text/plain": [
       "HBox(children=(IntProgress(value=0, max=5000), HTML(value='')))"
      ]
     },
     "metadata": {},
     "output_type": "display_data"
    },
    {
     "data": {
      "application/vnd.jupyter.widget-view+json": {
       "model_id": "7d326dddcfb84e31ba275cba858638a4",
       "version_major": 2,
       "version_minor": 0
      },
      "text/plain": [
       "HBox(children=(IntProgress(value=0, max=5000), HTML(value='')))"
      ]
     },
     "metadata": {},
     "output_type": "display_data"
    },
    {
     "data": {
      "application/vnd.jupyter.widget-view+json": {
       "model_id": "c086bf9db067465292eac184a6b9e9a4",
       "version_major": 2,
       "version_minor": 0
      },
      "text/plain": [
       "HBox(children=(IntProgress(value=0, max=5000), HTML(value='')))"
      ]
     },
     "metadata": {},
     "output_type": "display_data"
    },
    {
     "name": "stdout",
     "output_type": "stream",
     "text": [
      "\n",
      "\n",
      "Score in the FrozenLakeEnv environment with seed 34:\n",
      "Agent = Qlearning(behavioral_strategy=EpsilonGreedyPolicy(epsilon=0.9880080070034427, LinearlyDecayingSchedule(initial_value=1.0, min_value=0.007, decay_rate=0.998, value=0.988)), alpha=LinearlyDecayingSchedule(initial_value=1.0, min_value=0.098, decay_rate=1.0, value=0.098))\n",
      "Score = 0.9002437887446174. Breakdown:\n",
      "\tEvaluation mean reward = 0.74, normalized = 0.8913734677347187, weighted = 0.623961427414303\n",
      "\tTraining mean reward = 0.74, normalized = 0.8913734677347187, weighted = 0.08913734677347188\n",
      "\tTraining episodes = 1651, normalized = 0.9357250727842126, weighted = 0.18714501455684251\n",
      "\n",
      "Total score across all environments for seed 34 = 0.9002437887446174\n",
      "---------------------------------------------\n",
      "\n",
      "Training on FrozenLakeEnv environment with seed 12 and params {'behavioral_strategy': EpsilonGreedyPolicy(epsilon=0.0620865541722682, ConstantSchedule(value=0.062)), 'alpha': ConstantSchedule(value=0.744)}\n",
      "Score in the FrozenLakeEnv environment with seed 90:\n",
      "Agent = Qlearning(behavioral_strategy=EpsilonGreedyPolicy(epsilon=0.9928048042020656, LinearlyDecayingSchedule(initial_value=1.0, min_value=0.007, decay_rate=0.998, value=0.993)), alpha=LinearlyDecayingSchedule(initial_value=1.0, min_value=0.098, decay_rate=1.0, value=0.098))\n",
      "Score = 0.04867214706863697. Breakdown:\n",
      "\tEvaluation mean reward = 0.69, normalized = -0.34269490696546123, weighted = -0.23988643487582284\n",
      "\tTraining mean reward = 0.76, normalized = 0.9728461661125116, weighted = 0.09728461661125117\n",
      "\tTraining episodes = 1601, normalized = 0.9563698266660432, weighted = 0.19127396533320865\n",
      "Total score across all environments for seed 90 = 0.04867214706863697\n",
      "---------------------------------------------\n",
      "\n",
      "\n",
      "Training on FrozenLakeEnv environment with seed 34 and params {'behavioral_strategy': EpsilonGreedyPolicy(epsilon=0.0620865541722682, ConstantSchedule(value=0.062)), 'alpha': ConstantSchedule(value=0.744)}\n",
      "Score in the FrozenLakeEnv environment with seed 34:\n",
      "Agent = Qlearning(behavioral_strategy=EpsilonGreedyPolicy(epsilon=0.09891688511742908, ConstantSchedule(value=0.099)), alpha=ExponentiallyDecayingSchedule(initial_value=1.0, min_value=0.074, decay_rate=0.991, value=0.074))\n",
      "Score = -0.9999999985636957. Breakdown:\n",
      "\tEvaluation mean reward = 0.41, normalized = -0.9999999979819588, weighted = -0.6999999985873712\n",
      "\tTraining mean reward = 0.38, normalized = -0.999999999763245, weighted = -0.09999999997632451\n",
      "\tTraining episodes = 5000, normalized = -1.0, weighted = -0.2\n",
      "Total score across all environments for seed 34 = -0.9999999985636957\n",
      "---------------------------------------------\n",
      "\n",
      "Training on FrozenLakeEnv environment with seed 56 and params {'behavioral_strategy': EpsilonGreedyPolicy(epsilon=0.0620865541722682, ConstantSchedule(value=0.062)), 'alpha': ConstantSchedule(value=0.744)}\n",
      "Score in the FrozenLakeEnv environment with seed 56:\n",
      "Agent = Qlearning(behavioral_strategy=EpsilonGreedyPolicy(epsilon=0.9121530652930798, ExponentiallyDecayingSchedule(initial_value=1.0, min_value=0.001, decay_rate=0.997, value=0.912)), alpha=ExponentiallyDecayingSchedule(initial_value=1.0, min_value=0.073, decay_rate=0.964, value=0.073))\n",
      "Score = -0.8251520629712299. Breakdown:\n",
      "\tEvaluation mean reward = 0.65, normalized = -0.9453064264076338, weighted = -0.6617144984853437\n",
      "\tTraining mean reward = 0.7, normalized = 0.0, weighted = 0.0\n",
      "\tTraining episodes = 3501, normalized = -0.8171878224294309, weighted = -0.1634375644858862\n",
      "Total score across all environments for seed 56 = -0.8251520629712299\n",
      "---------------------------------------------\n",
      "\n",
      "Training on FrozenLakeEnv environment with seed 78 and params {'behavioral_strategy': EpsilonGreedyPolicy(epsilon=0.0620865541722682, ConstantSchedule(value=0.062)), 'alpha': ConstantSchedule(value=0.744)}\n"
     ]
    },
    {
     "data": {
      "application/vnd.jupyter.widget-view+json": {
       "model_id": "37b715465c1442b6bc2fe6cf654602bd",
       "version_major": 2,
       "version_minor": 0
      },
      "text/plain": [
       "HBox(children=(IntProgress(value=0, max=5000), HTML(value='')))"
      ]
     },
     "metadata": {},
     "output_type": "display_data"
    },
    {
     "data": {
      "application/vnd.jupyter.widget-view+json": {
       "model_id": "62a4cf3619494e3c827acd4c12f50fd7",
       "version_major": 2,
       "version_minor": 0
      },
      "text/plain": [
       "HBox(children=(IntProgress(value=0, max=5000), HTML(value='')))"
      ]
     },
     "metadata": {},
     "output_type": "display_data"
    },
    {
     "data": {
      "application/vnd.jupyter.widget-view+json": {
       "model_id": "86fb2e9da6ac4d58a3821782732ace58",
       "version_major": 2,
       "version_minor": 0
      },
      "text/plain": [
       "HBox(children=(IntProgress(value=0, max=5000), HTML(value='')))"
      ]
     },
     "metadata": {},
     "output_type": "display_data"
    },
    {
     "data": {
      "application/vnd.jupyter.widget-view+json": {
       "model_id": "177f7ae0a0154941b35bf09cfbb3bc93",
       "version_major": 2,
       "version_minor": 0
      },
      "text/plain": [
       "HBox(children=(IntProgress(value=0, max=5000), HTML(value='')))"
      ]
     },
     "metadata": {},
     "output_type": "display_data"
    },
    {
     "name": "stdout",
     "output_type": "stream",
     "text": [
      "\n",
      "Score in the FrozenLakeEnv environment with seed 56:\n",
      "Agent = Qlearning(behavioral_strategy=EpsilonGreedyPolicy(epsilon=0.09891688511742908, ConstantSchedule(value=0.099)), alpha=ExponentiallyDecayingSchedule(initial_value=1.0, min_value=0.074, decay_rate=0.991, value=0.074))\n",
      "Score = -0.9999999999999999. Breakdown:\n",
      "\tEvaluation mean reward = 0.06, normalized = -1.0, weighted = -0.7\n",
      "\tTraining mean reward = 0.08, normalized = -1.0, weighted = -0.1\n",
      "\tTraining episodes = 5000, normalized = -1.0, weighted = -0.2\n",
      "Total score across all environments for seed 56 = -0.9999999999999999\n",
      "---------------------------------------------\n",
      "\n",
      "Training on FrozenLakeEnv environment with seed 90 and params {'behavioral_strategy': EpsilonGreedyPolicy(epsilon=0.0620865541722682, ConstantSchedule(value=0.062)), 'alpha': ConstantSchedule(value=0.744)}\n"
     ]
    },
    {
     "data": {
      "application/vnd.jupyter.widget-view+json": {
       "model_id": "0722fded8c6e4148aca9d0dca9eee8b3",
       "version_major": 2,
       "version_minor": 0
      },
      "text/plain": [
       "HBox(children=(IntProgress(value=0, max=5000), HTML(value='')))"
      ]
     },
     "metadata": {},
     "output_type": "display_data"
    },
    {
     "name": "stdout",
     "output_type": "stream",
     "text": [
      "\n",
      "Score in the FrozenLakeEnv environment with seed 78:\n",
      "Agent = Qlearning(behavioral_strategy=EpsilonGreedyPolicy(epsilon=0.0775019291289278, ConstantSchedule(value=0.078)), alpha=ConstantSchedule(value=0.723))\n",
      "Score = 0.6992769056671188. Breakdown:\n",
      "\tEvaluation mean reward = 0.77, normalized = 0.9866142981514305, weighted = 0.6906300087060013\n",
      "\tTraining mean reward = 0.74, normalized = 0.8913734677347187, weighted = 0.08913734677347188\n",
      "\tTraining episodes = 2801, normalized = -0.4024522490617721, weighted = -0.08049044981235443\n",
      "Total score across all environments for seed 78 = 0.6992769056671188\n",
      "---------------------------------------------\n",
      "\n",
      "Training on FrozenLakeEnv environment with seed 12 and params {'behavioral_strategy': EpsilonGreedyPolicy(epsilon=1.0, ExponentiallyDecayingSchedule(initial_value=1.0, min_value=0.001, decay_rate=0.997, value=1.0)), 'alpha': LinearlyDecayingSchedule(initial_value=1.0, min_value=0.137, decay_rate=0.998, value=1.0)}\n",
      "\n"
     ]
    },
    {
     "data": {
      "application/vnd.jupyter.widget-view+json": {
       "model_id": "e805081896f149d4ad2006d5d3bfb709",
       "version_major": 2,
       "version_minor": 0
      },
      "text/plain": [
       "HBox(children=(IntProgress(value=0, max=5000), HTML(value='')))"
      ]
     },
     "metadata": {},
     "output_type": "display_data"
    },
    {
     "name": "stdout",
     "output_type": "stream",
     "text": [
      "Score in the FrozenLakeEnv environment with seed 56:\n",
      "Agent = Qlearning(behavioral_strategy=EpsilonGreedyPolicy(epsilon=0.9671008414870099, LinearlyDecayingSchedule(initial_value=1.0, min_value=0.028, decay_rate=0.993, value=0.967)), alpha=ExponentiallyDecayingSchedule(initial_value=1.0, min_value=0.06, decay_rate=0.994, value=0.06))\n",
      "Score = 0.8797827204649604. Breakdown:\n",
      "\tEvaluation mean reward = 0.77, normalized = 0.9866142981514305, weighted = 0.6906300087060013\n",
      "\tTraining mean reward = 0.73, normalized = 0.7899988299594711, weighted = 0.07899988299594712\n",
      "\tTraining episodes = 2051, normalized = 0.5507641438150594, weighted = 0.1101528287630119\n",
      "Total score across all environments for seed 56 = 0.8797827204649604\n",
      "---------------------------------------------\n",
      "\n",
      "Training on FrozenLakeEnv environment with seed 34 and params {'behavioral_strategy': EpsilonGreedyPolicy(epsilon=1.0, ExponentiallyDecayingSchedule(initial_value=1.0, min_value=0.001, decay_rate=0.997, value=1.0)), 'alpha': LinearlyDecayingSchedule(initial_value=1.0, min_value=0.137, decay_rate=0.998, value=1.0)}\n"
     ]
    },
    {
     "data": {
      "application/vnd.jupyter.widget-view+json": {
       "model_id": "390614ca32e74a64a9f1129f0b57c3eb",
       "version_major": 2,
       "version_minor": 0
      },
      "text/plain": [
       "HBox(children=(IntProgress(value=0, max=5000), HTML(value='')))"
      ]
     },
     "metadata": {},
     "output_type": "display_data"
    },
    {
     "name": "stdout",
     "output_type": "stream",
     "text": [
      "\n",
      "Score in the FrozenLakeEnv environment with seed 78:\n",
      "Agent = Qlearning(behavioral_strategy=EpsilonGreedyPolicy(epsilon=0.09891688511742908, ConstantSchedule(value=0.099)), alpha=ExponentiallyDecayingSchedule(initial_value=1.0, min_value=0.074, decay_rate=0.991, value=0.074))\n",
      "Score = -0.9999999999999999. Breakdown:\n",
      "\tEvaluation mean reward = 0.0, normalized = -1.0, weighted = -0.7\n",
      "\tTraining mean reward = 0.0, normalized = -1.0, weighted = -0.1\n",
      "\tTraining episodes = 5000, normalized = -1.0, weighted = -0.2\n",
      "Total score across all environments for seed 78 = -0.9999999999999999\n",
      "---------------------------------------------\n",
      "\n",
      "Training on FrozenLakeEnv environment with seed 56 and params {'behavioral_strategy': EpsilonGreedyPolicy(epsilon=1.0, ExponentiallyDecayingSchedule(initial_value=1.0, min_value=0.001, decay_rate=0.997, value=1.0)), 'alpha': LinearlyDecayingSchedule(initial_value=1.0, min_value=0.137, decay_rate=0.998, value=1.0)}\n"
     ]
    },
    {
     "data": {
      "application/vnd.jupyter.widget-view+json": {
       "model_id": "662345e3e66241d4b077e6c419112388",
       "version_major": 2,
       "version_minor": 0
      },
      "text/plain": [
       "HBox(children=(IntProgress(value=0, max=5000), HTML(value='')))"
      ]
     },
     "metadata": {},
     "output_type": "display_data"
    },
    {
     "name": "stdout",
     "output_type": "stream",
     "text": [
      "\n",
      "Score in the FrozenLakeEnv environment with seed 90:\n",
      "Agent = Qlearning(behavioral_strategy=EpsilonGreedyPolicy(epsilon=0.09891688511742908, ConstantSchedule(value=0.099)), alpha=ExponentiallyDecayingSchedule(initial_value=1.0, min_value=0.074, decay_rate=0.991, value=0.074))\n",
      "Score = -0.7656797816031096. Breakdown:\n",
      "\tEvaluation mean reward = 0.65, normalized = -0.9453064264076338, weighted = -0.6617144984853437\n",
      "\tTraining mean reward = 0.75, normalized = 0.9453064264076343, weighted = 0.09453064264076344\n",
      "\tTraining episodes = 4601, normalized = -0.9924796287926463, weighted = -0.19849592575852926\n",
      "Total score across all environments for seed 90 = -0.7656797816031096\n",
      "---------------------------------------------\n",
      "\n",
      "Training on FrozenLakeEnv environment with seed 78 and params {'behavioral_strategy': EpsilonGreedyPolicy(epsilon=1.0, ExponentiallyDecayingSchedule(initial_value=1.0, min_value=0.001, decay_rate=0.997, value=1.0)), 'alpha': LinearlyDecayingSchedule(initial_value=1.0, min_value=0.137, decay_rate=0.998, value=1.0)}\n"
     ]
    },
    {
     "data": {
      "application/vnd.jupyter.widget-view+json": {
       "model_id": "3dc9bb9bd3de4024957b8880f2e1c8df",
       "version_major": 2,
       "version_minor": 0
      },
      "text/plain": [
       "HBox(children=(IntProgress(value=0, max=5000), HTML(value='')))"
      ]
     },
     "metadata": {},
     "output_type": "display_data"
    },
    {
     "name": "stdout",
     "output_type": "stream",
     "text": [
      "\n",
      "Score in the FrozenLakeEnv environment with seed 34:\n",
      "Agent = Qlearning(behavioral_strategy=EpsilonGreedyPolicy(epsilon=0.9098263111295232, ExponentiallyDecayingSchedule(initial_value=1.0, min_value=0.001, decay_rate=0.997, value=0.91)), alpha=LinearlyDecayingSchedule(initial_value=1.0, min_value=0.137, decay_rate=0.998, value=0.137))\n",
      "Score = 0.823961427414303. Breakdown:\n",
      "\tEvaluation mean reward = 0.74, normalized = 0.8913734677347187, weighted = 0.623961427414303\n",
      "\tTraining mean reward = 0.7, normalized = 0.0, weighted = 0.0\n",
      "\tTraining episodes = 651, normalized = 1.0, weighted = 0.2\n",
      "Total score across all environments for seed 34 = 0.823961427414303\n",
      "---------------------------------------------\n",
      "\n",
      "Training on FrozenLakeEnv environment with seed 90 and params {'behavioral_strategy': EpsilonGreedyPolicy(epsilon=1.0, ExponentiallyDecayingSchedule(initial_value=1.0, min_value=0.001, decay_rate=0.997, value=1.0)), 'alpha': LinearlyDecayingSchedule(initial_value=1.0, min_value=0.137, decay_rate=0.998, value=1.0)}\n",
      "\n",
      "\n",
      "Score in the FrozenLakeEnv environment with seed 78:\n",
      "Agent = Qlearning(behavioral_strategy=EpsilonGreedyPolicy(epsilon=0.9905652252485234, ExponentiallyDecayingSchedule(initial_value=1.0, min_value=0.005, decay_rate=0.999, value=0.991)), alpha=ExponentiallyDecayingSchedule(initial_value=1.0, min_value=0.073, decay_rate=0.964, value=0.073))\n",
      "Score = -0.5777378700161397. Breakdown:\n",
      "\tEvaluation mean reward = 0.62, normalized = -0.993424677228132, weighted = -0.6953972740596923\n",
      "\tTraining mean reward = 0.73, normalized = 0.7899988299594711, weighted = 0.07899988299594712\n",
      "\tTraining episodes = 2301, normalized = 0.19329760523802686, weighted = 0.03865952104760537\n"
     ]
    },
    {
     "data": {
      "application/vnd.jupyter.widget-view+json": {
       "model_id": "b44a2caf3a1a439faf4ccd37fa9bdee2",
       "version_major": 2,
       "version_minor": 0
      },
      "text/plain": [
       "HBox(children=(IntProgress(value=0, max=5000), HTML(value='')))"
      ]
     },
     "metadata": {},
     "output_type": "display_data"
    },
    {
     "name": "stdout",
     "output_type": "stream",
     "text": [
      "Total score across all environments for seed 78 = -0.5777378700161397\n",
      "---------------------------------------------\n",
      "\n",
      "Training on FrozenLakeEnv environment with seed 12 and params {'behavioral_strategy': EpsilonGreedyPolicy(epsilon=1.0, LinearlyDecayingSchedule(initial_value=1.0, min_value=0.009, decay_rate=0.988, value=1.0)), 'alpha': ConstantSchedule(value=0.723)}\n",
      "Score in the FrozenLakeEnv environment with seed 90:\n",
      "Agent = Qlearning(behavioral_strategy=EpsilonGreedyPolicy(epsilon=0.980260504892206, LinearlyDecayingSchedule(initial_value=1.0, min_value=0.028, decay_rate=0.993, value=0.98)), alpha=ExponentiallyDecayingSchedule(initial_value=1.0, min_value=0.06, decay_rate=0.994, value=0.06))\n",
      "Score = -0.7276695778008191. Breakdown:\n",
      "\tEvaluation mean reward = 0.55, normalized = -0.9999555506739739, weighted = -0.6999688854717817\n",
      "\tTraining mean reward = 0.7, normalized = 0.0, weighted = 0.0\n",
      "\tTraining episodes = 2551, normalized = -0.13850346164518668, weighted = -0.027700692329037338\n",
      "Total score across all environments for seed 90 = -0.7276695778008191\n",
      "---------------------------------------------\n",
      "\n",
      "Training on FrozenLakeEnv environment with seed 34 and params {'behavioral_strategy': EpsilonGreedyPolicy(epsilon=1.0, LinearlyDecayingSchedule(initial_value=1.0, min_value=0.009, decay_rate=0.988, value=1.0)), 'alpha': ConstantSchedule(value=0.723)}\n",
      "\n"
     ]
    },
    {
     "data": {
      "application/vnd.jupyter.widget-view+json": {
       "model_id": "c1c34f4a13ce4ae5936087512a1543e4",
       "version_major": 2,
       "version_minor": 0
      },
      "text/plain": [
       "HBox(children=(IntProgress(value=0, max=5000), HTML(value='')))"
      ]
     },
     "metadata": {},
     "output_type": "display_data"
    },
    {
     "name": "stdout",
     "output_type": "stream",
     "text": [
      "Score in the FrozenLakeEnv environment with seed 90:\n",
      "Agent = Qlearning(behavioral_strategy=EpsilonGreedyPolicy(epsilon=0.9915046831234728, ExponentiallyDecayingSchedule(initial_value=1.0, min_value=0.005, decay_rate=0.999, value=0.992)), alpha=ExponentiallyDecayingSchedule(initial_value=1.0, min_value=0.073, decay_rate=0.964, value=0.073))\n",
      "Score = -0.07889099499054586. Breakdown:\n",
      "\tEvaluation mean reward = 0.69, normalized = -0.34269490696546123, weighted = -0.23988643487582284\n",
      "\tTraining mean reward = 0.73, normalized = 0.7899988299594711, weighted = 0.07899988299594712\n",
      "\tTraining episodes = 2151, normalized = 0.40997778444664923, weighted = 0.08199555688932986\n",
      "Total score across all environments for seed 90 = -0.07889099499054586\n"
     ]
    },
    {
     "data": {
      "application/vnd.jupyter.widget-view+json": {
       "model_id": "e39e10e8c3c14dc5bfc7dc29fce1d0b0",
       "version_major": 2,
       "version_minor": 0
      },
      "text/plain": [
       "HBox(children=(IntProgress(value=0, max=5000), HTML(value='')))"
      ]
     },
     "metadata": {},
     "output_type": "display_data"
    },
    {
     "name": "stdout",
     "output_type": "stream",
     "text": [
      "---------------------------------------------\n",
      "\n",
      "Training on FrozenLakeEnv environment with seed 56 and params {'behavioral_strategy': EpsilonGreedyPolicy(epsilon=1.0, LinearlyDecayingSchedule(initial_value=1.0, min_value=0.009, decay_rate=0.988, value=1.0)), 'alpha': ConstantSchedule(value=0.723)}\n"
     ]
    },
    {
     "data": {
      "application/vnd.jupyter.widget-view+json": {
       "model_id": "355dcc2507a74274ab628487c4d85a35",
       "version_major": 2,
       "version_minor": 0
      },
      "text/plain": [
       "HBox(children=(IntProgress(value=0, max=5000), HTML(value='')))"
      ]
     },
     "metadata": {},
     "output_type": "display_data"
    },
    {
     "name": "stdout",
     "output_type": "stream",
     "text": [
      "\n",
      "\n",
      "Score in the FrozenLakeEnv environment with seed 78:\n",
      "Agent = Qlearning(behavioral_strategy=EpsilonGreedyPolicy(epsilon=0.993420168297402, LinearlyDecayingSchedule(initial_value=1.0, min_value=0.028, decay_rate=0.993, value=0.993)), alpha=ExponentiallyDecayingSchedule(initial_value=1.0, min_value=0.06, decay_rate=0.994, value=0.06))\n",
      "Score = -0.7467484866747448. Breakdown:\n",
      "\tEvaluation mean reward = 0.62, normalized = -0.993424677228132, weighted = -0.6953972740596923\n",
      "\tTraining mean reward = 0.72, normalized = 0.6133572603953845, weighted = 0.061335726039538456\n",
      "\tTraining episodes = 3001, normalized = -0.5634346932729546, weighted = -0.11268693865459092\n",
      "Total score across all environments for seed 78 = -0.7467484866747448\n",
      "---------------------------------------------\n",
      "\n",
      "\n",
      "Training on FrozenLakeEnv environment with seed 78 and params {'behavioral_strategy': EpsilonGreedyPolicy(epsilon=1.0, LinearlyDecayingSchedule(initial_value=1.0, min_value=0.009, decay_rate=0.988, value=1.0)), 'alpha': ConstantSchedule(value=0.723)}\n",
      "Score in the FrozenLakeEnv environment with seed 34:\n",
      "Agent = Qlearning(behavioral_strategy=EpsilonGreedyPolicy(epsilon=0.9539411780818139, LinearlyDecayingSchedule(initial_value=1.0, min_value=0.028, decay_rate=0.993, value=0.954)), alpha=ExponentiallyDecayingSchedule(initial_value=1.0, min_value=0.06, decay_rate=0.994, value=0.06))\n",
      "Score = 0.5208823777718653. Breakdown:\n",
      "\tEvaluation mean reward = 0.74, normalized = 0.8913734677347187, weighted = 0.623961427414303\n",
      "\tTraining mean reward = 0.71, normalized = 0.3426949069654588, weighted = 0.03426949069654588\n",
      "\tTraining episodes = 3201, normalized = -0.6867427016949178, weighted = -0.13734854033898355\n",
      "Total score across all environments for seed 34 = 0.5208823777718653\n",
      "---------------------------------------------\n",
      "\n",
      "Training on FrozenLakeEnv environment with seed 90 and params {'behavioral_strategy': EpsilonGreedyPolicy(epsilon=1.0, LinearlyDecayingSchedule(initial_value=1.0, min_value=0.009, decay_rate=0.988, value=1.0)), 'alpha': ConstantSchedule(value=0.723)}\n",
      "Score in the FrozenLakeEnv environment with seed 56:\n",
      "Agent = Qlearning(behavioral_strategy=EpsilonGreedyPolicy(epsilon=0.9276218512714218, LinearlyDecayingSchedule(initial_value=1.0, min_value=0.028, decay_rate=0.993, value=0.928)), alpha=LinearlyDecayingSchedule(initial_value=1.0, min_value=0.052, decay_rate=0.976, value=0.052))\n",
      "Score = -0.6950562650828433. Breakdown:\n",
      "\tEvaluation mean reward = 0.66, normalized = -0.8913734677347183, weighted = -0.6239614274143027\n",
      "\tTraining mean reward = 0.7, normalized = 0.0, weighted = 0.0\n",
      "\tTraining episodes = 2751, normalized = -0.35547418834270317, weighted = -0.07109483766854063\n",
      "Total score across all environments for seed 56 = -0.6950562650828433\n",
      "---------------------------------------------\n",
      "\n",
      "Training on FrozenLakeEnv environment with seed 12 and params {'behavioral_strategy': EpsilonGreedyPolicy(epsilon=1.0, ExponentiallyDecayingSchedule(initial_value=1.0, min_value=0.023, decay_rate=0.993, value=1.0)), 'alpha': LinearlyDecayingSchedule(initial_value=1.0, min_value=0.137, decay_rate=0.998, value=1.0)}\n"
     ]
    },
    {
     "data": {
      "application/vnd.jupyter.widget-view+json": {
       "model_id": "741e7c34a1a5478da34982de0e60f8e2",
       "version_major": 2,
       "version_minor": 0
      },
      "text/plain": [
       "HBox(children=(IntProgress(value=0, max=5000), HTML(value='')))"
      ]
     },
     "metadata": {},
     "output_type": "display_data"
    },
    {
     "data": {
      "application/vnd.jupyter.widget-view+json": {
       "model_id": "a939dfa0ec9d48358974d1e7e5a91be9",
       "version_major": 2,
       "version_minor": 0
      },
      "text/plain": [
       "HBox(children=(IntProgress(value=0, max=5000), HTML(value='')))"
      ]
     },
     "metadata": {},
     "output_type": "display_data"
    },
    {
     "data": {
      "application/vnd.jupyter.widget-view+json": {
       "model_id": "647680c06b124d59b577021fa44214d5",
       "version_major": 2,
       "version_minor": 0
      },
      "text/plain": [
       "HBox(children=(IntProgress(value=0, max=5000), HTML(value='')))"
      ]
     },
     "metadata": {},
     "output_type": "display_data"
    },
    {
     "name": "stdout",
     "output_type": "stream",
     "text": [
      "\n",
      "Score in the FrozenLakeEnv environment with seed 12:\n",
      "Agent = Qlearning(behavioral_strategy=EpsilonGreedyPolicy(epsilon=0.0775019291289278, ConstantSchedule(value=0.078)), alpha=ConstantSchedule(value=0.723))\n",
      "Score = -0.9999999999999999. Breakdown:\n",
      "\tEvaluation mean reward = 0.0, normalized = -1.0, weighted = -0.7\n",
      "\tTraining mean reward = 0.0, normalized = -1.0, weighted = -0.1\n",
      "\tTraining episodes = 5000, normalized = -1.0, weighted = -0.2\n",
      "Total score across all environments for seed 12 = -0.9999999999999999\n",
      "---------------------------------------------\n",
      "\n",
      "Training on FrozenLakeEnv environment with seed 34 and params {'behavioral_strategy': EpsilonGreedyPolicy(epsilon=1.0, ExponentiallyDecayingSchedule(initial_value=1.0, min_value=0.023, decay_rate=0.993, value=1.0)), 'alpha': LinearlyDecayingSchedule(initial_value=1.0, min_value=0.137, decay_rate=0.998, value=1.0)}\n",
      "\n"
     ]
    },
    {
     "data": {
      "application/vnd.jupyter.widget-view+json": {
       "model_id": "22ef6b3846ff4c419815e79863538f01",
       "version_major": 2,
       "version_minor": 0
      },
      "text/plain": [
       "HBox(children=(IntProgress(value=0, max=5000), HTML(value='')))"
      ]
     },
     "metadata": {},
     "output_type": "display_data"
    },
    {
     "name": "stdout",
     "output_type": "stream",
     "text": [
      "Score in the FrozenLakeEnv environment with seed 34:\n",
      "Agent = Qlearning(behavioral_strategy=EpsilonGreedyPolicy(epsilon=0.0775019291289278, ConstantSchedule(value=0.078)), alpha=ConstantSchedule(value=0.723))\n",
      "Score = -0.9999999999999999. Breakdown:\n",
      "\tEvaluation mean reward = 0.0, normalized = -1.0, weighted = -0.7\n",
      "\tTraining mean reward = 0.0, normalized = -1.0, weighted = -0.1\n",
      "\tTraining episodes = 5000, normalized = -1.0, weighted = -0.2\n",
      "Total score across all environments for seed 34 = -0.9999999999999999\n",
      "---------------------------------------------\n",
      "\n",
      "Training on FrozenLakeEnv environment with seed 56 and params {'behavioral_strategy': EpsilonGreedyPolicy(epsilon=1.0, ExponentiallyDecayingSchedule(initial_value=1.0, min_value=0.023, decay_rate=0.993, value=1.0)), 'alpha': LinearlyDecayingSchedule(initial_value=1.0, min_value=0.137, decay_rate=0.998, value=1.0)}\n"
     ]
    },
    {
     "data": {
      "application/vnd.jupyter.widget-view+json": {
       "model_id": "e110e46c23a14c6d95183d5d3a9d511a",
       "version_major": 2,
       "version_minor": 0
      },
      "text/plain": [
       "HBox(children=(IntProgress(value=0, max=5000), HTML(value='')))"
      ]
     },
     "metadata": {},
     "output_type": "display_data"
    },
    {
     "name": "stdout",
     "output_type": "stream",
     "text": [
      "\n",
      "Score in the FrozenLakeEnv environment with seed 78:\n",
      "Agent = Qlearning(behavioral_strategy=EpsilonGreedyPolicy(epsilon=0.993420168297402, LinearlyDecayingSchedule(initial_value=1.0, min_value=0.028, decay_rate=0.993, value=0.993)), alpha=LinearlyDecayingSchedule(initial_value=1.0, min_value=0.052, decay_rate=0.976, value=0.052))\n",
      "Score = -0.7843741244737557. Breakdown:\n",
      "\tEvaluation mean reward = 0.56, normalized = -0.9999092042625951, weighted = -0.6999364429838165\n",
      "\tTraining mean reward = 0.73, normalized = 0.7899988299594711, weighted = 0.07899988299594712\n",
      "\tTraining episodes = 3501, normalized = -0.8171878224294309, weighted = -0.1634375644858862\n",
      "Total score across all environments for seed 78 = -0.7843741244737557\n",
      "---------------------------------------------\n",
      "\n",
      "Training on FrozenLakeEnv environment with seed 78 and params {'behavioral_strategy': EpsilonGreedyPolicy(epsilon=1.0, ExponentiallyDecayingSchedule(initial_value=1.0, min_value=0.023, decay_rate=0.993, value=1.0)), 'alpha': LinearlyDecayingSchedule(initial_value=1.0, min_value=0.137, decay_rate=0.998, value=1.0)}\n",
      "\n",
      "Score in the FrozenLakeEnv environment with seed 56:\n",
      "Agent = Qlearning(behavioral_strategy=EpsilonGreedyPolicy(epsilon=0.0775019291289278, ConstantSchedule(value=0.078)), alpha=ConstantSchedule(value=0.723))\n",
      "Score = -0.9999999999999999. Breakdown:\n",
      "\tEvaluation mean reward = 0.0, normalized = -1.0, weighted = -0.7\n",
      "\tTraining mean reward = 0.0, normalized = -1.0, weighted = -0.1\n",
      "\tTraining episodes = 5000, normalized = -1.0, weighted = -0.2\n",
      "Total score across all environments for seed 56 = -0.9999999999999999\n",
      "---------------------------------------------\n",
      "\n",
      "Training on FrozenLakeEnv environment with seed 90 and params {'behavioral_strategy': EpsilonGreedyPolicy(epsilon=1.0, ExponentiallyDecayingSchedule(initial_value=1.0, min_value=0.023, decay_rate=0.993, value=1.0)), 'alpha': LinearlyDecayingSchedule(initial_value=1.0, min_value=0.137, decay_rate=0.998, value=1.0)}\n"
     ]
    },
    {
     "data": {
      "application/vnd.jupyter.widget-view+json": {
       "model_id": "c0e41f6de9244ca29b04fd8675b088d1",
       "version_major": 2,
       "version_minor": 0
      },
      "text/plain": [
       "HBox(children=(IntProgress(value=0, max=5000), HTML(value='')))"
      ]
     },
     "metadata": {},
     "output_type": "display_data"
    },
    {
     "data": {
      "application/vnd.jupyter.widget-view+json": {
       "model_id": "ea5b2d7cc7254aa6aefb03dabcf2af1d",
       "version_major": 2,
       "version_minor": 0
      },
      "text/plain": [
       "HBox(children=(IntProgress(value=0, max=5000), HTML(value='')))"
      ]
     },
     "metadata": {},
     "output_type": "display_data"
    },
    {
     "name": "stdout",
     "output_type": "stream",
     "text": [
      "\n",
      "Score in the FrozenLakeEnv environment with seed 90:\n",
      "Agent = Qlearning(behavioral_strategy=EpsilonGreedyPolicy(epsilon=0.9671008414870099, LinearlyDecayingSchedule(initial_value=1.0, min_value=0.028, decay_rate=0.993, value=0.967)), alpha=LinearlyDecayingSchedule(initial_value=1.0, min_value=0.052, decay_rate=0.976, value=0.052))\n",
      "Score = -0.32766165497319394. Breakdown:\n",
      "\tEvaluation mean reward = 0.69, normalized = -0.34269490696546123, weighted = -0.23988643487582284\n",
      "\tTraining mean reward = 0.73, normalized = 0.7899988299594711, weighted = 0.07899988299594712\n",
      "\tTraining episodes = 3551, normalized = -0.8338755154665909, weighted = -0.1667751030933182\n",
      "Total score across all environments for seed 90 = -0.32766165497319394\n",
      "---------------------------------------------\n",
      "\n",
      "Training on FrozenLakeEnv environment with seed 12 and params {'behavioral_strategy': EpsilonGreedyPolicy(epsilon=1.0, ExponentiallyDecayingSchedule(initial_value=1.0, min_value=0.001, decay_rate=0.997, value=1.0)), 'alpha': ConstantSchedule(value=0.723)}\n"
     ]
    },
    {
     "data": {
      "application/vnd.jupyter.widget-view+json": {
       "model_id": "eef524d8c7894c0994664144b0707073",
       "version_major": 2,
       "version_minor": 0
      },
      "text/plain": [
       "HBox(children=(IntProgress(value=0, max=5000), HTML(value='')))"
      ]
     },
     "metadata": {},
     "output_type": "display_data"
    },
    {
     "name": "stdout",
     "output_type": "stream",
     "text": [
      "\n",
      "\n",
      "Score in the FrozenLakeEnv environment with seed 78:\n",
      "Agent = Qlearning(behavioral_strategy=EpsilonGreedyPolicy(epsilon=0.0775019291289278, ConstantSchedule(value=0.078)), alpha=ConstantSchedule(value=0.744))\n",
      "Score = 0.15055910250693386. Breakdown:\n",
      "\tEvaluation mean reward = 0.71, normalized = 0.3426949069654588, weighted = 0.23988643487582115\n",
      "\tTraining mean reward = 0.7, normalized = 0.0, weighted = 0.0\n",
      "\tTraining episodes = 2851, normalized = -0.4466366618444364, weighted = -0.08932733236888729\n",
      "Total score across all environments for seed 78 = 0.15055910250693386\n",
      "---------------------------------------------\n",
      "\n",
      "Training on FrozenLakeEnv environment with seed 34 and params {'behavioral_strategy': EpsilonGreedyPolicy(epsilon=1.0, ExponentiallyDecayingSchedule(initial_value=1.0, min_value=0.001, decay_rate=0.997, value=1.0)), 'alpha': ConstantSchedule(value=0.723)}\n",
      "Score in the FrozenLakeEnv environment with seed 78:\n",
      "Agent = Qlearning(behavioral_strategy=EpsilonGreedyPolicy(epsilon=0.9974491625889466, ExponentiallyDecayingSchedule(initial_value=1.0, min_value=0.001, decay_rate=0.997, value=0.997)), alpha=LinearlyDecayingSchedule(initial_value=1.0, min_value=0.137, decay_rate=0.998, value=0.137))\n",
      "Score = -0.49883073457162597. Breakdown:\n",
      "\tEvaluation mean reward = 0.61, normalized = -0.9967756945029475, weighted = -0.6977429861520632\n",
      "\tTraining mean reward = 0.7, normalized = 0.0, weighted = 0.0\n",
      "\tTraining episodes = 1401, normalized = 0.9945612579021861, weighted = 0.19891225158043724\n",
      "Total score across all environments for seed 78 = -0.49883073457162597\n",
      "---------------------------------------------\n",
      "\n",
      "Training on FrozenLakeEnv environment with seed 56 and params {'behavioral_strategy': EpsilonGreedyPolicy(epsilon=1.0, ExponentiallyDecayingSchedule(initial_value=1.0, min_value=0.001, decay_rate=0.997, value=1.0)), 'alpha': ConstantSchedule(value=0.723)}\n"
     ]
    },
    {
     "data": {
      "application/vnd.jupyter.widget-view+json": {
       "model_id": "5297cd1b583c4add9efcb018fef5db69",
       "version_major": 2,
       "version_minor": 0
      },
      "text/plain": [
       "HBox(children=(IntProgress(value=0, max=5000), HTML(value='')))"
      ]
     },
     "metadata": {},
     "output_type": "display_data"
    },
    {
     "data": {
      "application/vnd.jupyter.widget-view+json": {
       "model_id": "3e21990464b749aa8719e2ea98cb50c6",
       "version_major": 2,
       "version_minor": 0
      },
      "text/plain": [
       "HBox(children=(IntProgress(value=0, max=5000), HTML(value='')))"
      ]
     },
     "metadata": {},
     "output_type": "display_data"
    },
    {
     "name": "stdout",
     "output_type": "stream",
     "text": [
      "\n",
      "Score in the FrozenLakeEnv environment with seed 90:\n",
      "Agent = Qlearning(behavioral_strategy=EpsilonGreedyPolicy(epsilon=0.0775019291289278, ConstantSchedule(value=0.078)), alpha=ConstantSchedule(value=0.723))\n",
      "Score = -0.9999999999999999. Breakdown:\n",
      "\tEvaluation mean reward = 0.0, normalized = -1.0, weighted = -0.7\n",
      "\tTraining mean reward = 0.0, normalized = -1.0, weighted = -0.1\n",
      "\tTraining episodes = 5000, normalized = -1.0, weighted = -0.2\n",
      "Total score across all environments for seed 90 = -0.9999999999999999\n",
      "---------------------------------------------\n",
      "\n",
      "Training on FrozenLakeEnv environment with seed 78 and params {'behavioral_strategy': EpsilonGreedyPolicy(epsilon=1.0, ExponentiallyDecayingSchedule(initial_value=1.0, min_value=0.001, decay_rate=0.997, value=1.0)), 'alpha': ConstantSchedule(value=0.723)}\n",
      "\n",
      "Score in the FrozenLakeEnv environment with seed 12:\n",
      "Agent = Qlearning(behavioral_strategy=EpsilonGreedyPolicy(epsilon=0.980260504892206, LinearlyDecayingSchedule(initial_value=1.0, min_value=0.028, decay_rate=0.993, value=0.98)), alpha=ExponentiallyDecayingSchedule(initial_value=1.0, min_value=0.06, decay_rate=0.994, value=0.06))\n",
      "Score = -0.8916036805577638. Breakdown:\n",
      "\tEvaluation mean reward = 0.55, normalized = -0.9999555506739739, weighted = -0.6999688854717817\n",
      "\tTraining mean reward = 0.7, normalized = 0.0, weighted = 0.0\n",
      "\tTraining episodes = 4151, normalized = -0.9581739754299106, weighted = -0.19163479508598213\n",
      "Total score across all environments for seed 12 = -0.8916036805577638\n",
      "---------------------------------------------\n",
      "\n",
      "Training on FrozenLakeEnv environment with seed 90 and params {'behavioral_strategy': EpsilonGreedyPolicy(epsilon=1.0, ExponentiallyDecayingSchedule(initial_value=1.0, min_value=0.001, decay_rate=0.997, value=1.0)), 'alpha': ConstantSchedule(value=0.723)}\n"
     ]
    },
    {
     "data": {
      "application/vnd.jupyter.widget-view+json": {
       "model_id": "3ae26b56c99c42fe990a8e078ddcbc98",
       "version_major": 2,
       "version_minor": 0
      },
      "text/plain": [
       "HBox(children=(IntProgress(value=0, max=5000), HTML(value='')))"
      ]
     },
     "metadata": {},
     "output_type": "display_data"
    },
    {
     "data": {
      "application/vnd.jupyter.widget-view+json": {
       "model_id": "58bb2636d99947469aadd68e78d2d1fa",
       "version_major": 2,
       "version_minor": 0
      },
      "text/plain": [
       "HBox(children=(IntProgress(value=0, max=5000), HTML(value='')))"
      ]
     },
     "metadata": {},
     "output_type": "display_data"
    },
    {
     "name": "stdout",
     "output_type": "stream",
     "text": [
      "\n",
      "\n",
      "Score in the FrozenLakeEnv environment with seed 34:\n",
      "Agent = Qlearning(behavioral_strategy=EpsilonGreedyPolicy(epsilon=0.9546299190640855, ExponentiallyDecayingSchedule(initial_value=1.0, min_value=0.023, decay_rate=0.993, value=0.955)), alpha=LinearlyDecayingSchedule(initial_value=1.0, min_value=0.137, decay_rate=0.998, value=0.137))\n",
      "Score = 0.9320013463195634. Breakdown:\n",
      "\tEvaluation mean reward = 0.79, normalized = 0.9967756945029476, weighted = 0.6977429861520632\n",
      "\tTraining mean reward = 0.71, normalized = 0.3426949069654588, weighted = 0.03426949069654588\n",
      "\tTraining episodes = 1151, normalized = 0.999944347354772, weighted = 0.1999888694709544\n",
      "Total score across all environments for seed 34 = 0.9320013463195634\n",
      "---------------------------------------------\n",
      "\n",
      "Training on FrozenLakeEnv environment with seed 12 and params {'behavioral_strategy': EpsilonGreedyPolicy(epsilon=1.0, LinearlyDecayingSchedule(initial_value=1.0, min_value=0.001, decay_rate=0.98, value=1.0)), 'alpha': ExponentiallyDecayingSchedule(initial_value=1.0, min_value=0.074, decay_rate=0.991, value=1.0)}\n",
      "\n",
      "Score in the FrozenLakeEnv environment with seed 56:\n",
      "Agent = Qlearning(behavioral_strategy=EpsilonGreedyPolicy(epsilon=0.9257080054952995, LinearlyDecayingSchedule(initial_value=1.0, min_value=0.009, decay_rate=0.988, value=0.926)), alpha=ConstantSchedule(value=0.723))\n",
      "Score = 0.8877149908164212. Breakdown:\n",
      "\tEvaluation mean reward = 0.78, normalized = 0.9934246772281319, weighted = 0.6953972740596923\n",
      "\tTraining mean reward = 0.71, normalized = 0.3426949069654588, weighted = 0.03426949069654588\n",
      "\tTraining episodes = 1851, normalized = 0.7902411303009154, weighted = 0.1580482260601831\n",
      "Total score across all environments for seed 56 = 0.8877149908164212\n",
      "---------------------------------------------\n",
      "\n",
      "Training on FrozenLakeEnv environment with seed 34 and params {'behavioral_strategy': EpsilonGreedyPolicy(epsilon=1.0, LinearlyDecayingSchedule(initial_value=1.0, min_value=0.001, decay_rate=0.98, value=1.0)), 'alpha': ExponentiallyDecayingSchedule(initial_value=1.0, min_value=0.074, decay_rate=0.991, value=1.0)}\n",
      "\n",
      "Score in the FrozenLakeEnv environment with seed 78:\n",
      "Agent = Qlearning(behavioral_strategy=EpsilonGreedyPolicy(epsilon=0.7152140210653148, LinearlyDecayingSchedule(initial_value=1.0, min_value=0.009, decay_rate=0.988, value=0.715)), alpha=ConstantSchedule(value=0.723))\n",
      "Score = 0.9815815434895048. Breakdown:\n",
      "\tEvaluation mean reward = 0.77, normalized = 0.9866142981514305, weighted = 0.6906300087060013\n",
      "\tTraining mean reward = 0.79, normalized = 0.9967756945029476, weighted = 0.09967756945029477\n",
      "\tTraining episodes = 1601, normalized = 0.9563698266660432, weighted = 0.19127396533320865\n",
      "Total score across all environments for seed 78 = 0.9815815434895048\n",
      "---------------------------------------------\n",
      "\n",
      "Training on FrozenLakeEnv environment with seed 56 and params {'behavioral_strategy': EpsilonGreedyPolicy(epsilon=1.0, LinearlyDecayingSchedule(initial_value=1.0, min_value=0.001, decay_rate=0.98, value=1.0)), 'alpha': ExponentiallyDecayingSchedule(initial_value=1.0, min_value=0.074, decay_rate=0.991, value=1.0)}\n"
     ]
    },
    {
     "data": {
      "application/vnd.jupyter.widget-view+json": {
       "model_id": "6e40e986d7954980917e100fcf6f7d77",
       "version_major": 2,
       "version_minor": 0
      },
      "text/plain": [
       "HBox(children=(IntProgress(value=0, max=5000), HTML(value='')))"
      ]
     },
     "metadata": {},
     "output_type": "display_data"
    },
    {
     "name": "stdout",
     "output_type": "stream",
     "text": [
      "Score in the FrozenLakeEnv environment with seed 90:\n",
      "Agent = Qlearning(behavioral_strategy=EpsilonGreedyPolicy(epsilon=0.900944007327066, LinearlyDecayingSchedule(initial_value=1.0, min_value=0.009, decay_rate=0.988, value=0.901)), alpha=ConstantSchedule(value=0.723))\n",
      "Score = 0.9164789849487043. Breakdown:\n",
      "\tEvaluation mean reward = 0.74, normalized = 0.8913734677347187, weighted = 0.623961427414303\n",
      "\tTraining mean reward = 0.75, normalized = 0.9453064264076343, weighted = 0.09453064264076344\n",
      "\tTraining episodes = 1451, normalized = 0.9899345744681884, weighted = 0.1979869148936377\n",
      "Total score across all environments for seed 90 = 0.9164789849487043\n",
      "---------------------------------------------\n",
      "\n",
      "Training on FrozenLakeEnv environment with seed 78 and params {'behavioral_strategy': EpsilonGreedyPolicy(epsilon=1.0, LinearlyDecayingSchedule(initial_value=1.0, min_value=0.001, decay_rate=0.98, value=1.0)), 'alpha': ExponentiallyDecayingSchedule(initial_value=1.0, min_value=0.074, decay_rate=0.991, value=1.0)}\n",
      "\n",
      "Score in the FrozenLakeEnv environment with seed 34:\n",
      "Agent = Qlearning(behavioral_strategy=EpsilonGreedyPolicy(epsilon=0.9342016829740198, LinearlyDecayingSchedule(initial_value=1.0, min_value=0.028, decay_rate=0.993, value=0.934)), alpha=LinearlyDecayingSchedule(initial_value=1.0, min_value=0.052, decay_rate=0.976, value=0.052))\n",
      "Score = 0.48900198515424137. Breakdown:\n",
      "\tEvaluation mean reward = 0.74, normalized = 0.8913734677347187, weighted = 0.623961427414303\n",
      "\tTraining mean reward = 0.72, normalized = 0.6133572603953845, weighted = 0.061335726039538456\n",
      "\tTraining episodes = 4401, normalized = -0.9814758414980008, weighted = -0.19629516829960017"
     ]
    },
    {
     "data": {
      "application/vnd.jupyter.widget-view+json": {
       "model_id": "5b3a06621d3540ada7741a3eb93e12aa",
       "version_major": 2,
       "version_minor": 0
      },
      "text/plain": [
       "HBox(children=(IntProgress(value=0, max=5000), HTML(value='')))"
      ]
     },
     "metadata": {},
     "output_type": "display_data"
    },
    {
     "name": "stdout",
     "output_type": "stream",
     "text": [
      "\n",
      "Total score across all environments for seed 34 = 0.48900198515424137\n",
      "---------------------------------------------\n",
      "\n",
      "Training on FrozenLakeEnv environment with seed 90 and params {'behavioral_strategy': EpsilonGreedyPolicy(epsilon=1.0, LinearlyDecayingSchedule(initial_value=1.0, min_value=0.001, decay_rate=0.98, value=1.0)), 'alpha': ExponentiallyDecayingSchedule(initial_value=1.0, min_value=0.074, decay_rate=0.991, value=1.0)}\n"
     ]
    },
    {
     "data": {
      "application/vnd.jupyter.widget-view+json": {
       "model_id": "96d766ab2c6643aabfbf3bcfe868b732",
       "version_major": 2,
       "version_minor": 0
      },
      "text/plain": [
       "HBox(children=(IntProgress(value=0, max=5000), HTML(value='')))"
      ]
     },
     "metadata": {},
     "output_type": "display_data"
    },
    {
     "data": {
      "application/vnd.jupyter.widget-view+json": {
       "model_id": "0808eda25bb64029ae6d342bb39e1391",
       "version_major": 2,
       "version_minor": 0
      },
      "text/plain": [
       "HBox(children=(IntProgress(value=0, max=5000), HTML(value='')))"
      ]
     },
     "metadata": {},
     "output_type": "display_data"
    },
    {
     "name": "stdout",
     "output_type": "stream",
     "text": [
      "\n",
      "Score in the FrozenLakeEnv environment with seed 12:\n",
      "Agent = Qlearning(behavioral_strategy=EpsilonGreedyPolicy(epsilon=0.996215354221057, ExponentiallyDecayingSchedule(initial_value=1.0, min_value=0.005, decay_rate=0.999, value=0.996)), alpha=ExponentiallyDecayingSchedule(initial_value=1.0, min_value=0.073, decay_rate=0.964, value=0.073))\n",
      "Score = 0.2777120432886926. Breakdown:\n",
      "\tEvaluation mean reward = 0.72, normalized = 0.6133572603953845, weighted = 0.42935008227676913\n",
      "\tTraining mean reward = 0.71, normalized = 0.3426949069654588, weighted = 0.03426949069654588\n",
      "\tTraining episodes = 3951, normalized = -0.9295376484231119, weighted = -0.1859075296846224\n",
      "Total score across all environments for seed 12 = 0.2777120432886926\n",
      "---------------------------------------------\n",
      "\n",
      "Training on FrozenLakeEnv environment with seed 12 and params {'behavioral_strategy': EpsilonGreedyPolicy(epsilon=1.0, LinearlyDecayingSchedule(initial_value=1.0, min_value=0.012, decay_rate=1.0, value=1.0)), 'alpha': ExponentiallyDecayingSchedule(initial_value=1.0, min_value=0.09, decay_rate=0.996, value=1.0)}\n"
     ]
    },
    {
     "data": {
      "application/vnd.jupyter.widget-view+json": {
       "model_id": "7b49c843a36e494188fdad3058682e7a",
       "version_major": 2,
       "version_minor": 0
      },
      "text/plain": [
       "HBox(children=(IntProgress(value=0, max=5000), HTML(value='')))"
      ]
     },
     "metadata": {},
     "output_type": "display_data"
    },
    {
     "name": "stdout",
     "output_type": "stream",
     "text": [
      "\n",
      "Score in the FrozenLakeEnv environment with seed 90:\n",
      "Agent = Qlearning(behavioral_strategy=EpsilonGreedyPolicy(epsilon=0.0620865541722682, ConstantSchedule(value=0.062)), alpha=ConstantSchedule(value=0.744))\n",
      "Score = -0.5552142792831369. Breakdown:\n",
      "\tEvaluation mean reward = 0.68, normalized = -0.613357260395381, weighted = -0.42935008227676663\n",
      "\tTraining mean reward = 0.7, normalized = 0.0, weighted = 0.0\n",
      "\tTraining episodes = 3101, normalized = -0.6293209850318515, weighted = -0.1258641970063703\n",
      "Total score across all environments for seed 90 = -0.5552142792831369\n",
      "---------------------------------------------\n",
      "\n",
      "\n",
      "Training on FrozenLakeEnv environment with seed 34 and params {'behavioral_strategy': EpsilonGreedyPolicy(epsilon=1.0, LinearlyDecayingSchedule(initial_value=1.0, min_value=0.012, decay_rate=1.0, value=1.0)), 'alpha': ExponentiallyDecayingSchedule(initial_value=1.0, min_value=0.09, decay_rate=0.996, value=1.0)}\n"
     ]
    },
    {
     "data": {
      "application/vnd.jupyter.widget-view+json": {
       "model_id": "6c40d29167f54b81a8f6fea64737d5e5",
       "version_major": 2,
       "version_minor": 0
      },
      "text/plain": [
       "HBox(children=(IntProgress(value=0, max=5000), HTML(value='')))"
      ]
     },
     "metadata": {},
     "output_type": "display_data"
    },
    {
     "name": "stdout",
     "output_type": "stream",
     "text": [
      "Score in the FrozenLakeEnv environment with seed 12:\n",
      "Agent = Qlearning(behavioral_strategy=EpsilonGreedyPolicy(epsilon=0.9974491625889466, ExponentiallyDecayingSchedule(initial_value=1.0, min_value=0.001, decay_rate=0.997, value=0.997)), alpha=LinearlyDecayingSchedule(initial_value=1.0, min_value=0.137, decay_rate=0.998, value=0.137))\n",
      "Score = -0.7368101149414107. Breakdown:\n",
      "\tEvaluation mean reward = 0.54, normalized = -0.9999782399563084, weighted = -0.6999847679694159\n",
      "\tTraining mean reward = 0.71, normalized = 0.3426949069654588, weighted = 0.03426949069654588\n",
      "\tTraining episodes = 2751, normalized = -0.35547418834270317, weighted = -0.07109483766854063\n",
      "Total score across all environments for seed 12 = -0.7368101149414107\n",
      "---------------------------------------------\n",
      "\n",
      "Training on FrozenLakeEnv environment with seed 56 and params {'behavioral_strategy': EpsilonGreedyPolicy(epsilon=1.0, LinearlyDecayingSchedule(initial_value=1.0, min_value=0.012, decay_rate=1.0, value=1.0)), 'alpha': ExponentiallyDecayingSchedule(initial_value=1.0, min_value=0.09, decay_rate=0.996, value=1.0)}\n"
     ]
    },
    {
     "data": {
      "application/vnd.jupyter.widget-view+json": {
       "model_id": "2ebe77ba9025497d885a34efefd13c7b",
       "version_major": 2,
       "version_minor": 0
      },
      "text/plain": [
       "HBox(children=(IntProgress(value=0, max=5000), HTML(value='')))"
      ]
     },
     "metadata": {},
     "output_type": "display_data"
    },
    {
     "name": "stdout",
     "output_type": "stream",
     "text": [
      "\n",
      "\n"
     ]
    },
    {
     "data": {
      "application/vnd.jupyter.widget-view+json": {
       "model_id": "7f727c59f2e54ab69dd70bbaca6056af",
       "version_major": 2,
       "version_minor": 0
      },
      "text/plain": [
       "HBox(children=(IntProgress(value=0, max=5000), HTML(value='')))"
      ]
     },
     "metadata": {},
     "output_type": "display_data"
    },
    {
     "name": "stdout",
     "output_type": "stream",
     "text": [
      "Score in the FrozenLakeEnv environment with seed 12:\n",
      "Agent = Qlearning(behavioral_strategy=EpsilonGreedyPolicy(epsilon=0.9483187405383926, ExponentiallyDecayingSchedule(initial_value=1.0, min_value=0.023, decay_rate=0.993, value=0.948)), alpha=LinearlyDecayingSchedule(initial_value=1.0, min_value=0.137, decay_rate=0.998, value=0.137))\n",
      "Score = 0.6725085390352913. Breakdown:\n",
      "\tEvaluation mean reward = 0.72, normalized = 0.6133572603953845, weighted = 0.42935008227676913\n",
      "\tTraining mean reward = 0.72, normalized = 0.6133572603953845, weighted = 0.061335726039538456\n",
      "\tTraining episodes = 1701, normalized = 0.9091136535949187, weighted = 0.18182273071898375\n",
      "Total score across all environments for seed 12 = 0.6725085390352913\n",
      "---------------------------------------------\n",
      "\n",
      "Training on FrozenLakeEnv environment with seed 78 and params {'behavioral_strategy': EpsilonGreedyPolicy(epsilon=1.0, LinearlyDecayingSchedule(initial_value=1.0, min_value=0.012, decay_rate=1.0, value=1.0)), 'alpha': ExponentiallyDecayingSchedule(initial_value=1.0, min_value=0.09, decay_rate=0.996, value=1.0)}\n",
      "Score in the FrozenLakeEnv environment with seed 90:\n",
      "Agent = Qlearning(behavioral_strategy=EpsilonGreedyPolicy(epsilon=0.9747824477447575, ExponentiallyDecayingSchedule(initial_value=1.0, min_value=0.001, decay_rate=0.997, value=0.975)), alpha=LinearlyDecayingSchedule(initial_value=1.0, min_value=0.137, decay_rate=0.998, value=0.137))\n",
      "Score = -0.5097414759226098. Breakdown:\n",
      "\tEvaluation mean reward = 0.6, normalized = -0.9984202681165271, weighted = -0.6988941876815689\n",
      "\tTraining mean reward = 0.73, normalized = 0.7899988299594711, weighted = 0.07899988299594712\n",
      "\tTraining episodes = 2051, normalized = 0.5507641438150594, weighted = 0.1101528287630119\n",
      "Total score across all environments for seed 90 = -0.5097414759226098\n",
      "---------------------------------------------\n",
      "\n",
      "Training on FrozenLakeEnv environment with seed 90 and params {'behavioral_strategy': EpsilonGreedyPolicy(epsilon=1.0, LinearlyDecayingSchedule(initial_value=1.0, min_value=0.012, decay_rate=1.0, value=1.0)), 'alpha': ExponentiallyDecayingSchedule(initial_value=1.0, min_value=0.09, decay_rate=0.996, value=1.0)}\n",
      "\n"
     ]
    },
    {
     "data": {
      "application/vnd.jupyter.widget-view+json": {
       "model_id": "8a7f96ca5c054540adc63041e47bec36",
       "version_major": 2,
       "version_minor": 0
      },
      "text/plain": [
       "HBox(children=(IntProgress(value=0, max=5000), HTML(value='')))"
      ]
     },
     "metadata": {},
     "output_type": "display_data"
    },
    {
     "data": {
      "application/vnd.jupyter.widget-view+json": {
       "model_id": "2c4bd8e40a29456b88f8fe86d3484b46",
       "version_major": 2,
       "version_minor": 0
      },
      "text/plain": [
       "HBox(children=(IntProgress(value=0, max=5000), HTML(value='')))"
      ]
     },
     "metadata": {},
     "output_type": "display_data"
    },
    {
     "name": "stdout",
     "output_type": "stream",
     "text": [
      "\n",
      "Score in the FrozenLakeEnv environment with seed 12:\n",
      "Agent = Qlearning(behavioral_strategy=EpsilonGreedyPolicy(epsilon=0.9752360018317665, LinearlyDecayingSchedule(initial_value=1.0, min_value=0.009, decay_rate=0.988, value=0.975)), alpha=ConstantSchedule(value=0.723))\n",
      "Score = 0.3296526498249479. Breakdown:\n",
      "\tEvaluation mean reward = 0.71, normalized = 0.3426949069654588, weighted = 0.23988643487582115\n",
      "\tTraining mean reward = 0.73, normalized = 0.7899988299594711, weighted = 0.07899988299594712\n",
      "\tTraining episodes = 2401, normalized = 0.0538316597658981, weighted = 0.01076633195317962\n",
      "Total score across all environments for seed 12 = 0.3296526498249479\n",
      "---------------------------------------------\n",
      "\n",
      "\n",
      "Training on FrozenLakeEnv environment with seed 12 and params {'behavioral_strategy': EpsilonGreedyPolicy(epsilon=1.0, LinearlyDecayingSchedule(initial_value=1.0, min_value=0.012, decay_rate=1.0, value=1.0)), 'alpha': ExponentiallyDecayingSchedule(initial_value=1.0, min_value=0.074, decay_rate=0.991, value=1.0)}\n",
      "Score in the FrozenLakeEnv environment with seed 34:\n",
      "Agent = Qlearning(behavioral_strategy=EpsilonGreedyPolicy(epsilon=0.950472003663533, LinearlyDecayingSchedule(initial_value=1.0, min_value=0.009, decay_rate=0.988, value=0.95)), alpha=ConstantSchedule(value=0.723))\n",
      "Score = 0.8504529976663158. Breakdown:\n",
      "\tEvaluation mean reward = 0.79, normalized = 0.9967756945029476, weighted = 0.6977429861520632\n",
      "\tTraining mean reward = 0.79, normalized = 0.9967756945029476, weighted = 0.09967756945029477\n",
      "\tTraining episodes = 2251, normalized = 0.26516221031978904, weighted = 0.05303244206395781\n",
      "Total score across all environments for seed 34 = 0.8504529976663158\n",
      "---------------------------------------------\n",
      "\n",
      "Training on FrozenLakeEnv environment with seed 34 and params {'behavioral_strategy': EpsilonGreedyPolicy(epsilon=1.0, LinearlyDecayingSchedule(initial_value=1.0, min_value=0.012, decay_rate=1.0, value=1.0)), 'alpha': ExponentiallyDecayingSchedule(initial_value=1.0, min_value=0.074, decay_rate=0.991, value=1.0)}\n",
      "Score in the FrozenLakeEnv environment with seed 12:\n",
      "Agent = Qlearning(behavioral_strategy=EpsilonGreedyPolicy(epsilon=0.9473613463792159, LinearlyDecayingSchedule(initial_value=1.0, min_value=0.028, decay_rate=0.993, value=0.947)), alpha=LinearlyDecayingSchedule(initial_value=1.0, min_value=0.052, decay_rate=0.976, value=0.052))\n",
      "Score = -0.9999688854481062. Breakdown:\n",
      "\tEvaluation mean reward = 0.55, normalized = -0.9999555506739739, weighted = -0.6999688854717817\n",
      "\tTraining mean reward = 0.38, normalized = -0.999999999763245, weighted = -0.09999999997632451\n",
      "\tTraining episodes = 5000, normalized = -1.0, weighted = -0.2\n",
      "Total score across all environments for seed 12 = -0.9999688854481062\n",
      "---------------------------------------------\n",
      "\n",
      "Training on FrozenLakeEnv environment with seed 56 and params {'behavioral_strategy': EpsilonGreedyPolicy(epsilon=1.0, LinearlyDecayingSchedule(initial_value=1.0, min_value=0.012, decay_rate=1.0, value=1.0)), 'alpha': ExponentiallyDecayingSchedule(initial_value=1.0, min_value=0.074, decay_rate=0.991, value=1.0)}\n"
     ]
    },
    {
     "data": {
      "application/vnd.jupyter.widget-view+json": {
       "model_id": "b9fe0311c7fa4a1d8d603cb5c8ee2a94",
       "version_major": 2,
       "version_minor": 0
      },
      "text/plain": [
       "HBox(children=(IntProgress(value=0, max=5000), HTML(value='')))"
      ]
     },
     "metadata": {},
     "output_type": "display_data"
    },
    {
     "data": {
      "application/vnd.jupyter.widget-view+json": {
       "model_id": "f56e3e8c7205476e82773c115a461a07",
       "version_major": 2,
       "version_minor": 0
      },
      "text/plain": [
       "HBox(children=(IntProgress(value=0, max=5000), HTML(value='')))"
      ]
     },
     "metadata": {},
     "output_type": "display_data"
    },
    {
     "data": {
      "application/vnd.jupyter.widget-view+json": {
       "model_id": "87daf2459f824845b6a9a3a94f5631dc",
       "version_major": 2,
       "version_minor": 0
      },
      "text/plain": [
       "HBox(children=(IntProgress(value=0, max=5000), HTML(value='')))"
      ]
     },
     "metadata": {},
     "output_type": "display_data"
    },
    {
     "name": "stdout",
     "output_type": "stream",
     "text": [
      "\n",
      "Score in the FrozenLakeEnv environment with seed 56:\n",
      "Agent = Qlearning(behavioral_strategy=EpsilonGreedyPolicy(epsilon=0.9923669914836164, ExponentiallyDecayingSchedule(initial_value=1.0, min_value=0.001, decay_rate=0.997, value=0.992)), alpha=LinearlyDecayingSchedule(initial_value=1.0, min_value=0.137, decay_rate=0.998, value=0.137))\n",
      "Score = 0.8362151385443173. Breakdown:\n",
      "\tEvaluation mean reward = 0.8, normalized = 0.9984202681165271, weighted = 0.6988941876815689\n",
      "\tTraining mean reward = 0.77, normalized = 0.9866142981514305, weighted = 0.09866142981514306\n",
      "\tTraining episodes = 2301, normalized = 0.19329760523802686, weighted = 0.03865952104760537\n",
      "Total score across all environments for seed 56 = 0.8362151385443173\n",
      "---------------------------------------------\n",
      "\n",
      "Training on FrozenLakeEnv environment with seed 78 and params {'behavioral_strategy': EpsilonGreedyPolicy(epsilon=1.0, LinearlyDecayingSchedule(initial_value=1.0, min_value=0.012, decay_rate=1.0, value=1.0)), 'alpha': ExponentiallyDecayingSchedule(initial_value=1.0, min_value=0.074, decay_rate=0.991, value=1.0)}\n"
     ]
    },
    {
     "data": {
      "application/vnd.jupyter.widget-view+json": {
       "model_id": "cbe79ab2e8e74137aa47af3d5bce595b",
       "version_major": 2,
       "version_minor": 0
      },
      "text/plain": [
       "HBox(children=(IntProgress(value=0, max=5000), HTML(value='')))"
      ]
     },
     "metadata": {},
     "output_type": "display_data"
    },
    {
     "name": "stdout",
     "output_type": "stream",
     "text": [
      "\n",
      "Score in the FrozenLakeEnv environment with seed 90:\n",
      "Agent = Qlearning(behavioral_strategy=EpsilonGreedyPolicy(epsilon=0.8874568572684327, ExponentiallyDecayingSchedule(initial_value=1.0, min_value=0.023, decay_rate=0.993, value=0.887)), alpha=LinearlyDecayingSchedule(initial_value=1.0, min_value=0.137, decay_rate=0.998, value=0.137))\n",
      "Score = 0.00859430572055813. Breakdown:\n",
      "\tEvaluation mean reward = 0.69, normalized = -0.34269490696546123, weighted = -0.23988643487582284\n",
      "\tTraining mean reward = 0.72, normalized = 0.6133572603953845, weighted = 0.061335726039538456\n",
      "\tTraining episodes = 1651, normalized = 0.9357250727842126, weighted = 0.18714501455684251\n",
      "Total score across all environments for seed 90 = 0.00859430572055813\n",
      "---------------------------------------------\n",
      "\n",
      "Training on FrozenLakeEnv environment with seed 90 and params {'behavioral_strategy': EpsilonGreedyPolicy(epsilon=1.0, LinearlyDecayingSchedule(initial_value=1.0, min_value=0.012, decay_rate=1.0, value=1.0)), 'alpha': ExponentiallyDecayingSchedule(initial_value=1.0, min_value=0.074, decay_rate=0.991, value=1.0)}\n"
     ]
    },
    {
     "data": {
      "application/vnd.jupyter.widget-view+json": {
       "model_id": "dc37677f014547c4bb1a1153591f7a78",
       "version_major": 2,
       "version_minor": 0
      },
      "text/plain": [
       "HBox(children=(IntProgress(value=0, max=5000), HTML(value='')))"
      ]
     },
     "metadata": {},
     "output_type": "display_data"
    },
    {
     "name": "stdout",
     "output_type": "stream",
     "text": [
      "\n",
      "Score in the FrozenLakeEnv environment with seed 12:\n",
      "Agent = Qlearning(behavioral_strategy=EpsilonGreedyPolicy(epsilon=0.0775019291289278, ConstantSchedule(value=0.078)), alpha=ConstantSchedule(value=0.744))\n",
      "Score = -0.9999999999999999. Breakdown:\n",
      "\tEvaluation mean reward = 0.0, normalized = -1.0, weighted = -0.7\n",
      "\tTraining mean reward = 0.0, normalized = -1.0, weighted = -0.1\n",
      "\tTraining episodes = 5000, normalized = -1.0, weighted = -0.2\n",
      "Total score across all environments for seed 12 = -0.9999999999999999\n",
      "---------------------------------------------\n",
      "\n",
      "Training on FrozenLakeEnv environment with seed 12 and params {'behavioral_strategy': EpsilonGreedyPolicy(epsilon=0.0775019291289278, ConstantSchedule(value=0.078)), 'alpha': LinearlyDecayingSchedule(initial_value=1.0, min_value=0.052, decay_rate=0.976, value=1.0)}\n",
      "\n",
      "Score in the FrozenLakeEnv environment with seed 56:\n",
      "Agent = Qlearning(behavioral_strategy=EpsilonGreedyPolicy(epsilon=0.9546299190640855, ExponentiallyDecayingSchedule(initial_value=1.0, min_value=0.023, decay_rate=0.993, value=0.955)), alpha=LinearlyDecayingSchedule(initial_value=1.0, min_value=0.137, decay_rate=0.998, value=0.137))\n",
      "Score = -0.5651558290056024. Breakdown:\n",
      "\tEvaluation mean reward = 0.66, normalized = -0.8913734677347183, weighted = -0.6239614274143027\n",
      "\tTraining mean reward = 0.71, normalized = 0.3426949069654588, weighted = 0.03426949069654588\n",
      "\tTraining episodes = 2351, normalized = 0.12268053856077255, weighted = 0.02453610771215451\n",
      "Total score across all environments for seed 56 = -0.5651558290056024\n",
      "---------------------------------------------\n",
      "\n",
      "Training on FrozenLakeEnv environment with seed 34 and params {'behavioral_strategy': EpsilonGreedyPolicy(epsilon=0.0775019291289278, ConstantSchedule(value=0.078)), 'alpha': LinearlyDecayingSchedule(initial_value=1.0, min_value=0.052, decay_rate=0.976, value=1.0)}\n"
     ]
    },
    {
     "data": {
      "application/vnd.jupyter.widget-view+json": {
       "model_id": "0928bb2627eb40eb89995c176dcd55b8",
       "version_major": 2,
       "version_minor": 0
      },
      "text/plain": [
       "HBox(children=(IntProgress(value=0, max=5000), HTML(value='')))"
      ]
     },
     "metadata": {},
     "output_type": "display_data"
    },
    {
     "name": "stdout",
     "output_type": "stream",
     "text": [
      "\n",
      "\n",
      "\n",
      "Score in the FrozenLakeEnv environment with seed 12:\n",
      "Agent = Qlearning(behavioral_strategy=EpsilonGreedyPolicy(epsilon=0.9992783472680413, LinearlyDecayingSchedule(initial_value=1.0, min_value=0.012, decay_rate=1.0, value=0.999)), alpha=ExponentiallyDecayingSchedule(initial_value=1.0, min_value=0.09, decay_rate=0.996, value=0.09))\n",
      "Score = 0.7238801336534844. Breakdown:\n",
      "\tEvaluation mean reward = 0.72, normalized = 0.6133572603953845, weighted = 0.42935008227676913\n",
      "\tTraining mean reward = 0.75, normalized = 0.9453064264076343, weighted = 0.09453064264076344\n",
      "\tTraining episodes = 1051, normalized = 0.9999970436797587, weighted = 0.19999940873595176\n",
      "Total score across all environments for seed 12 = 0.7238801336534844\n",
      "---------------------------------------------\n",
      "\n",
      "Training on FrozenLakeEnv environment with seed 56 and params {'behavioral_strategy': EpsilonGreedyPolicy(epsilon=0.0775019291289278, ConstantSchedule(value=0.078)), 'alpha': LinearlyDecayingSchedule(initial_value=1.0, min_value=0.052, decay_rate=0.976, value=1.0)}\n",
      "\n"
     ]
    },
    {
     "data": {
      "application/vnd.jupyter.widget-view+json": {
       "model_id": "cd2f4a5be009480e92773b0c29c930ab",
       "version_major": 2,
       "version_minor": 0
      },
      "text/plain": [
       "HBox(children=(IntProgress(value=0, max=5000), HTML(value='')))"
      ]
     },
     "metadata": {},
     "output_type": "display_data"
    },
    {
     "name": "stdout",
     "output_type": "stream",
     "text": [
      "Score in the FrozenLakeEnv environment with seed 56:\n",
      "Agent = Qlearning(behavioral_strategy=EpsilonGreedyPolicy(epsilon=0.0775019291289278, ConstantSchedule(value=0.078)), alpha=ConstantSchedule(value=0.744))\n",
      "Score = -0.9999999999999999. Breakdown:\n",
      "\tEvaluation mean reward = 0.0, normalized = -1.0, weighted = -0.7\n",
      "\tTraining mean reward = 0.0, normalized = -1.0, weighted = -0.1\n",
      "\tTraining episodes = 5000, normalized = -1.0, weighted = -0.2Score in the FrozenLakeEnv environment with seed 34:\n",
      "Agent = Qlearning(behavioral_strategy=EpsilonGreedyPolicy(epsilon=0.9858812711646208, ExponentiallyDecayingSchedule(initial_value=1.0, min_value=0.005, decay_rate=0.999, value=0.986)), alpha=ExponentiallyDecayingSchedule(initial_value=1.0, min_value=0.073, decay_rate=0.964, value=0.073))\n",
      "Score = -0.9999997291668844. Breakdown:\n",
      "\tEvaluation mean reward = 0.48, normalized = -0.9999997004961856, weighted = -0.6999997903473298\n",
      "\tTraining mean reward = 0.49, normalized = -0.9999993881955461, weighted = -0.09999993881955462\n",
      "\tTraining episodes = 5000, normalized = -1.0, weighted = -0.2\n",
      "\n",
      "\n",
      "Total score across all environments for seed 34 = -0.9999997291668844\n",
      "Total score across all environments for seed 56 = -0.9999999999999999\n",
      "---------------------------------------------\n",
      "---------------------------------------------\n",
      "\n",
      "\n",
      "Training on FrozenLakeEnv environment with seed 78 and params {'behavioral_strategy': EpsilonGreedyPolicy(epsilon=0.0775019291289278, ConstantSchedule(value=0.078)), 'alpha': LinearlyDecayingSchedule(initial_value=1.0, min_value=0.052, decay_rate=0.976, value=1.0)}\n",
      "Training on FrozenLakeEnv environment with seed 90 and params {'behavioral_strategy': EpsilonGreedyPolicy(epsilon=0.0775019291289278, ConstantSchedule(value=0.078)), 'alpha': LinearlyDecayingSchedule(initial_value=1.0, min_value=0.052, decay_rate=0.976, value=1.0)}\n",
      "Score in the FrozenLakeEnv environment with seed 78:\n",
      "Agent = Qlearning(behavioral_strategy=EpsilonGreedyPolicy(epsilon=0.9868214553045994, ExponentiallyDecayingSchedule(initial_value=1.0, min_value=0.023, decay_rate=0.993, value=0.987)), alpha=LinearlyDecayingSchedule(initial_value=1.0, min_value=0.137, decay_rate=0.998, value=0.137))\n",
      "Score = -0.4621149963175191. Breakdown:\n",
      "\tEvaluation mean reward = 0.62, normalized = -0.993424677228132, weighted = -0.6953972740596923\n",
      "\tTraining mean reward = 0.76, normalized = 0.9728461661125116, weighted = 0.09728461661125117\n",
      "\tTraining episodes = 1951, normalized = 0.6799883056546103, weighted = 0.13599766113092207\n",
      "Total score across all environments for seed 78 = -0.4621149963175191\n",
      "\n",
      "---------------------------------------------\n",
      "\n",
      "Training on FrozenLakeEnv environment with seed 12 and params {'behavioral_strategy': EpsilonGreedyPolicy(epsilon=0.0775019291289278, ConstantSchedule(value=0.078)), 'alpha': ConstantSchedule(value=0.341)}\n",
      "Score in the FrozenLakeEnv environment with seed 34:\n",
      "Agent = Qlearning(behavioral_strategy=EpsilonGreedyPolicy(epsilon=0.0775019291289278, ConstantSchedule(value=0.078)), alpha=ConstantSchedule(value=0.744))\n",
      "Score = -0.9999999999999999. Breakdown:\n",
      "\tEvaluation mean reward = 0.0, normalized = -1.0, weighted = -0.7\n",
      "\tTraining mean reward = 0.0, normalized = -1.0, weighted = -0.1\n",
      "\tTraining episodes = 5000, normalized = -1.0, weighted = -0.2\n",
      "Total score across all environments for seed 34 = -0.9999999999999999\n",
      "---------------------------------------------\n",
      "\n",
      "Training on FrozenLakeEnv environment with seed 34 and params {'behavioral_strategy': EpsilonGreedyPolicy(epsilon=0.0775019291289278, ConstantSchedule(value=0.078)), 'alpha': ConstantSchedule(value=0.341)}\n",
      "Score in the FrozenLakeEnv environment with seed 90:\n",
      "Agent = Qlearning(behavioral_strategy=EpsilonGreedyPolicy(epsilon=0.0775019291289278, ConstantSchedule(value=0.078)), alpha=ConstantSchedule(value=0.744))\n",
      "Score = -0.9999999999999999. Breakdown:\n",
      "\tEvaluation mean reward = 0.0, normalized = -1.0, weighted = -0.7\n",
      "\tTraining mean reward = 0.0, normalized = -1.0, weighted = -0.1\n",
      "\tTraining episodes = 5000, normalized = -1.0, weighted = -0.2\n",
      "Total score across all environments for seed 90 = -0.9999999999999999\n",
      "---------------------------------------------\n",
      "\n",
      "Training on FrozenLakeEnv environment with seed 56 and params {'behavioral_strategy': EpsilonGreedyPolicy(epsilon=0.0775019291289278, ConstantSchedule(value=0.078)), 'alpha': ConstantSchedule(value=0.341)}\n"
     ]
    },
    {
     "data": {
      "application/vnd.jupyter.widget-view+json": {
       "model_id": "a67740e518dd42549992d662e0769fe7",
       "version_major": 2,
       "version_minor": 0
      },
      "text/plain": [
       "HBox(children=(IntProgress(value=0, max=5000), HTML(value='')))"
      ]
     },
     "metadata": {},
     "output_type": "display_data"
    },
    {
     "data": {
      "application/vnd.jupyter.widget-view+json": {
       "model_id": "aeeb1f4cc6f9435c91e1f127ade11b71",
       "version_major": 2,
       "version_minor": 0
      },
      "text/plain": [
       "HBox(children=(IntProgress(value=0, max=5000), HTML(value='')))"
      ]
     },
     "metadata": {},
     "output_type": "display_data"
    },
    {
     "data": {
      "application/vnd.jupyter.widget-view+json": {
       "model_id": "9d6794de721640a28351bd3554b0587c",
       "version_major": 2,
       "version_minor": 0
      },
      "text/plain": [
       "HBox(children=(IntProgress(value=0, max=5000), HTML(value='')))"
      ]
     },
     "metadata": {},
     "output_type": "display_data"
    },
    {
     "name": "stdout",
     "output_type": "stream",
     "text": [
      "\n"
     ]
    },
    {
     "data": {
      "application/vnd.jupyter.widget-view+json": {
       "model_id": "9e6a92734c064f45b3e0555e29bb09e3",
       "version_major": 2,
       "version_minor": 0
      },
      "text/plain": [
       "HBox(children=(IntProgress(value=0, max=5000), HTML(value='')))"
      ]
     },
     "metadata": {},
     "output_type": "display_data"
    },
    {
     "data": {
      "application/vnd.jupyter.widget-view+json": {
       "model_id": "51484dd3ef504eb3991e0fdd56810794",
       "version_major": 2,
       "version_minor": 0
      },
      "text/plain": [
       "HBox(children=(IntProgress(value=0, max=5000), HTML(value='')))"
      ]
     },
     "metadata": {},
     "output_type": "display_data"
    },
    {
     "data": {
      "application/vnd.jupyter.widget-view+json": {
       "model_id": "1b7e9fd5b0b446b6be091e426d2c5d90",
       "version_major": 2,
       "version_minor": 0
      },
      "text/plain": [
       "HBox(children=(IntProgress(value=0, max=5000), HTML(value='')))"
      ]
     },
     "metadata": {},
     "output_type": "display_data"
    },
    {
     "name": "stdout",
     "output_type": "stream",
     "text": [
      "Score in the FrozenLakeEnv environment with seed 56:\n",
      "Agent = Qlearning(behavioral_strategy=EpsilonGreedyPolicy(epsilon=0.9990524927507252, ExponentiallyDecayingSchedule(initial_value=1.0, min_value=0.005, decay_rate=0.999, value=0.999)), alpha=ExponentiallyDecayingSchedule(initial_value=1.0, min_value=0.073, decay_rate=0.964, value=0.073))\n",
      "Score = 0.3906300087543639. Breakdown:\n",
      "\tEvaluation mean reward = 0.77, normalized = 0.9866142981514305, weighted = 0.6906300087060013\n",
      "\tTraining mean reward = 0.39, normalized = -0.9999999995163743, weighted = -0.09999999995163744\n",
      "\tTraining episodes = 5000, normalized = -1.0, weighted = -0.2\n",
      "Total score across all environments for seed 56 = 0.3906300087543639\n",
      "---------------------------------------------\n",
      "\n",
      "Training on FrozenLakeEnv environment with seed 78 and params {'behavioral_strategy': EpsilonGreedyPolicy(epsilon=0.0775019291289278, ConstantSchedule(value=0.078)), 'alpha': ConstantSchedule(value=0.341)}\n"
     ]
    },
    {
     "data": {
      "application/vnd.jupyter.widget-view+json": {
       "model_id": "1f29f0ed58c0410c858b0f6be5ee928b",
       "version_major": 2,
       "version_minor": 0
      },
      "text/plain": [
       "HBox(children=(IntProgress(value=0, max=5000), HTML(value='')))"
      ]
     },
     "metadata": {},
     "output_type": "display_data"
    },
    {
     "name": "stdout",
     "output_type": "stream",
     "text": [
      "\n",
      "Score in the FrozenLakeEnv environment with seed 78:\n",
      "Agent = Qlearning(behavioral_strategy=EpsilonGreedyPolicy(epsilon=0.9992783472680413, LinearlyDecayingSchedule(initial_value=1.0, min_value=0.012, decay_rate=1.0, value=0.999)), alpha=ExponentiallyDecayingSchedule(initial_value=1.0, min_value=0.09, decay_rate=0.996, value=0.09))\n",
      "Score = 0.7872658100904776. Breakdown:\n",
      "\tEvaluation mean reward = 0.73, normalized = 0.7899988299594711, weighted = 0.5529991809716297\n",
      "\tTraining mean reward = 0.71, normalized = 0.3426949069654588, weighted = 0.03426949069654588\n",
      "\tTraining episodes = 1101, normalized = 0.9999856921115104, weighted = 0.1999971384223021\n",
      "Total score across all environments for seed 78 = 0.7872658100904776\n",
      "---------------------------------------------\n",
      "\n",
      "Training on FrozenLakeEnv environment with seed 90 and params {'behavioral_strategy': EpsilonGreedyPolicy(epsilon=0.0775019291289278, ConstantSchedule(value=0.078)), 'alpha': ConstantSchedule(value=0.341)}\n"
     ]
    },
    {
     "data": {
      "application/vnd.jupyter.widget-view+json": {
       "model_id": "18e1badb13184fae963931f245c7f16e",
       "version_major": 2,
       "version_minor": 0
      },
      "text/plain": [
       "HBox(children=(IntProgress(value=0, max=5000), HTML(value='')))"
      ]
     },
     "metadata": {},
     "output_type": "display_data"
    },
    {
     "name": "stdout",
     "output_type": "stream",
     "text": [
      "\n",
      "Score in the FrozenLakeEnv environment with seed 78:\n",
      "Agent = Qlearning(behavioral_strategy=EpsilonGreedyPolicy(epsilon=0.2670028080521689, LinearlyDecayingSchedule(initial_value=1.0, min_value=0.001, decay_rate=0.98, value=0.267)), alpha=ExponentiallyDecayingSchedule(initial_value=1.0, min_value=0.074, decay_rate=0.991, value=0.074))\n",
      "Score = 0.8429345761199813. Breakdown:\n",
      "\tEvaluation mean reward = 0.73, normalized = 0.7899988299594711, weighted = 0.5529991809716297\n",
      "\tTraining mean reward = 0.77, normalized = 0.9866142981514305, weighted = 0.09866142981514306\n",
      "\tTraining episodes = 1601, normalized = 0.9563698266660432, weighted = 0.19127396533320865\n",
      "Total score across all environments for seed 78 = 0.8429345761199813\n",
      "---------------------------------------------\n",
      "\n",
      "Training on FrozenLakeEnv environment with seed 12 and params {'behavioral_strategy': EpsilonGreedyPolicy(epsilon=1.0, LinearlyDecayingSchedule(initial_value=1.0, min_value=0.012, decay_rate=1.0, value=1.0)), 'alpha': ConstantSchedule(value=0.603)}\n"
     ]
    },
    {
     "data": {
      "application/vnd.jupyter.widget-view+json": {
       "model_id": "9d4e3e0309f0422f8899e40cec01ee8b",
       "version_major": 2,
       "version_minor": 0
      },
      "text/plain": [
       "HBox(children=(IntProgress(value=0, max=5000), HTML(value='')))"
      ]
     },
     "metadata": {},
     "output_type": "display_data"
    },
    {
     "name": "stdout",
     "output_type": "stream",
     "text": [
      "\n",
      "Score in the FrozenLakeEnv environment with seed 34:\n",
      "Agent = Qlearning(behavioral_strategy=EpsilonGreedyPolicy(epsilon=0.9998797245446736, LinearlyDecayingSchedule(initial_value=1.0, min_value=0.012, decay_rate=1.0, value=1.0)), alpha=ExponentiallyDecayingSchedule(initial_value=1.0, min_value=0.074, decay_rate=0.991, value=0.074))\n",
      "Score = 0.9547208291936955. Breakdown:\n",
      "\tEvaluation mean reward = 0.75, normalized = 0.9453064264076343, weighted = 0.6617144984853439\n",
      "\tTraining mean reward = 0.77, normalized = 0.9866142981514305, weighted = 0.09866142981514306\n",
      "\tTraining episodes = 1551, normalized = 0.9717245044660427, weighted = 0.19434490089320855\n",
      "Total score across all environments for seed 34 = 0.9547208291936955\n",
      "---------------------------------------------\n",
      "\n",
      "Training on FrozenLakeEnv environment with seed 34 and params {'behavioral_strategy': EpsilonGreedyPolicy(epsilon=1.0, LinearlyDecayingSchedule(initial_value=1.0, min_value=0.012, decay_rate=1.0, value=1.0)), 'alpha': ConstantSchedule(value=0.603)}\n"
     ]
    },
    {
     "data": {
      "application/vnd.jupyter.widget-view+json": {
       "model_id": "fdf4f9f4ecc847e693e155047d016d51",
       "version_major": 2,
       "version_minor": 0
      },
      "text/plain": [
       "HBox(children=(IntProgress(value=0, max=5000), HTML(value='')))"
      ]
     },
     "metadata": {},
     "output_type": "display_data"
    },
    {
     "name": "stdout",
     "output_type": "stream",
     "text": [
      "\n",
      "Score in the FrozenLakeEnv environment with seed 34:\n",
      "Agent = Qlearning(behavioral_strategy=EpsilonGreedyPolicy(epsilon=0.0620865541722682, ConstantSchedule(value=0.062)), alpha=ConstantSchedule(value=0.744))\n",
      "Score = -0.9999999999999999. Breakdown:\n",
      "\tEvaluation mean reward = 0.0, normalized = -1.0, weighted = -0.7\n",
      "\tTraining mean reward = 0.0, normalized = -1.0, weighted = -0.1\n",
      "\tTraining episodes = 5000, normalized = -1.0, weighted = -0.2\n",
      "Total score across all environments for seed 34 = -0.9999999999999999\n",
      "---------------------------------------------\n",
      "\n",
      "Training on FrozenLakeEnv environment with seed 56 and params {'behavioral_strategy': EpsilonGreedyPolicy(epsilon=1.0, LinearlyDecayingSchedule(initial_value=1.0, min_value=0.012, decay_rate=1.0, value=1.0)), 'alpha': ConstantSchedule(value=0.603)}\n",
      "\n",
      "Score in the FrozenLakeEnv environment with seed 12:\n",
      "Agent = Qlearning(behavioral_strategy=EpsilonGreedyPolicy(epsilon=0.0620865541722682, ConstantSchedule(value=0.062)), alpha=ConstantSchedule(value=0.744))\n",
      "Score = -0.9999999999999999. Breakdown:\n",
      "\tEvaluation mean reward = 0.0, normalized = -1.0, weighted = -0.7\n",
      "\tTraining mean reward = 0.0, normalized = -1.0, weighted = -0.1\n",
      "\tTraining episodes = 5000, normalized = -1.0, weighted = -0.2\n",
      "Total score across all environments for seed 12 = -0.9999999999999999\n",
      "---------------------------------------------\n",
      "\n",
      "Training on FrozenLakeEnv environment with seed 78 and params {'behavioral_strategy': EpsilonGreedyPolicy(epsilon=1.0, LinearlyDecayingSchedule(initial_value=1.0, min_value=0.012, decay_rate=1.0, value=1.0)), 'alpha': ConstantSchedule(value=0.603)}\n",
      "\n"
     ]
    },
    {
     "data": {
      "application/vnd.jupyter.widget-view+json": {
       "model_id": "a029a70cddf04b80889eb8f71969c0cf",
       "version_major": 2,
       "version_minor": 0
      },
      "text/plain": [
       "HBox(children=(IntProgress(value=0, max=5000), HTML(value='')))"
      ]
     },
     "metadata": {},
     "output_type": "display_data"
    },
    {
     "name": "stdout",
     "output_type": "stream",
     "text": [
      "Score in the FrozenLakeEnv environment with seed 90:\n",
      "Agent = Qlearning(behavioral_strategy=EpsilonGreedyPolicy(epsilon=0.9995188981786942, LinearlyDecayingSchedule(initial_value=1.0, min_value=0.012, decay_rate=1.0, value=1.0)), alpha=ExponentiallyDecayingSchedule(initial_value=1.0, min_value=0.09, decay_rate=0.996, value=0.09))\n",
      "Score = -0.4451332947793161. Breakdown:\n",
      "\tEvaluation mean reward = 0.61, normalized = -0.9967756945029475, weighted = -0.6977429861520632\n",
      "\tTraining mean reward = 0.72, normalized = 0.6133572603953845, weighted = 0.061335726039538456\n",
      "\tTraining episodes = 1601, normalized = 0.9563698266660432, weighted = 0.19127396533320865\n",
      "Total score across all environments for seed 90 = -0.4451332947793161\n",
      "---------------------------------------------\n",
      "\n",
      "Training on FrozenLakeEnv environment with seed 90 and params {'behavioral_strategy': EpsilonGreedyPolicy(epsilon=1.0, LinearlyDecayingSchedule(initial_value=1.0, min_value=0.012, decay_rate=1.0, value=1.0)), 'alpha': ConstantSchedule(value=0.603)}\n"
     ]
    },
    {
     "data": {
      "application/vnd.jupyter.widget-view+json": {
       "model_id": "1d6f735b8d1e4a7b802bccfe56b57172",
       "version_major": 2,
       "version_minor": 0
      },
      "text/plain": [
       "HBox(children=(IntProgress(value=0, max=5000), HTML(value='')))"
      ]
     },
     "metadata": {},
     "output_type": "display_data"
    },
    {
     "data": {
      "application/vnd.jupyter.widget-view+json": {
       "model_id": "4a7fec996d7b4b42a5b7c414aed1c80c",
       "version_major": 2,
       "version_minor": 0
      },
      "text/plain": [
       "HBox(children=(IntProgress(value=0, max=5000), HTML(value='')))"
      ]
     },
     "metadata": {},
     "output_type": "display_data"
    },
    {
     "name": "stdout",
     "output_type": "stream",
     "text": [
      "\n",
      "Score in the FrozenLakeEnv environment with seed 78:\n",
      "Agent = Qlearning(behavioral_strategy=EpsilonGreedyPolicy(epsilon=0.0620865541722682, ConstantSchedule(value=0.062)), alpha=ConstantSchedule(value=0.744))\n",
      "Score = -0.9999999999999999. Breakdown:\n",
      "\tEvaluation mean reward = 0.0, normalized = -1.0, weighted = -0.7\n",
      "\tTraining mean reward = 0.0, normalized = -1.0, weighted = -0.1\n",
      "\tTraining episodes = 5000, normalized = -1.0, weighted = -0.2\n",
      "Total score across all environments for seed 78 = -0.9999999999999999\n",
      "---------------------------------------------\n",
      "\n",
      "Training on FrozenLakeEnv environment with seed 12 and params {'behavioral_strategy': EpsilonGreedyPolicy(epsilon=1.0, ExponentiallyDecayingSchedule(initial_value=1.0, min_value=0.005, decay_rate=0.999, value=1.0)), 'alpha': ExponentiallyDecayingSchedule(initial_value=1.0, min_value=0.09, decay_rate=0.996, value=1.0)}\n",
      "\n",
      "\n",
      "Score in the FrozenLakeEnv environment with seed 12:\n",
      "Agent = Qlearning(behavioral_strategy=EpsilonGreedyPolicy(epsilon=0.8167507020130422, LinearlyDecayingSchedule(initial_value=1.0, min_value=0.001, decay_rate=0.98, value=0.817)), alpha=ExponentiallyDecayingSchedule(initial_value=1.0, min_value=0.074, decay_rate=0.991, value=0.074))\n",
      "Score = -0.48497134134491254. Breakdown:\n",
      "\tEvaluation mean reward = 0.55, normalized = -0.9999555506739739, weighted = -0.6999688854717817\n",
      "\tTraining mean reward = 0.73, normalized = 0.7899988299594711, weighted = 0.07899988299594712\n",
      "\tTraining episodes = 1951, normalized = 0.6799883056546103, weighted = 0.13599766113092207\n",
      "Total score across all environments for seed 12 = -0.48497134134491254\n",
      "---------------------------------------------\n",
      "\n",
      "Training on FrozenLakeEnv environment with seed 34 and params {'behavioral_strategy': EpsilonGreedyPolicy(epsilon=1.0, ExponentiallyDecayingSchedule(initial_value=1.0, min_value=0.005, decay_rate=0.999, value=1.0)), 'alpha': ExponentiallyDecayingSchedule(initial_value=1.0, min_value=0.09, decay_rate=0.996, value=1.0)}\n",
      "Score in the FrozenLakeEnv environment with seed 56:\n",
      "Agent = Qlearning(behavioral_strategy=EpsilonGreedyPolicy(epsilon=0.0620865541722682, ConstantSchedule(value=0.062)), alpha=ConstantSchedule(value=0.744))\n",
      "Score = -0.9999999999999999. Breakdown:\n",
      "\tEvaluation mean reward = 0.0, normalized = -1.0, weighted = -0.7\n",
      "\tTraining mean reward = 0.0, normalized = -1.0, weighted = -0.1\n",
      "\tTraining episodes = 5000, normalized = -1.0, weighted = -0.2\n",
      "Total score across all environments for seed 56 = -0.9999999999999999\n",
      "---------------------------------------------\n",
      "\n",
      "Training on FrozenLakeEnv environment with seed 56 and params {'behavioral_strategy': EpsilonGreedyPolicy(epsilon=1.0, ExponentiallyDecayingSchedule(initial_value=1.0, min_value=0.005, decay_rate=0.999, value=1.0)), 'alpha': ExponentiallyDecayingSchedule(initial_value=1.0, min_value=0.09, decay_rate=0.996, value=1.0)}\n"
     ]
    },
    {
     "data": {
      "application/vnd.jupyter.widget-view+json": {
       "model_id": "14f19839bfe049548f293accdfda1ee9",
       "version_major": 2,
       "version_minor": 0
      },
      "text/plain": [
       "HBox(children=(IntProgress(value=0, max=5000), HTML(value='')))"
      ]
     },
     "metadata": {},
     "output_type": "display_data"
    },
    {
     "data": {
      "application/vnd.jupyter.widget-view+json": {
       "model_id": "b724976f77f246e3830c649956b303de",
       "version_major": 2,
       "version_minor": 0
      },
      "text/plain": [
       "HBox(children=(IntProgress(value=0, max=5000), HTML(value='')))"
      ]
     },
     "metadata": {},
     "output_type": "display_data"
    },
    {
     "data": {
      "application/vnd.jupyter.widget-view+json": {
       "model_id": "7b22ab49f22d42d0a6255b21e9b232f7",
       "version_major": 2,
       "version_minor": 0
      },
      "text/plain": [
       "HBox(children=(IntProgress(value=0, max=5000), HTML(value='')))"
      ]
     },
     "metadata": {},
     "output_type": "display_data"
    },
    {
     "name": "stdout",
     "output_type": "stream",
     "text": [
      "\n",
      "Score in the FrozenLakeEnv environment with seed 34:\n",
      "Agent = Qlearning(behavioral_strategy=EpsilonGreedyPolicy(epsilon=0.9429479294766345, ExponentiallyDecayingSchedule(initial_value=1.0, min_value=0.001, decay_rate=0.997, value=0.943)), alpha=ConstantSchedule(value=0.723))\n",
      "Score = 0.6838881012421132. Breakdown:\n",
      "\tEvaluation mean reward = 0.77, normalized = 0.9866142981514305, weighted = 0.6906300087060013\n",
      "\tTraining mean reward = 0.77, normalized = 0.9866142981514305, weighted = 0.09866142981514306\n",
      "\tTraining episodes = 2951, normalized = -0.5270166863951559, weighted = -0.10540333727903117\n",
      "Total score across all environments for seed 34 = 0.6838881012421132\n",
      "---------------------------------------------\n",
      "\n",
      "Training on FrozenLakeEnv environment with seed 78 and params {'behavioral_strategy': EpsilonGreedyPolicy(epsilon=1.0, ExponentiallyDecayingSchedule(initial_value=1.0, min_value=0.005, decay_rate=0.999, value=1.0)), 'alpha': ExponentiallyDecayingSchedule(initial_value=1.0, min_value=0.09, decay_rate=0.996, value=1.0)}\n",
      "\n",
      "\n"
     ]
    },
    {
     "data": {
      "application/vnd.jupyter.widget-view+json": {
       "model_id": "42334f9b37a948d5a6c698d299500aab",
       "version_major": 2,
       "version_minor": 0
      },
      "text/plain": [
       "HBox(children=(IntProgress(value=0, max=5000), HTML(value='')))"
      ]
     },
     "metadata": {},
     "output_type": "display_data"
    },
    {
     "name": "stdout",
     "output_type": "stream",
     "text": [
      "Score in the FrozenLakeEnv environment with seed 56:\n",
      "Agent = Qlearning(behavioral_strategy=EpsilonGreedyPolicy(epsilon=0.9986769699914091, LinearlyDecayingSchedule(initial_value=1.0, min_value=0.012, decay_rate=1.0, value=0.999)), alpha=ExponentiallyDecayingSchedule(initial_value=1.0, min_value=0.074, decay_rate=0.991, value=0.074))\n",
      "Score = 0.8621185635085516. Breakdown:\n",
      "\tEvaluation mean reward = 0.77, normalized = 0.9866142981514305, weighted = 0.6906300087060013\n",
      "\tTraining mean reward = 0.72, normalized = 0.6133572603953845, weighted = 0.061335726039538456\n",
      "\tTraining episodes = 2051, normalized = 0.5507641438150594, weighted = 0.1101528287630119\n",
      "Score in the FrozenLakeEnv environment with seed 34:\n",
      "Agent = Qlearning(behavioral_strategy=EpsilonGreedyPolicy(epsilon=0.9987972454467355, LinearlyDecayingSchedule(initial_value=1.0, min_value=0.012, decay_rate=1.0, value=0.999)), alpha=ExponentiallyDecayingSchedule(initial_value=1.0, min_value=0.09, decay_rate=0.996, value=0.09))\n",
      "Score = 0.8337918256276098. Breakdown:\n",
      "\tEvaluation mean reward = 0.74, normalized = 0.8913734677347187, weighted = 0.623961427414303\n",
      "\tTraining mean reward = 0.79, normalized = 0.9967756945029476, weighted = 0.09967756945029477\n",
      "\tTraining episodes = 2051, normalized = 0.5507641438150594, weighted = 0.1101528287630119Total score across all environments for seed 56 = 0.8621185635085516\n",
      "\n",
      "---------------------------------------------\n",
      "Total score across all environments for seed 34 = 0.8337918256276098\n",
      "\n",
      "---------------------------------------------\n",
      "\n",
      "Training on FrozenLakeEnv environment with seed 12 and params {'behavioral_strategy': EpsilonGreedyPolicy(epsilon=1.0, ExponentiallyDecayingSchedule(initial_value=1.0, min_value=0.005, decay_rate=0.996, value=1.0)), 'alpha': ExponentiallyDecayingSchedule(initial_value=1.0, min_value=0.074, decay_rate=0.991, value=1.0)}\n",
      "Training on FrozenLakeEnv environment with seed 90 and params {'behavioral_strategy': EpsilonGreedyPolicy(epsilon=1.0, ExponentiallyDecayingSchedule(initial_value=1.0, min_value=0.005, decay_rate=0.999, value=1.0)), 'alpha': ExponentiallyDecayingSchedule(initial_value=1.0, min_value=0.09, decay_rate=0.996, value=1.0)}\n",
      "\n",
      "\n",
      "Score in the FrozenLakeEnv environment with seed 90:\n",
      "Agent = Qlearning(behavioral_strategy=EpsilonGreedyPolicy(epsilon=0.9974491625889466, ExponentiallyDecayingSchedule(initial_value=1.0, min_value=0.001, decay_rate=0.997, value=0.997)), alpha=ConstantSchedule(value=0.723))\n",
      "Score = -0.61752765193846. Breakdown:\n",
      "\tEvaluation mean reward = 0.67, normalized = -0.7899988299594689, weighted = -0.5529991809716281\n",
      "\tTraining mean reward = 0.72, normalized = 0.6133572603953845, weighted = 0.061335726039538456\n",
      "\tTraining episodes = 3101, normalized = -0.6293209850318515, weighted = -0.1258641970063703\n"
     ]
    },
    {
     "data": {
      "application/vnd.jupyter.widget-view+json": {
       "model_id": "af840e7591cc4d4e986d6824639262ce",
       "version_major": 2,
       "version_minor": 0
      },
      "text/plain": [
       "HBox(children=(IntProgress(value=0, max=5000), HTML(value='')))"
      ]
     },
     "metadata": {},
     "output_type": "display_data"
    },
    {
     "name": "stdout",
     "output_type": "stream",
     "text": [
      "Total score across all environments for seed 90 = -0.61752765193846\n",
      "---------------------------------------------\n"
     ]
    },
    {
     "data": {
      "application/vnd.jupyter.widget-view+json": {
       "model_id": "38f0388d596843cc83606afa62e52c02",
       "version_major": 2,
       "version_minor": 0
      },
      "text/plain": [
       "HBox(children=(IntProgress(value=0, max=5000), HTML(value='')))"
      ]
     },
     "metadata": {},
     "output_type": "display_data"
    },
    {
     "name": "stdout",
     "output_type": "stream",
     "text": [
      "\n",
      "Training on FrozenLakeEnv environment with seed 34 and params {'behavioral_strategy': EpsilonGreedyPolicy(epsilon=1.0, ExponentiallyDecayingSchedule(initial_value=1.0, min_value=0.005, decay_rate=0.996, value=1.0)), 'alpha': ExponentiallyDecayingSchedule(initial_value=1.0, min_value=0.074, decay_rate=0.991, value=1.0)}\n",
      "Score in the FrozenLakeEnv environment with seed 56:\n",
      "Agent = Qlearning(behavioral_strategy=EpsilonGreedyPolicy(epsilon=0.8778338013420282, LinearlyDecayingSchedule(initial_value=1.0, min_value=0.001, decay_rate=0.98, value=0.878)), alpha=ExponentiallyDecayingSchedule(initial_value=1.0, min_value=0.074, decay_rate=0.991, value=0.074))\n",
      "Score = -0.5380895936626098. Breakdown:\n",
      "\tEvaluation mean reward = 0.66, normalized = -0.8913734677347183, weighted = -0.6239614274143027\n",
      "\tTraining mean reward = 0.72, normalized = 0.6133572603953845, weighted = 0.061335726039538456\n",
      "\tTraining episodes = 2351, normalized = 0.12268053856077255, weighted = 0.02453610771215451\n",
      "Total score across all environments for seed 56 = -0.5380895936626098\n",
      "---------------------------------------------\n",
      "\n",
      "Training on FrozenLakeEnv environment with seed 56 and params {'behavioral_strategy': EpsilonGreedyPolicy(epsilon=1.0, ExponentiallyDecayingSchedule(initial_value=1.0, min_value=0.005, decay_rate=0.996, value=1.0)), 'alpha': ExponentiallyDecayingSchedule(initial_value=1.0, min_value=0.074, decay_rate=0.991, value=1.0)}\n",
      "\n",
      "Score in the FrozenLakeEnv environment with seed 12:\n",
      "Agent = Qlearning(behavioral_strategy=EpsilonGreedyPolicy(epsilon=0.9987972454467355, LinearlyDecayingSchedule(initial_value=1.0, min_value=0.012, decay_rate=1.0, value=0.999)), alpha=ConstantSchedule(value=0.603))\n",
      "Score = -0.13481944045733907. Breakdown:\n",
      "\tEvaluation mean reward = 0.68, normalized = -0.613357260395381, weighted = -0.42935008227676663\n",
      "\tTraining mean reward = 0.75, normalized = 0.9453064264076343, weighted = 0.09453064264076344\n",
      "\tTraining episodes = 901, normalized = 0.9999999958933206, weighted = 0.19999999917866412\n",
      "Total score across all environments for seed 12 = -0.13481944045733907\n",
      "---------------------------------------------\n",
      "\n",
      "Training on FrozenLakeEnv environment with seed 78 and params {'behavioral_strategy': EpsilonGreedyPolicy(epsilon=1.0, ExponentiallyDecayingSchedule(initial_value=1.0, min_value=0.005, decay_rate=0.996, value=1.0)), 'alpha': ExponentiallyDecayingSchedule(initial_value=1.0, min_value=0.074, decay_rate=0.991, value=1.0)}\n"
     ]
    },
    {
     "data": {
      "application/vnd.jupyter.widget-view+json": {
       "model_id": "a0edeb327842445ba9857fa9d1b7181d",
       "version_major": 2,
       "version_minor": 0
      },
      "text/plain": [
       "HBox(children=(IntProgress(value=0, max=5000), HTML(value='')))"
      ]
     },
     "metadata": {},
     "output_type": "display_data"
    },
    {
     "data": {
      "application/vnd.jupyter.widget-view+json": {
       "model_id": "5b0047cf70d1430590c206142fc34fb3",
       "version_major": 2,
       "version_minor": 0
      },
      "text/plain": [
       "HBox(children=(IntProgress(value=0, max=5000), HTML(value='')))"
      ]
     },
     "metadata": {},
     "output_type": "display_data"
    },
    {
     "name": "stdout",
     "output_type": "stream",
     "text": [
      "\n",
      "\n",
      "Score in the FrozenLakeEnv environment with seed 12:\n",
      "Agent = Qlearning(behavioral_strategy=EpsilonGreedyPolicy(epsilon=0.9990377963573884, LinearlyDecayingSchedule(initial_value=1.0, min_value=0.012, decay_rate=1.0, value=0.999)), alpha=ExponentiallyDecayingSchedule(initial_value=1.0, min_value=0.074, decay_rate=0.991, value=0.074))\n",
      "Score = -0.2973177572168617. Breakdown:\n",
      "\tEvaluation mean reward = 0.68, normalized = -0.613357260395381, weighted = -0.42935008227676663\n",
      "\tTraining mean reward = 0.73, normalized = 0.7899988299594711, weighted = 0.07899988299594712\n",
      "\tTraining episodes = 2251, normalized = 0.26516221031978904, weighted = 0.05303244206395781\n",
      "Total score across all environments for seed 12 = -0.2973177572168617\n",
      "---------------------------------------------\n",
      "\n",
      "Training on FrozenLakeEnv environment with seed 90 and params {'behavioral_strategy': EpsilonGreedyPolicy(epsilon=1.0, ExponentiallyDecayingSchedule(initial_value=1.0, min_value=0.005, decay_rate=0.996, value=1.0)), 'alpha': ExponentiallyDecayingSchedule(initial_value=1.0, min_value=0.074, decay_rate=0.991, value=1.0)}\n"
     ]
    },
    {
     "data": {
      "application/vnd.jupyter.widget-view+json": {
       "model_id": "36f36bbb315c40f193366ea4961b56d4",
       "version_major": 2,
       "version_minor": 0
      },
      "text/plain": [
       "HBox(children=(IntProgress(value=0, max=5000), HTML(value='')))"
      ]
     },
     "metadata": {},
     "output_type": "display_data"
    },
    {
     "name": "stdout",
     "output_type": "stream",
     "text": [
      "Score in the FrozenLakeEnv environment with seed 34:\n",
      "Agent = Qlearning(behavioral_strategy=EpsilonGreedyPolicy(epsilon=0.9995188981786942, LinearlyDecayingSchedule(initial_value=1.0, min_value=0.012, decay_rate=1.0, value=1.0)), alpha=ConstantSchedule(value=0.603))\n",
      "Score = 0.8143349070111581. Breakdown:\n",
      "\tEvaluation mean reward = 0.73, normalized = 0.7899988299594711, weighted = 0.5529991809716297\n",
      "\tTraining mean reward = 0.72, normalized = 0.6133572603953845, weighted = 0.061335726039538456\n",
      "\tTraining episodes = 751, normalized = 0.9999999999999498, weighted = 0.19999999999998996\n",
      "Total score across all environments for seed 34 = 0.8143349070111581\n",
      "---------------------------------------------\n",
      "\n",
      "Training on FrozenLakeEnv environment with seed 12 and params {'behavioral_strategy': EpsilonGreedyPolicy(epsilon=1.0, ExponentiallyDecayingSchedule(initial_value=1.0, min_value=0.005, decay_rate=0.996, value=1.0)), 'alpha': ExponentiallyDecayingSchedule(initial_value=1.0, min_value=0.073, decay_rate=0.964, value=1.0)}\n"
     ]
    },
    {
     "data": {
      "application/vnd.jupyter.widget-view+json": {
       "model_id": "bb07b98c7b834ff18d80543d6f2f7f5a",
       "version_major": 2,
       "version_minor": 0
      },
      "text/plain": [
       "HBox(children=(IntProgress(value=0, max=5000), HTML(value='')))"
      ]
     },
     "metadata": {},
     "output_type": "display_data"
    },
    {
     "name": "stdout",
     "output_type": "stream",
     "text": [
      "\n"
     ]
    },
    {
     "data": {
      "application/vnd.jupyter.widget-view+json": {
       "model_id": "21f2adac4c734c9da59848b882f60121",
       "version_major": 2,
       "version_minor": 0
      },
      "text/plain": [
       "HBox(children=(IntProgress(value=0, max=5000), HTML(value='')))"
      ]
     },
     "metadata": {},
     "output_type": "display_data"
    },
    {
     "name": "stdout",
     "output_type": "stream",
     "text": [
      "Score in the FrozenLakeEnv environment with seed 78:\n",
      "Agent = Qlearning(behavioral_strategy=EpsilonGreedyPolicy(epsilon=0.9974491625889466, ExponentiallyDecayingSchedule(initial_value=1.0, min_value=0.001, decay_rate=0.997, value=0.997)), alpha=ConstantSchedule(value=0.723))\n",
      "Score = 0.6292508551642859. Breakdown:\n",
      "\tEvaluation mean reward = 0.75, normalized = 0.9453064264076343, weighted = 0.6617144984853439\n",
      "\tTraining mean reward = 0.78, normalized = 0.9934246772281319, weighted = 0.09934246772281319\n",
      "\tTraining episodes = 3151, normalized = -0.6590305552193557, weighted = -0.13180611104387116\n",
      "Total score across all environments for seed 78 = 0.6292508551642859\n",
      "---------------------------------------------\n",
      "\n",
      "Training on FrozenLakeEnv environment with seed 34 and params {'behavioral_strategy': EpsilonGreedyPolicy(epsilon=1.0, ExponentiallyDecayingSchedule(initial_value=1.0, min_value=0.005, decay_rate=0.996, value=1.0)), 'alpha': ExponentiallyDecayingSchedule(initial_value=1.0, min_value=0.073, decay_rate=0.964, value=1.0)}\n",
      "\n"
     ]
    },
    {
     "data": {
      "application/vnd.jupyter.widget-view+json": {
       "model_id": "29e0db8178af413290aa78f53eeca6f3",
       "version_major": 2,
       "version_minor": 0
      },
      "text/plain": [
       "HBox(children=(IntProgress(value=0, max=5000), HTML(value='')))"
      ]
     },
     "metadata": {},
     "output_type": "display_data"
    },
    {
     "name": "stdout",
     "output_type": "stream",
     "text": [
      "Score in the FrozenLakeEnv environment with seed 56:\n",
      "Agent = Qlearning(behavioral_strategy=EpsilonGreedyPolicy(epsilon=0.9997594490893471, LinearlyDecayingSchedule(initial_value=1.0, min_value=0.012, decay_rate=1.0, value=1.0)), alpha=ConstantSchedule(value=0.603))\n",
      "Score = 0.9567330000983009. Breakdown:\n",
      "\tEvaluation mean reward = 0.78, normalized = 0.9934246772281319, weighted = 0.6953972740596923\n",
      "\tTraining mean reward = 0.72, normalized = 0.6133572603953845, weighted = 0.061335726039538456\n",
      "\tTraining episodes = 801, normalized = 0.9999999999953508, weighted = 0.19999999999907017\n",
      "Total score across all environments for seed 56 = 0.9567330000983009\n",
      "---------------------------------------------\n",
      "\n",
      "Training on FrozenLakeEnv environment with seed 56 and params {'behavioral_strategy': EpsilonGreedyPolicy(epsilon=1.0, ExponentiallyDecayingSchedule(initial_value=1.0, min_value=0.005, decay_rate=0.996, value=1.0)), 'alpha': ExponentiallyDecayingSchedule(initial_value=1.0, min_value=0.073, decay_rate=0.964, value=1.0)}\n",
      "\n",
      "Score in the FrozenLakeEnv environment with seed 78:\n",
      "Agent = Qlearning(behavioral_strategy=EpsilonGreedyPolicy(epsilon=0.9993986227233678, LinearlyDecayingSchedule(initial_value=1.0, min_value=0.012, decay_rate=1.0, value=0.999)), alpha=ConstantSchedule(value=0.603))\n",
      "Score = 0.5012221501883594. Breakdown:\n",
      "\tEvaluation mean reward = 0.71, normalized = 0.3426949069654588, weighted = 0.23988643487582115\n",
      "\tTraining mean reward = 0.72, normalized = 0.6133572603953845, weighted = 0.061335726039538456\n",
      "\tTraining episodes = 951, normalized = 0.9999999463649991, weighted = 0.19999998927299983\n",
      "Total score across all environments for seed 78 = 0.5012221501883594\n",
      "---------------------------------------------\n",
      "\n",
      "Training on FrozenLakeEnv environment with seed 78 and params {'behavioral_strategy': EpsilonGreedyPolicy(epsilon=1.0, ExponentiallyDecayingSchedule(initial_value=1.0, min_value=0.005, decay_rate=0.996, value=1.0)), 'alpha': ExponentiallyDecayingSchedule(initial_value=1.0, min_value=0.073, decay_rate=0.964, value=1.0)}\n"
     ]
    },
    {
     "data": {
      "application/vnd.jupyter.widget-view+json": {
       "model_id": "2bae3dc4efad4ef3a0a75fd66cc5c7c9",
       "version_major": 2,
       "version_minor": 0
      },
      "text/plain": [
       "HBox(children=(IntProgress(value=0, max=5000), HTML(value='')))"
      ]
     },
     "metadata": {},
     "output_type": "display_data"
    },
    {
     "name": "stdout",
     "output_type": "stream",
     "text": [
      "\n"
     ]
    },
    {
     "data": {
      "application/vnd.jupyter.widget-view+json": {
       "model_id": "bd3be7314aa84a5bb8babb3be59ae98b",
       "version_major": 2,
       "version_minor": 0
      },
      "text/plain": [
       "HBox(children=(IntProgress(value=0, max=5000), HTML(value='')))"
      ]
     },
     "metadata": {},
     "output_type": "display_data"
    },
    {
     "name": "stdout",
     "output_type": "stream",
     "text": [
      "\n",
      "Score in the FrozenLakeEnv environment with seed 90:\n",
      "Agent = Qlearning(behavioral_strategy=EpsilonGreedyPolicy(epsilon=0.9977147663487975, LinearlyDecayingSchedule(initial_value=1.0, min_value=0.012, decay_rate=1.0, value=0.998)), alpha=ExponentiallyDecayingSchedule(initial_value=1.0, min_value=0.074, decay_rate=0.991, value=0.074))\n",
      "Score = -0.5151953181675657. Breakdown:\n",
      "\tEvaluation mean reward = 0.53, normalized = -0.9999893474929373, weighted = -0.6999925432450561\n",
      "\tTraining mean reward = 0.72, normalized = 0.6133572603953845, weighted = 0.061335726039538456\n",
      "\tTraining episodes = 2001, normalized = 0.6173074951897601, weighted = 0.12346149903795203\n",
      "Total score across all environments for seed 90 = -0.5151953181675657\n",
      "---------------------------------------------\n",
      "\n",
      "Training on FrozenLakeEnv environment with seed 90 and params {'behavioral_strategy': EpsilonGreedyPolicy(epsilon=1.0, ExponentiallyDecayingSchedule(initial_value=1.0, min_value=0.005, decay_rate=0.996, value=1.0)), 'alpha': ExponentiallyDecayingSchedule(initial_value=1.0, min_value=0.073, decay_rate=0.964, value=1.0)}\n",
      "Score in the FrozenLakeEnv environment with seed 56:\n",
      "Agent = Qlearning(behavioral_strategy=EpsilonGreedyPolicy(epsilon=0.993386272680481, ExponentiallyDecayingSchedule(initial_value=1.0, min_value=0.005, decay_rate=0.999, value=0.993)), alpha=ExponentiallyDecayingSchedule(initial_value=1.0, min_value=0.09, decay_rate=0.996, value=0.09))\n",
      "Score = 0.9797673554794631. Breakdown:\n",
      "\tEvaluation mean reward = 0.77, normalized = 0.9866142981514305, weighted = 0.6906300087060013\n",
      "\tTraining mean reward = 0.74, normalized = 0.8913734677347187, weighted = 0.08913734677347188\n",
      "\tTraining episodes = 751, normalized = 0.9999999999999498, weighted = 0.19999999999998996\n",
      "Total score across all environments for seed 56 = 0.9797673554794631\n",
      "---------------------------------------------\n",
      "\n",
      "Training on FrozenLakeEnv environment with seed 12 and params {'behavioral_strategy': EpsilonGreedyPolicy(epsilon=0.11536442599539684, ConstantSchedule(value=0.115)), 'alpha': ExponentiallyDecayingSchedule(initial_value=1.0, min_value=0.074, decay_rate=0.991, value=1.0)}\n"
     ]
    },
    {
     "data": {
      "application/vnd.jupyter.widget-view+json": {
       "model_id": "b4d7670f1ef44d8cb9581ed861302fc6",
       "version_major": 2,
       "version_minor": 0
      },
      "text/plain": [
       "HBox(children=(IntProgress(value=0, max=5000), HTML(value='')))"
      ]
     },
     "metadata": {},
     "output_type": "display_data"
    },
    {
     "data": {
      "application/vnd.jupyter.widget-view+json": {
       "model_id": "8215783cd228482d84f8bb4e09142ff8",
       "version_major": 2,
       "version_minor": 0
      },
      "text/plain": [
       "HBox(children=(IntProgress(value=0, max=5000), HTML(value='')))"
      ]
     },
     "metadata": {},
     "output_type": "display_data"
    },
    {
     "name": "stdout",
     "output_type": "stream",
     "text": [
      "\n",
      "Score in the FrozenLakeEnv environment with seed 78:\n",
      "Agent = Qlearning(behavioral_strategy=EpsilonGreedyPolicy(epsilon=0.9991580718127149, LinearlyDecayingSchedule(initial_value=1.0, min_value=0.012, decay_rate=1.0, value=0.999)), alpha=ExponentiallyDecayingSchedule(initial_value=1.0, min_value=0.074, decay_rate=0.991, value=0.074))\n",
      "Score = 0.32176635945606485. Breakdown:\n",
      "\tEvaluation mean reward = 0.71, normalized = 0.3426949069654588, weighted = 0.23988643487582115\n",
      "\tTraining mean reward = 0.76, normalized = 0.9728461661125116, weighted = 0.09728461661125117\n",
      "\tTraining episodes = 2501, normalized = -0.07702346015503725, weighted = -0.015404692031007451\n",
      "Total score across all environments for seed 78 = 0.32176635945606485\n",
      "---------------------------------------------\n",
      "\n",
      "Training on FrozenLakeEnv environment with seed 34 and params {'behavioral_strategy': EpsilonGreedyPolicy(epsilon=0.11536442599539684, ConstantSchedule(value=0.115)), 'alpha': ExponentiallyDecayingSchedule(initial_value=1.0, min_value=0.074, decay_rate=0.991, value=1.0)}\n"
     ]
    },
    {
     "data": {
      "application/vnd.jupyter.widget-view+json": {
       "model_id": "4720cff17c8d4645b34187dae18b17e1",
       "version_major": 2,
       "version_minor": 0
      },
      "text/plain": [
       "HBox(children=(IntProgress(value=0, max=5000), HTML(value='')))"
      ]
     },
     "metadata": {},
     "output_type": "display_data"
    },
    {
     "name": "stdout",
     "output_type": "stream",
     "text": [
      "\n",
      "Score in the FrozenLakeEnv environment with seed 90:\n",
      "Agent = Qlearning(behavioral_strategy=EpsilonGreedyPolicy(epsilon=0.7760286357937183, LinearlyDecayingSchedule(initial_value=1.0, min_value=0.001, decay_rate=0.98, value=0.776)), alpha=ExponentiallyDecayingSchedule(initial_value=1.0, min_value=0.074, decay_rate=0.991, value=0.074))\n",
      "Score = 0.5162723307387312. Breakdown:\n",
      "\tEvaluation mean reward = 0.73, normalized = 0.7899988299594711, weighted = 0.5529991809716297\n",
      "\tTraining mean reward = 0.74, normalized = 0.8913734677347187, weighted = 0.08913734677347188\n",
      "\tTraining episodes = 3101, normalized = -0.6293209850318515, weighted = -0.1258641970063703\n",
      "Total score across all environments for seed 90 = 0.5162723307387312\n",
      "---------------------------------------------\n",
      "\n",
      "Training on FrozenLakeEnv environment with seed 56 and params {'behavioral_strategy': EpsilonGreedyPolicy(epsilon=0.11536442599539684, ConstantSchedule(value=0.115)), 'alpha': ExponentiallyDecayingSchedule(initial_value=1.0, min_value=0.074, decay_rate=0.991, value=1.0)}\n"
     ]
    },
    {
     "data": {
      "application/vnd.jupyter.widget-view+json": {
       "model_id": "6bd3dd6279fb4bf0938a7e1f7b3d0a09",
       "version_major": 2,
       "version_minor": 0
      },
      "text/plain": [
       "HBox(children=(IntProgress(value=0, max=5000), HTML(value='')))"
      ]
     },
     "metadata": {},
     "output_type": "display_data"
    },
    {
     "name": "stdout",
     "output_type": "stream",
     "text": [
      "\n",
      "Score in the FrozenLakeEnv environment with seed 56:\n",
      "Agent = Qlearning(behavioral_strategy=EpsilonGreedyPolicy(epsilon=0.9752226010222359, ExponentiallyDecayingSchedule(initial_value=1.0, min_value=0.005, decay_rate=0.996, value=0.975)), alpha=ExponentiallyDecayingSchedule(initial_value=1.0, min_value=0.074, decay_rate=0.991, value=0.074))\n",
      "Score = -0.46171459218150857. Breakdown:\n",
      "\tEvaluation mean reward = 0.65, normalized = -0.9453064264076338, weighted = -0.6617144984853437\n",
      "\tTraining mean reward = 0.7, normalized = 0.0, weighted = 0.0\n",
      "\tTraining episodes = 1001, normalized = 0.9999995315191756, weighted = 0.19999990630383513\n",
      "Total score across all environments for seed 56 = -0.46171459218150857\n",
      "---------------------------------------------\n",
      "\n",
      "Training on FrozenLakeEnv environment with seed 78 and params {'behavioral_strategy': EpsilonGreedyPolicy(epsilon=0.11536442599539684, ConstantSchedule(value=0.115)), 'alpha': ExponentiallyDecayingSchedule(initial_value=1.0, min_value=0.074, decay_rate=0.991, value=1.0)}\n"
     ]
    },
    {
     "data": {
      "application/vnd.jupyter.widget-view+json": {
       "model_id": "bac6a57818004b7c96c38fac62fe0965",
       "version_major": 2,
       "version_minor": 0
      },
      "text/plain": [
       "HBox(children=(IntProgress(value=0, max=5000), HTML(value='')))"
      ]
     },
     "metadata": {},
     "output_type": "display_data"
    },
    {
     "name": "stdout",
     "output_type": "stream",
     "text": [
      "\n",
      "\n",
      "Score in the FrozenLakeEnv environment with seed 34:\n",
      "Agent = Qlearning(behavioral_strategy=EpsilonGreedyPolicy(epsilon=0.9943284060533764, ExponentiallyDecayingSchedule(initial_value=1.0, min_value=0.005, decay_rate=0.999, value=0.994)), alpha=ExponentiallyDecayingSchedule(initial_value=1.0, min_value=0.09, decay_rate=0.996, value=0.09))\n",
      "Score = 0.8818201526316455. Breakdown:\n",
      "\tEvaluation mean reward = 0.74, normalized = 0.8913734677347187, weighted = 0.623961427414303\n",
      "\tTraining mean reward = 0.72, normalized = 0.6133572603953845, weighted = 0.061335726039538456\n",
      "\tTraining episodes = 1501, normalized = 0.98261499588902, weighted = 0.19652299917780403\n",
      "Total score across all environments for seed 34 = 0.8818201526316455\n",
      "---------------------------------------------\n",
      "\n",
      "Training on FrozenLakeEnv environment with seed 90 and params {'behavioral_strategy': EpsilonGreedyPolicy(epsilon=0.11536442599539684, ConstantSchedule(value=0.115)), 'alpha': ExponentiallyDecayingSchedule(initial_value=1.0, min_value=0.074, decay_rate=0.991, value=1.0)}\n",
      "Score in the FrozenLakeEnv environment with seed 34:\n",
      "Agent = Qlearning(behavioral_strategy=EpsilonGreedyPolicy(epsilon=0.8778338013420282, LinearlyDecayingSchedule(initial_value=1.0, min_value=0.001, decay_rate=0.98, value=0.878)), alpha=ExponentiallyDecayingSchedule(initial_value=1.0, min_value=0.074, decay_rate=0.991, value=0.074))\n",
      "Score = -0.7712874297625112. Breakdown:\n",
      "\tEvaluation mean reward = 0.66, normalized = -0.8913734677347183, weighted = -0.6239614274143027\n",
      "\tTraining mean reward = 0.7, normalized = 0.0, weighted = 0.0\n",
      "\tTraining episodes = 3301, normalized = -0.736630011741042, weighted = -0.14732600234820842\n",
      "Total score across all environments for seed 34 = -0.7712874297625112\n",
      "---------------------------------------------\n",
      "\n",
      "\n"
     ]
    },
    {
     "data": {
      "application/vnd.jupyter.widget-view+json": {
       "model_id": "aeab908d016043dfa1b5e3beec1c6d00",
       "version_major": 2,
       "version_minor": 0
      },
      "text/plain": [
       "HBox(children=(IntProgress(value=0, max=5000), HTML(value='')))"
      ]
     },
     "metadata": {},
     "output_type": "display_data"
    },
    {
     "name": "stdout",
     "output_type": "stream",
     "text": [
      "Score in the FrozenLakeEnv environment with seed 56:\n",
      "Agent = Qlearning(behavioral_strategy=EpsilonGreedyPolicy(epsilon=0.9752226010222359, ExponentiallyDecayingSchedule(initial_value=1.0, min_value=0.005, decay_rate=0.996, value=0.975)), alpha=ExponentiallyDecayingSchedule(initial_value=1.0, min_value=0.073, decay_rate=0.964, value=0.073))\n",
      "Score = -0.46171459218150857. Breakdown:\n",
      "\tEvaluation mean reward = 0.65, normalized = -0.9453064264076338, weighted = -0.6617144984853437\n",
      "\tTraining mean reward = 0.7, normalized = 0.0, weighted = 0.0\n",
      "\tTraining episodes = 1001, normalized = 0.9999995315191756, weighted = 0.19999990630383513\n",
      "Total score across all environments for seed 56 = -0.46171459218150857\n",
      "---------------------------------------------\n",
      "\n",
      "\n",
      "\n",
      "Score in the FrozenLakeEnv environment with seed 12:\n",
      "Agent = Qlearning(behavioral_strategy=EpsilonGreedyPolicy(epsilon=0.972295936209412, ExponentiallyDecayingSchedule(initial_value=1.0, min_value=0.001, decay_rate=0.997, value=0.972)), alpha=ConstantSchedule(value=0.723))\n",
      "Score = -0.9999999999999908. Breakdown:\n",
      "\tEvaluation mean reward = 0.05, normalized = -1.0, weighted = -0.7\n",
      "\tTraining mean reward = 0.27, normalized = -0.9999999999999084, weighted = -0.09999999999999085\n",
      "\tTraining episodes = 5000, normalized = -1.0, weighted = -0.2\n",
      "Total score across all environments for seed 12 = -0.9999999999999908\n",
      "---------------------------------------------\n",
      "\n",
      "Score in the FrozenLakeEnv environment with seed 56:\n",
      "Agent = Qlearning(behavioral_strategy=EpsilonGreedyPolicy(epsilon=0.9990377963573884, LinearlyDecayingSchedule(initial_value=1.0, min_value=0.012, decay_rate=1.0, value=0.999)), alpha=ExponentiallyDecayingSchedule(initial_value=1.0, min_value=0.09, decay_rate=0.996, value=0.09))\n",
      "Score = 0.607274321211307. Breakdown:\n",
      "\tEvaluation mean reward = 0.79, normalized = 0.9967756945029476, weighted = 0.6977429861520632\n",
      "\tTraining mean reward = 0.72, normalized = 0.6133572603953845, weighted = 0.061335726039538456\n",
      "\tTraining episodes = 3351, normalized = -0.759021954901473, weighted = -0.1518043909802946\n",
      "Total score across all environments for seed 56 = 0.607274321211307\n",
      "---------------------------------------------\n",
      "\n",
      "\n",
      "Score in the FrozenLakeEnv environment with seed 56:\n",
      "Agent = Qlearning(behavioral_strategy=EpsilonGreedyPolicy(epsilon=0.9873107148941298, ExponentiallyDecayingSchedule(initial_value=1.0, min_value=0.001, decay_rate=0.997, value=0.987)), alpha=ConstantSchedule(value=0.723))\n",
      "Score = -0.9999999999999999. Breakdown:\n",
      "\tEvaluation mean reward = 0.01, normalized = -1.0, weighted = -0.7\n",
      "\tTraining mean reward = 0.0, normalized = -1.0, weighted = -0.1\n",
      "\tTraining episodes = 5000, normalized = -1.0, weighted = -0.2\n",
      "Total score across all environments for seed 56 = -0.9999999999999999\n",
      "---------------------------------------------\n",
      "\n",
      "\n",
      "Score in the FrozenLakeEnv environment with seed 12:\n",
      "Agent = Qlearning(behavioral_strategy=EpsilonGreedyPolicy(epsilon=0.9752226010222359, ExponentiallyDecayingSchedule(initial_value=1.0, min_value=0.005, decay_rate=0.996, value=0.975)), alpha=ExponentiallyDecayingSchedule(initial_value=1.0, min_value=0.073, decay_rate=0.964, value=0.073))\n",
      "Score = -0.1481848838349697. Breakdown:\n",
      "\tEvaluation mean reward = 0.68, normalized = -0.613357260395381, weighted = -0.42935008227676663\n",
      "\tTraining mean reward = 0.78, normalized = 0.9934246772281319, weighted = 0.09934246772281319\n",
      "\tTraining episodes = 1701, normalized = 0.9091136535949187, weighted = 0.18182273071898375\n",
      "Total score across all environments for seed 12 = -0.1481848838349697\n",
      "---------------------------------------------\n",
      "\n",
      "\n",
      "Score in the FrozenLakeEnv environment with seed 78:\n",
      "Agent = Qlearning(behavioral_strategy=EpsilonGreedyPolicy(epsilon=0.0775019291289278, ConstantSchedule(value=0.078)), alpha=ConstantSchedule(value=0.341))\n",
      "Score = -0.5464303826041197. Breakdown:\n",
      "\tEvaluation mean reward = 0.67, normalized = -0.7899988299594689, weighted = -0.5529991809716281\n",
      "\tTraining mean reward = 0.71, normalized = 0.3426949069654588, weighted = 0.03426949069654588\n",
      "\tTraining episodes = 2551, normalized = -0.13850346164518668, weighted = -0.027700692329037338\n",
      "Total score across all environments for seed 78 = -0.5464303826041197\n",
      "---------------------------------------------\n",
      "\n",
      "\n",
      "\n",
      "Score in the FrozenLakeEnv environment with seed 90:\n",
      "Agent = Qlearning(behavioral_strategy=EpsilonGreedyPolicy(epsilon=0.9943284060533764, ExponentiallyDecayingSchedule(initial_value=1.0, min_value=0.005, decay_rate=0.999, value=0.994)), alpha=ExponentiallyDecayingSchedule(initial_value=1.0, min_value=0.09, decay_rate=0.996, value=0.09))\n",
      "Score = -0.4713485465475253. Breakdown:\n",
      "\tEvaluation mean reward = 0.55, normalized = -0.9999555506739739, weighted = -0.6999688854717817\n",
      "\tTraining mean reward = 0.72, normalized = 0.6133572603953845, weighted = 0.061335726039538456\n",
      "\tTraining episodes = 1801, normalized = 0.8364230644235897, weighted = 0.16728461288471796\n",
      "Total score across all environments for seed 90 = -0.4713485465475253\n",
      "---------------------------------------------\n",
      "\n",
      "\n",
      "Score in the FrozenLakeEnv environment with seed 78:\n",
      "Agent = Qlearning(behavioral_strategy=EpsilonGreedyPolicy(epsilon=0.9981058832714378, ExponentiallyDecayingSchedule(initial_value=1.0, min_value=0.005, decay_rate=0.999, value=0.998)), alpha=ExponentiallyDecayingSchedule(initial_value=1.0, min_value=0.09, decay_rate=0.996, value=0.09))\n",
      "Score = -0.5523573530877045. Breakdown:\n",
      "\tEvaluation mean reward = 0.56, normalized = -0.9999092042625951, weighted = -0.6999364429838165\n",
      "\tTraining mean reward = 0.7, normalized = 0.0, weighted = 0.0\n",
      "\tTraining episodes = 1901, normalized = 0.7378954494805599, weighted = 0.147579089896112\n",
      "Total score across all environments for seed 78 = -0.5523573530877045\n",
      "---------------------------------------------\n",
      "\n",
      "Score in the FrozenLakeEnv environment with seed 78:\n",
      "Agent = Qlearning(behavioral_strategy=EpsilonGreedyPolicy(epsilon=0.8948396355581706, ExponentiallyDecayingSchedule(initial_value=1.0, min_value=0.005, decay_rate=0.996, value=0.895)), alpha=ExponentiallyDecayingSchedule(initial_value=1.0, min_value=0.073, decay_rate=0.964, value=0.073))\n",
      "Score = 0.8471861086764909. Breakdown:\n",
      "\tEvaluation mean reward = 0.73, normalized = 0.7899988299594711, weighted = 0.5529991809716297\n",
      "\tTraining mean reward = 0.8, normalized = 0.9984202681165271, weighted = 0.09984202681165272\n",
      "\tTraining episodes = 1551, normalized = 0.9717245044660427, weighted = 0.19434490089320855\n",
      "Total score across all environments for seed 78 = 0.8471861086764909\n",
      "---------------------------------------------\n",
      "\n",
      "\n",
      "Score in the FrozenLakeEnv environment with seed 12:\n",
      "Agent = Qlearning(behavioral_strategy=EpsilonGreedyPolicy(epsilon=0.9476564200714348, ExponentiallyDecayingSchedule(initial_value=1.0, min_value=0.005, decay_rate=0.996, value=0.948)), alpha=ExponentiallyDecayingSchedule(initial_value=1.0, min_value=0.074, decay_rate=0.991, value=0.074))\n",
      "Score = -0.20654611551600144. Breakdown:\n",
      "\tEvaluation mean reward = 0.68, normalized = -0.613357260395381, weighted = -0.42935008227676663\n",
      "\tTraining mean reward = 0.78, normalized = 0.9934246772281319, weighted = 0.09934246772281319\n",
      "\tTraining episodes = 2001, normalized = 0.6173074951897601, weighted = 0.12346149903795203\n",
      "Total score across all environments for seed 12 = -0.20654611551600144\n",
      "---------------------------------------------\n",
      "\n",
      "\n",
      "Score in the FrozenLakeEnv environment with seed 34:\n",
      "Agent = Qlearning(behavioral_strategy=EpsilonGreedyPolicy(epsilon=0.9175747512621146, ExponentiallyDecayingSchedule(initial_value=1.0, min_value=0.005, decay_rate=0.996, value=0.918)), alpha=ExponentiallyDecayingSchedule(initial_value=1.0, min_value=0.074, decay_rate=0.991, value=0.074))\n",
      "Score = -0.6221423414349387. Breakdown:\n",
      "\tEvaluation mean reward = 0.65, normalized = -0.9453064264076338, weighted = -0.6617144984853437\n",
      "\tTraining mean reward = 0.73, normalized = 0.7899988299594711, weighted = 0.07899988299594712\n",
      "\tTraining episodes = 2601, normalized = -0.19713862972771112, weighted = -0.039427725945542225\n",
      "Total score across all environments for seed 34 = -0.6221423414349387\n",
      "---------------------------------------------\n",
      "\n",
      "\n",
      "Score in the FrozenLakeEnv environment with seed 78:\n",
      "Agent = Qlearning(behavioral_strategy=EpsilonGreedyPolicy(epsilon=0.9822385382330083, ExponentiallyDecayingSchedule(initial_value=1.0, min_value=0.005, decay_rate=0.996, value=0.982)), alpha=ExponentiallyDecayingSchedule(initial_value=1.0, min_value=0.074, decay_rate=0.991, value=0.074))\n",
      "Score = -0.7276371353128539. Breakdown:\n",
      "\tEvaluation mean reward = 0.56, normalized = -0.9999092042625951, weighted = -0.6999364429838165\n",
      "\tTraining mean reward = 0.7, normalized = 0.0, weighted = 0.0\n"
     ]
    },
    {
     "name": "stdout",
     "output_type": "stream",
     "text": [
      "\tTraining episodes = 2551, normalized = -0.13850346164518668, weighted = -0.027700692329037338\n",
      "Total score across all environments for seed 78 = -0.7276371353128539\n",
      "---------------------------------------------\n",
      "\n",
      "\n",
      "Score in the FrozenLakeEnv environment with seed 34:\n",
      "Agent = Qlearning(behavioral_strategy=EpsilonGreedyPolicy(epsilon=0.9175747512621146, ExponentiallyDecayingSchedule(initial_value=1.0, min_value=0.005, decay_rate=0.996, value=0.918)), alpha=ExponentiallyDecayingSchedule(initial_value=1.0, min_value=0.073, decay_rate=0.964, value=0.073))\n",
      "Score = -0.6221423414349387. Breakdown:\n",
      "\tEvaluation mean reward = 0.65, normalized = -0.9453064264076338, weighted = -0.6617144984853437\n",
      "\tTraining mean reward = 0.73, normalized = 0.7899988299594711, weighted = 0.07899988299594712\n",
      "\tTraining episodes = 2601, normalized = -0.19713862972771112, weighted = -0.039427725945542225\n",
      "Total score across all environments for seed 34 = -0.6221423414349387\n",
      "---------------------------------------------\n",
      "\n",
      "\n",
      "Score in the FrozenLakeEnv environment with seed 78:\n",
      "Agent = Qlearning(behavioral_strategy=EpsilonGreedyPolicy(epsilon=0.0775019291289278, ConstantSchedule(value=0.078)), alpha=LinearlyDecayingSchedule(initial_value=1.0, min_value=0.052, decay_rate=0.976, value=0.052))\n",
      "Score = -0.3275633181588307. Breakdown:\n",
      "\tEvaluation mean reward = 0.69, normalized = -0.34269490696546123, weighted = -0.23988643487582284\n",
      "\tTraining mean reward = 0.75, normalized = 0.9453064264076343, weighted = 0.09453064264076344\n",
      "\tTraining episodes = 3851, normalized = -0.9110376296188566, weighted = -0.18220752592377132\n",
      "Total score across all environments for seed 78 = -0.3275633181588307\n",
      "---------------------------------------------\n",
      "\n",
      "\n",
      "Score in the FrozenLakeEnv environment with seed 12:\n",
      "Agent = Qlearning(behavioral_strategy=EpsilonGreedyPolicy(epsilon=0.0775019291289278, ConstantSchedule(value=0.078)), alpha=ConstantSchedule(value=0.341))\n",
      "Score = -0.9999999999999999. Breakdown:\n",
      "\tEvaluation mean reward = 0.0, normalized = -1.0, weighted = -0.7\n",
      "\tTraining mean reward = 0.0, normalized = -1.0, weighted = -0.1\n",
      "\tTraining episodes = 5000, normalized = -1.0, weighted = -0.2\n",
      "Total score across all environments for seed 12 = -0.9999999999999999\n",
      "---------------------------------------------\n",
      "\n",
      "\n",
      "Score in the FrozenLakeEnv environment with seed 90:\n",
      "Agent = Qlearning(behavioral_strategy=EpsilonGreedyPolicy(epsilon=0.9857654119503506, ExponentiallyDecayingSchedule(initial_value=1.0, min_value=0.005, decay_rate=0.996, value=0.986)), alpha=ExponentiallyDecayingSchedule(initial_value=1.0, min_value=0.074, decay_rate=0.991, value=0.074))\n",
      "Score = -0.2702482508612507. Breakdown:\n",
      "\tEvaluation mean reward = 0.69, normalized = -0.34269490696546123, weighted = -0.23988643487582284\n",
      "\tTraining mean reward = 0.74, normalized = 0.8913734677347187, weighted = 0.08913734677347188\n",
      "\tTraining episodes = 3051, normalized = -0.5974958137944986, weighted = -0.11949916275889971\n",
      "Total score across all environments for seed 90 = -0.2702482508612507\n",
      "---------------------------------------------\n",
      "\n",
      "\n",
      "\n",
      "Score in the FrozenLakeEnv environment with seed 34:\n",
      "Agent = Qlearning(behavioral_strategy=EpsilonGreedyPolicy(epsilon=0.0775019291289278, ConstantSchedule(value=0.078)), alpha=LinearlyDecayingSchedule(initial_value=1.0, min_value=0.052, decay_rate=0.976, value=0.052))\n",
      "Score = -0.9999999999999999. Breakdown:\n",
      "\tEvaluation mean reward = 0.0, normalized = -1.0, weighted = -0.7\n",
      "\tTraining mean reward = 0.0, normalized = -1.0, weighted = -0.1\n",
      "\tTraining episodes = 5000, normalized = -1.0, weighted = -0.2\n",
      "Total score across all environments for seed 34 = -0.9999999999999999\n",
      "---------------------------------------------\n",
      "Score in the FrozenLakeEnv environment with seed 34:\n",
      "Agent = Qlearning(behavioral_strategy=EpsilonGreedyPolicy(epsilon=0.0775019291289278, ConstantSchedule(value=0.078)), alpha=ConstantSchedule(value=0.341))\n",
      "Score = -0.9999999999999999. Breakdown:\n",
      "\tEvaluation mean reward = 0.0, normalized = -1.0, weighted = -0.7\n",
      "\tTraining mean reward = 0.0, normalized = -1.0, weighted = -0.1\n",
      "\tTraining episodes = 5000, normalized = -1.0, weighted = -0.2\n",
      "\n",
      "Total score across all environments for seed 34 = -0.9999999999999999\n",
      "---------------------------------------------\n",
      "\n",
      "\n",
      "Score in the FrozenLakeEnv environment with seed 90:\n",
      "Agent = Qlearning(behavioral_strategy=EpsilonGreedyPolicy(epsilon=0.0775019291289278, ConstantSchedule(value=0.078)), alpha=ConstantSchedule(value=0.341))\n",
      "Score = -0.9999999999999999. Breakdown:\n",
      "\tEvaluation mean reward = 0.0, normalized = -1.0, weighted = -0.7\n",
      "\tTraining mean reward = 0.0, normalized = -1.0, weighted = -0.1\n",
      "\tTraining episodes = 5000, normalized = -1.0, weighted = -0.2\n",
      "Total score across all environments for seed 90 = -0.9999999999999999\n",
      "---------------------------------------------\n",
      "\n",
      "\n",
      "Score in the FrozenLakeEnv environment with seed 12:\n",
      "Agent = Qlearning(behavioral_strategy=EpsilonGreedyPolicy(epsilon=0.0775019291289278, ConstantSchedule(value=0.078)), alpha=LinearlyDecayingSchedule(initial_value=1.0, min_value=0.052, decay_rate=0.976, value=0.052))\n",
      "Score = -0.9999999999999999. Breakdown:\n",
      "\tEvaluation mean reward = 0.0, normalized = -1.0, weighted = -0.7\n",
      "\tTraining mean reward = 0.0, normalized = -1.0, weighted = -0.1\n",
      "\tTraining episodes = 5000, normalized = -1.0, weighted = -0.2\n",
      "Total score across all environments for seed 12 = -0.9999999999999999\n",
      "---------------------------------------------\n",
      "\n",
      "\n",
      "\n",
      "Score in the FrozenLakeEnv environment with seed 56:\n",
      "Agent = Qlearning(behavioral_strategy=EpsilonGreedyPolicy(epsilon=0.0775019291289278, ConstantSchedule(value=0.078)), alpha=ConstantSchedule(value=0.341))\n",
      "Score = -0.9999999999999999. Breakdown:\n",
      "\tEvaluation mean reward = 0.0, normalized = -1.0, weighted = -0.7\n",
      "\tTraining mean reward = 0.0, normalized = -1.0, weighted = -0.1\n",
      "\tTraining episodes = 5000, normalized = -1.0, weighted = -0.2\n",
      "Total score across all environments for seed 56 = -0.9999999999999999\n",
      "---------------------------------------------\n",
      "\n",
      "Score in the FrozenLakeEnv environment with seed 90:\n",
      "Agent = Qlearning(behavioral_strategy=EpsilonGreedyPolicy(epsilon=0.0775019291289278, ConstantSchedule(value=0.078)), alpha=LinearlyDecayingSchedule(initial_value=1.0, min_value=0.052, decay_rate=0.976, value=0.052))\n",
      "Score = -0.9999999999999999. Breakdown:\n",
      "\tEvaluation mean reward = 0.0, normalized = -1.0, weighted = -0.7\n",
      "\tTraining mean reward = 0.0, normalized = -1.0, weighted = -0.1\n",
      "\tTraining episodes = 5000, normalized = -1.0, weighted = -0.2\n",
      "Total score across all environments for seed 90 = -0.9999999999999999\n",
      "---------------------------------------------\n",
      "\n",
      "\n",
      "Score in the FrozenLakeEnv environment with seed 56:\n",
      "Agent = Qlearning(behavioral_strategy=EpsilonGreedyPolicy(epsilon=0.0775019291289278, ConstantSchedule(value=0.078)), alpha=LinearlyDecayingSchedule(initial_value=1.0, min_value=0.052, decay_rate=0.976, value=0.052))\n",
      "Score = -0.9999999999999999. Breakdown:\n",
      "\tEvaluation mean reward = 0.0, normalized = -1.0, weighted = -0.7\n",
      "\tTraining mean reward = 0.0, normalized = -1.0, weighted = -0.1\n",
      "\tTraining episodes = 5000, normalized = -1.0, weighted = -0.2\n",
      "Total score across all environments for seed 56 = -0.9999999999999999\n",
      "---------------------------------------------\n",
      "\n",
      "\n",
      "Score in the FrozenLakeEnv environment with seed 12:\n",
      "Agent = Qlearning(behavioral_strategy=EpsilonGreedyPolicy(epsilon=0.9990524927507252, ExponentiallyDecayingSchedule(initial_value=1.0, min_value=0.005, decay_rate=0.999, value=0.999)), alpha=ExponentiallyDecayingSchedule(initial_value=1.0, min_value=0.09, decay_rate=0.996, value=0.09))\n",
      "Score = 0.15082164403942397. Breakdown:\n",
      "\tEvaluation mean reward = 0.71, normalized = 0.3426949069654588, weighted = 0.23988643487582115\n",
      "\tTraining mean reward = 0.82, normalized = 0.9996211881123498, weighted = 0.09996211881123498\n",
      "\tTraining episodes = 4051, normalized = -0.9451345482381608, weighted = -0.18902690964763216\n",
      "Total score across all environments for seed 12 = 0.15082164403942397\n",
      "---------------------------------------------\n",
      "\n",
      "\n",
      "Score in the FrozenLakeEnv environment with seed 90:\n",
      "Agent = Qlearning(behavioral_strategy=EpsilonGreedyPolicy(epsilon=0.9991580718127149, LinearlyDecayingSchedule(initial_value=1.0, min_value=0.012, decay_rate=1.0, value=0.999)), alpha=ConstantSchedule(value=0.603))\n",
      "Score = -0.9999999999999999. Breakdown:\n",
      "\tEvaluation mean reward = 0.08, normalized = -1.0, weighted = -0.7\n",
      "\tTraining mean reward = 0.08, normalized = -1.0, weighted = -0.1\n"
     ]
    },
    {
     "name": "stdout",
     "output_type": "stream",
     "text": [
      "\tTraining episodes = 5000, normalized = -1.0, weighted = -0.2\n",
      "Total score across all environments for seed 90 = -0.9999999999999999\n",
      "---------------------------------------------\n",
      "\n",
      "\n",
      "Score in the FrozenLakeEnv environment with seed 90:\n",
      "Agent = Qlearning(behavioral_strategy=EpsilonGreedyPolicy(epsilon=0.9613407090399768, ExponentiallyDecayingSchedule(initial_value=1.0, min_value=0.005, decay_rate=0.996, value=0.961)), alpha=ExponentiallyDecayingSchedule(initial_value=1.0, min_value=0.073, decay_rate=0.964, value=0.073))\n",
      "Score = 0.4627485378883773. Breakdown:\n",
      "\tEvaluation mean reward = 0.73, normalized = 0.7899988299594711, weighted = 0.5529991809716297\n",
      "\tTraining mean reward = 0.76, normalized = 0.9728461661125116, weighted = 0.09728461661125117\n",
      "\tTraining episodes = 4001, normalized = -0.9376762984725178, weighted = -0.18753525969450358\n",
      "Total score across all environments for seed 90 = 0.4627485378883773\n",
      "---------------------------------------------\n",
      "\n",
      "\n",
      "Score in the FrozenLakeEnv environment with seed 34:\n",
      "Agent = Qlearning(behavioral_strategy=EpsilonGreedyPolicy(epsilon=0.11536442599539684, ConstantSchedule(value=0.115)), alpha=ExponentiallyDecayingSchedule(initial_value=1.0, min_value=0.074, decay_rate=0.991, value=0.074))\n",
      "Score = -0.9999999999999999. Breakdown:\n",
      "\tEvaluation mean reward = 0.0, normalized = -1.0, weighted = -0.7\n",
      "\tTraining mean reward = 0.0, normalized = -1.0, weighted = -0.1\n",
      "\tTraining episodes = 5000, normalized = -1.0, weighted = -0.2\n",
      "Total score across all environments for seed 34 = -0.9999999999999999\n",
      "---------------------------------------------\n",
      "\n",
      "\n",
      "Score in the FrozenLakeEnv environment with seed 12:\n",
      "Agent = Qlearning(behavioral_strategy=EpsilonGreedyPolicy(epsilon=0.11536442599539684, ConstantSchedule(value=0.115)), alpha=ExponentiallyDecayingSchedule(initial_value=1.0, min_value=0.074, decay_rate=0.991, value=0.074))\n",
      "Score = -0.9999999999999999. Breakdown:\n",
      "\tEvaluation mean reward = 0.0, normalized = -1.0, weighted = -0.7\n",
      "\tTraining mean reward = 0.0, normalized = -1.0, weighted = -0.1\n",
      "\tTraining episodes = 5000, normalized = -1.0, weighted = -0.2\n",
      "Total score across all environments for seed 12 = -0.9999999999999999\n",
      "---------------------------------------------\n",
      "\n",
      "\n",
      "Score in the FrozenLakeEnv environment with seed 78:\n",
      "Agent = Qlearning(behavioral_strategy=EpsilonGreedyPolicy(epsilon=0.11536442599539684, ConstantSchedule(value=0.115)), alpha=ExponentiallyDecayingSchedule(initial_value=1.0, min_value=0.074, decay_rate=0.991, value=0.074))\n",
      "Score = -0.9999999999999999. Breakdown:\n",
      "\tEvaluation mean reward = 0.0, normalized = -1.0, weighted = -0.7\n",
      "\tTraining mean reward = 0.0, normalized = -1.0, weighted = -0.1\n",
      "\tTraining episodes = 5000, normalized = -1.0, weighted = -0.2\n",
      "Total score across all environments for seed 78 = -0.9999999999999999\n",
      "---------------------------------------------\n",
      "\n",
      "\n",
      "Score in the FrozenLakeEnv environment with seed 90:\n",
      "Agent = Qlearning(behavioral_strategy=EpsilonGreedyPolicy(epsilon=0.11536442599539684, ConstantSchedule(value=0.115)), alpha=ExponentiallyDecayingSchedule(initial_value=1.0, min_value=0.074, decay_rate=0.991, value=0.074))\n",
      "Score = -0.9999999999999999. Breakdown:\n",
      "\tEvaluation mean reward = 0.0, normalized = -1.0, weighted = -0.7\n",
      "\tTraining mean reward = 0.0, normalized = -1.0, weighted = -0.1\n",
      "\tTraining episodes = 5000, normalized = -1.0, weighted = -0.2\n",
      "Total score across all environments for seed 90 = -0.9999999999999999\n",
      "---------------------------------------------\n",
      "\n",
      "\n",
      "Score in the FrozenLakeEnv environment with seed 56:\n",
      "Agent = Qlearning(behavioral_strategy=EpsilonGreedyPolicy(epsilon=0.11536442599539684, ConstantSchedule(value=0.115)), alpha=ExponentiallyDecayingSchedule(initial_value=1.0, min_value=0.074, decay_rate=0.991, value=0.074))\n",
      "Score = 0.40492779780833704. Breakdown:\n",
      "\tEvaluation mean reward = 0.81, normalized = 0.999226343498715, weighted = 0.6994584404491004\n",
      "\tTraining mean reward = 0.65, normalized = -0.9453064264076338, weighted = -0.09453064264076338\n",
      "\tTraining episodes = 5000, normalized = -1.0, weighted = -0.2\n",
      "Total score across all environments for seed 56 = 0.40492779780833704\n",
      "---------------------------------------------\n",
      "\n"
     ]
    },
    {
     "data": {
      "text/plain": [
       "RandomizedSearchCV(cv=<__main__.OneToOneCV object at 0x7f904f7fccf8>,\n",
       "          error_score='raise', estimator=Qlearning(), fit_params=None,\n",
       "          iid=False, n_iter=30, n_jobs=-1,\n",
       "          param_distributions={'alpha': [ConstantSchedule(value=0.603), ConstantSchedule(value=0.723), ConstantSchedule(value=0.744), ConstantSchedule(value=0.341), ConstantSchedule(value=0.393), LinearlyDecayingSchedule(initial_value=1.0, min_value=0.098, decay_rate=1.0, value=1.0), LinearlyDecayingSchedule(...0, ExponentiallyDecayingSchedule(initial_value=1.0, min_value=0.005, decay_rate=0.999, value=1.0))]},\n",
       "          pre_dispatch='2*n_jobs', random_state=None, refit=False,\n",
       "          return_train_score=False, scoring=None, verbose=0)"
      ]
     },
     "execution_count": 27,
     "metadata": {},
     "output_type": "execute_result"
    }
   ],
   "source": [
    "agent = Qlearning()\n",
    "rsearch = RandomizedSearchCV(estimator=agent, \n",
    "                             param_distributions=grid.data(), \n",
    "                             n_iter=len(grid),\n",
    "                             cv=OneToOneCV(), \n",
    "                             refit=False,\n",
    "                             iid=False,\n",
    "                             return_train_score=False,\n",
    "                             n_jobs=-1,\n",
    "                             verbose=0)\n",
    "rsearch.fit(training_configuration.data())"
   ]
  },
  {
   "cell_type": "code",
   "execution_count": 28,
   "metadata": {},
   "outputs": [
    {
     "name": "stdout",
     "output_type": "stream",
     "text": [
      "best score 0.7931762333491787\n",
      "alpha ConstantSchedule(value=0.723)\n",
      "behavioral_strategy EpsilonGreedyPolicy(epsilon=1.0, LinearlyDecayingSchedule(initial_value=1.0, min_value=0.009, decay_rate=0.988, value=1.0))\n"
     ]
    }
   ],
   "source": [
    "print('best score', rsearch.best_score_)\n",
    "print('alpha', rsearch.best_params_['alpha'])\n",
    "print('behavioral_strategy', rsearch.best_params_['behavioral_strategy'])"
   ]
  },
  {
   "cell_type": "code",
   "execution_count": 29,
   "metadata": {},
   "outputs": [
    {
     "data": {
      "text/plain": [
       "Qlearning(behavioral_strategy=EpsilonGreedyPolicy(epsilon=1.0, LinearlyDecayingSchedule(initial_value=1.0, min_value=0.009, decay_rate=0.988, value=1.0)), alpha=ConstantSchedule(value=0.723))"
      ]
     },
     "execution_count": 29,
     "metadata": {},
     "output_type": "execute_result"
    }
   ],
   "source": [
    "agent.set_params(**rsearch.best_params_)"
   ]
  },
  {
   "cell_type": "code",
   "execution_count": 30,
   "metadata": {},
   "outputs": [
    {
     "data": {
      "application/vnd.jupyter.widget-view+json": {
       "model_id": "1f33423f78114a2e889a941032c78fc3",
       "version_major": 2,
       "version_minor": 0
      },
      "text/plain": [
       "HBox(children=(IntProgress(value=0, max=5000), HTML(value='')))"
      ]
     },
     "metadata": {},
     "output_type": "display_data"
    },
    {
     "name": "stdout",
     "output_type": "stream",
     "text": [
      "\n"
     ]
    },
    {
     "data": {
      "text/plain": [
       "{'FrozenLakeEnv': {'Q': array([[8.83171143e-01, 8.48361547e-01, 8.63116620e-01, 8.34891007e-01],\n",
       "         [2.19993193e-01, 8.30016277e-01, 8.43245574e-01, 8.32565747e-01],\n",
       "         [8.72758359e-01, 8.64602813e-01, 8.17897299e-01, 8.60120241e-01],\n",
       "         [8.15647246e-01, 6.04349267e-01, 2.17381815e-01, 8.17316040e-01],\n",
       "         [8.81167715e-01, 1.98094579e-01, 2.48495198e-01, 6.77279527e-01],\n",
       "         [0.00000000e+00, 0.00000000e+00, 0.00000000e+00, 0.00000000e+00],\n",
       "         [8.72912085e-01, 8.34838009e-01, 6.94591618e-02, 3.46298619e-04],\n",
       "         [0.00000000e+00, 0.00000000e+00, 0.00000000e+00, 0.00000000e+00],\n",
       "         [8.96017829e-01, 2.54315351e-01, 8.30648582e-01, 9.12210522e-01],\n",
       "         [8.65292166e-01, 9.51337417e-01, 7.51824650e-01, 8.48523853e-01],\n",
       "         [9.49771466e-01, 2.56589306e-01, 8.21890496e-01, 2.21240698e-01],\n",
       "         [0.00000000e+00, 0.00000000e+00, 0.00000000e+00, 0.00000000e+00],\n",
       "         [0.00000000e+00, 0.00000000e+00, 0.00000000e+00, 0.00000000e+00],\n",
       "         [8.55617926e-01, 9.65224347e-01, 9.77256629e-01, 2.46943751e-01],\n",
       "         [9.32548702e-01, 9.78161953e-01, 9.45735787e-01, 9.65264187e-01],\n",
       "         [0.00000000e+00, 0.00000000e+00, 0.00000000e+00, 0.00000000e+00]]),\n",
       "  'V': array([0.88317114, 0.84324557, 0.87275836, 0.81731604, 0.88116771,\n",
       "         0.        , 0.87291208, 0.        , 0.91221052, 0.95133742,\n",
       "         0.94977147, 0.        , 0.        , 0.97725663, 0.97816195,\n",
       "         0.        ]),\n",
       "  'policy': {0: 0,\n",
       "   1: 2,\n",
       "   2: 0,\n",
       "   3: 3,\n",
       "   4: 0,\n",
       "   5: 0,\n",
       "   6: 0,\n",
       "   7: 0,\n",
       "   8: 3,\n",
       "   9: 1,\n",
       "   10: 0,\n",
       "   11: 0,\n",
       "   12: 0,\n",
       "   13: 2,\n",
       "   14: 1,\n",
       "   15: 0},\n",
       "  'training_episodes': 1551,\n",
       "  'training_mean_reward': 0.73}}"
      ]
     },
     "execution_count": 30,
     "metadata": {},
     "output_type": "execute_result"
    }
   ],
   "source": [
    "results = {}\n",
    "for environment in environments:\n",
    "    results[environment.get_environment_name()] = agent.train(environment.env, \n",
    "                                                              environment.gamma,\n",
    "                                                              environment.max_episodes, \n",
    "                                                              environment.goal_mean_reward)\n",
    "results"
   ]
  },
  {
   "cell_type": "code",
   "execution_count": 31,
   "metadata": {},
   "outputs": [
    {
     "name": "stdout",
     "output_type": "stream",
     "text": [
      "\n",
      "\u001b[41mS\u001b[0mFFF\n",
      "FHFH\n",
      "FFFH\n",
      "HFFG\n",
      "  (Left)\n",
      "\u001b[41mS\u001b[0mFFF\n",
      "FHFH\n",
      "FFFH\n",
      "HFFG\n",
      "  (Left)\n",
      "SFFF\n",
      "\u001b[41mF\u001b[0mHFH\n",
      "FFFH\n",
      "HFFG\n",
      "  (Left)\n",
      "SFFF\n",
      "\u001b[41mF\u001b[0mHFH\n",
      "FFFH\n",
      "HFFG\n",
      "  (Left)\n",
      "SFFF\n",
      "FHFH\n",
      "\u001b[41mF\u001b[0mFFH\n",
      "HFFG\n",
      "  (Up)\n",
      "SFFF\n",
      "FHFH\n",
      "\u001b[41mF\u001b[0mFFH\n",
      "HFFG\n",
      "  (Up)\n",
      "SFFF\n",
      "FHFH\n",
      "F\u001b[41mF\u001b[0mFH\n",
      "HFFG\n",
      "  (Down)\n",
      "SFFF\n",
      "FHFH\n",
      "\u001b[41mF\u001b[0mFFH\n",
      "HFFG\n",
      "  (Up)\n",
      "SFFF\n",
      "FHFH\n",
      "\u001b[41mF\u001b[0mFFH\n",
      "HFFG\n",
      "  (Up)\n",
      "SFFF\n",
      "FHFH\n",
      "\u001b[41mF\u001b[0mFFH\n",
      "HFFG\n",
      "  (Up)\n",
      "SFFF\n",
      "FHFH\n",
      "\u001b[41mF\u001b[0mFFH\n",
      "HFFG\n",
      "  (Up)\n",
      "SFFF\n",
      "\u001b[41mF\u001b[0mHFH\n",
      "FFFH\n",
      "HFFG\n",
      "  (Left)\n",
      "SFFF\n",
      "\u001b[41mF\u001b[0mHFH\n",
      "FFFH\n",
      "HFFG\n",
      "  (Left)\n",
      "\u001b[41mS\u001b[0mFFF\n",
      "FHFH\n",
      "FFFH\n",
      "HFFG\n",
      "  (Left)\n",
      "\u001b[41mS\u001b[0mFFF\n",
      "FHFH\n",
      "FFFH\n",
      "HFFG\n",
      "  (Left)\n",
      "SFFF\n",
      "\u001b[41mF\u001b[0mHFH\n",
      "FFFH\n",
      "HFFG\n",
      "  (Left)\n",
      "\u001b[41mS\u001b[0mFFF\n",
      "FHFH\n",
      "FFFH\n",
      "HFFG\n",
      "  (Left)\n",
      "\u001b[41mS\u001b[0mFFF\n",
      "FHFH\n",
      "FFFH\n",
      "HFFG\n",
      "  (Left)\n",
      "\u001b[41mS\u001b[0mFFF\n",
      "FHFH\n",
      "FFFH\n",
      "HFFG\n",
      "  (Left)\n",
      "\u001b[41mS\u001b[0mFFF\n",
      "FHFH\n",
      "FFFH\n",
      "HFFG\n",
      "  (Left)\n",
      "\u001b[41mS\u001b[0mFFF\n",
      "FHFH\n",
      "FFFH\n",
      "HFFG\n",
      "  (Left)\n",
      "\u001b[41mS\u001b[0mFFF\n",
      "FHFH\n",
      "FFFH\n",
      "HFFG\n",
      "  (Left)\n",
      "SFFF\n",
      "\u001b[41mF\u001b[0mHFH\n",
      "FFFH\n",
      "HFFG\n",
      "  (Left)\n",
      "\u001b[41mS\u001b[0mFFF\n",
      "FHFH\n",
      "FFFH\n",
      "HFFG\n",
      "  (Left)\n",
      "\u001b[41mS\u001b[0mFFF\n",
      "FHFH\n",
      "FFFH\n",
      "HFFG\n",
      "  (Left)\n",
      "\u001b[41mS\u001b[0mFFF\n",
      "FHFH\n",
      "FFFH\n",
      "HFFG\n",
      "  (Left)\n",
      "\u001b[41mS\u001b[0mFFF\n",
      "FHFH\n",
      "FFFH\n",
      "HFFG\n",
      "  (Left)\n",
      "\u001b[41mS\u001b[0mFFF\n",
      "FHFH\n",
      "FFFH\n",
      "HFFG\n",
      "  (Left)\n",
      "\u001b[41mS\u001b[0mFFF\n",
      "FHFH\n",
      "FFFH\n",
      "HFFG\n",
      "  (Left)\n",
      "\u001b[41mS\u001b[0mFFF\n",
      "FHFH\n",
      "FFFH\n",
      "HFFG\n",
      "  (Left)\n",
      "\u001b[41mS\u001b[0mFFF\n",
      "FHFH\n",
      "FFFH\n",
      "HFFG\n",
      "  (Left)\n",
      "SFFF\n",
      "\u001b[41mF\u001b[0mHFH\n",
      "FFFH\n",
      "HFFG\n",
      "  (Left)\n",
      "SFFF\n",
      "\u001b[41mF\u001b[0mHFH\n",
      "FFFH\n",
      "HFFG\n",
      "  (Left)\n",
      "\u001b[41mS\u001b[0mFFF\n",
      "FHFH\n",
      "FFFH\n",
      "HFFG\n",
      "  (Left)\n",
      "SFFF\n",
      "\u001b[41mF\u001b[0mHFH\n",
      "FFFH\n",
      "HFFG\n",
      "  (Left)\n",
      "SFFF\n",
      "FHFH\n",
      "\u001b[41mF\u001b[0mFFH\n",
      "HFFG\n",
      "  (Up)\n",
      "SFFF\n",
      "\u001b[41mF\u001b[0mHFH\n",
      "FFFH\n",
      "HFFG\n",
      "  (Left)\n",
      "SFFF\n",
      "FHFH\n",
      "\u001b[41mF\u001b[0mFFH\n",
      "HFFG\n",
      "  (Up)\n",
      "SFFF\n",
      "\u001b[41mF\u001b[0mHFH\n",
      "FFFH\n",
      "HFFG\n",
      "  (Left)\n",
      "\u001b[41mS\u001b[0mFFF\n",
      "FHFH\n",
      "FFFH\n",
      "HFFG\n",
      "  (Left)\n",
      "\u001b[41mS\u001b[0mFFF\n",
      "FHFH\n",
      "FFFH\n",
      "HFFG\n",
      "  (Left)\n",
      "\u001b[41mS\u001b[0mFFF\n",
      "FHFH\n",
      "FFFH\n",
      "HFFG\n",
      "  (Left)\n",
      "\u001b[41mS\u001b[0mFFF\n",
      "FHFH\n",
      "FFFH\n",
      "HFFG\n",
      "  (Left)\n",
      "\u001b[41mS\u001b[0mFFF\n",
      "FHFH\n",
      "FFFH\n",
      "HFFG\n",
      "  (Left)\n",
      "\u001b[41mS\u001b[0mFFF\n",
      "FHFH\n",
      "FFFH\n",
      "HFFG\n",
      "  (Left)\n",
      "SFFF\n",
      "\u001b[41mF\u001b[0mHFH\n",
      "FFFH\n",
      "HFFG\n",
      "  (Left)\n",
      "\u001b[41mS\u001b[0mFFF\n",
      "FHFH\n",
      "FFFH\n",
      "HFFG\n",
      "  (Left)\n",
      "\u001b[41mS\u001b[0mFFF\n",
      "FHFH\n",
      "FFFH\n",
      "HFFG\n",
      "  (Left)\n",
      "SFFF\n",
      "\u001b[41mF\u001b[0mHFH\n",
      "FFFH\n",
      "HFFG\n",
      "  (Left)\n",
      "\u001b[41mS\u001b[0mFFF\n",
      "FHFH\n",
      "FFFH\n",
      "HFFG\n",
      "  (Left)\n",
      "\u001b[41mS\u001b[0mFFF\n",
      "FHFH\n",
      "FFFH\n",
      "HFFG\n",
      "  (Left)\n",
      "SFFF\n",
      "\u001b[41mF\u001b[0mHFH\n",
      "FFFH\n",
      "HFFG\n",
      "  (Left)\n",
      "SFFF\n",
      "FHFH\n",
      "\u001b[41mF\u001b[0mFFH\n",
      "HFFG\n",
      "  (Up)\n",
      "SFFF\n",
      "\u001b[41mF\u001b[0mHFH\n",
      "FFFH\n",
      "HFFG\n",
      "  (Left)\n",
      "SFFF\n",
      "FHFH\n",
      "\u001b[41mF\u001b[0mFFH\n",
      "HFFG\n",
      "  (Up)\n",
      "SFFF\n",
      "FHFH\n",
      "\u001b[41mF\u001b[0mFFH\n",
      "HFFG\n",
      "  (Up)\n",
      "SFFF\n",
      "FHFH\n",
      "\u001b[41mF\u001b[0mFFH\n",
      "HFFG\n",
      "  (Up)\n",
      "SFFF\n",
      "FHFH\n",
      "\u001b[41mF\u001b[0mFFH\n",
      "HFFG\n",
      "  (Up)\n",
      "SFFF\n",
      "FHFH\n",
      "\u001b[41mF\u001b[0mFFH\n",
      "HFFG\n",
      "  (Up)\n",
      "SFFF\n",
      "FHFH\n",
      "\u001b[41mF\u001b[0mFFH\n",
      "HFFG\n",
      "  (Up)\n",
      "SFFF\n",
      "FHFH\n",
      "F\u001b[41mF\u001b[0mFH\n",
      "HFFG\n",
      "  (Down)\n",
      "SFFF\n",
      "FHFH\n",
      "FFFH\n",
      "H\u001b[41mF\u001b[0mFG\n",
      "  (Right)\n",
      "SFFF\n",
      "FHFH\n",
      "F\u001b[41mF\u001b[0mFH\n",
      "HFFG\n",
      "  (Down)\n",
      "SFFF\n",
      "FHFH\n",
      "FFFH\n",
      "H\u001b[41mF\u001b[0mFG\n",
      "  (Right)\n",
      "SFFF\n",
      "FHFH\n",
      "F\u001b[41mF\u001b[0mFH\n",
      "HFFG\n",
      "  (Down)\n",
      "SFFF\n",
      "FHFH\n",
      "\u001b[41mF\u001b[0mFFH\n",
      "HFFG\n",
      "  (Up)\n",
      "SFFF\n",
      "FHFH\n",
      "\u001b[41mF\u001b[0mFFH\n",
      "HFFG\n",
      "  (Up)\n",
      "SFFF\n",
      "FHFH\n",
      "F\u001b[41mF\u001b[0mFH\n",
      "HFFG\n",
      "  (Down)\n",
      "SFFF\n",
      "FHFH\n",
      "\u001b[41mF\u001b[0mFFH\n",
      "HFFG\n",
      "  (Up)\n",
      "SFFF\n",
      "FHFH\n",
      "F\u001b[41mF\u001b[0mFH\n",
      "HFFG\n",
      "  (Down)\n",
      "SFFF\n",
      "FHFH\n",
      "FF\u001b[41mF\u001b[0mH\n",
      "HFFG\n",
      "  (Left)\n",
      "SFFF\n",
      "FHFH\n",
      "FFFH\n",
      "HF\u001b[41mF\u001b[0mG\n",
      "  (Down)\n",
      "SFFF\n",
      "FHFH\n",
      "FFFH\n",
      "HFF\u001b[41mG\u001b[0m\n"
     ]
    }
   ],
   "source": [
    "for environment in environments:\n",
    "    agent.demo(environment, results)"
   ]
  },
  {
   "cell_type": "code",
   "execution_count": null,
   "metadata": {},
   "outputs": [],
   "source": []
  },
  {
   "cell_type": "code",
   "execution_count": null,
   "metadata": {},
   "outputs": [],
   "source": []
  },
  {
   "cell_type": "code",
   "execution_count": null,
   "metadata": {},
   "outputs": [],
   "source": []
  },
  {
   "cell_type": "code",
   "execution_count": null,
   "metadata": {},
   "outputs": [],
   "source": []
  },
  {
   "cell_type": "code",
   "execution_count": null,
   "metadata": {},
   "outputs": [],
   "source": []
  },
  {
   "cell_type": "code",
   "execution_count": null,
   "metadata": {},
   "outputs": [],
   "source": []
  },
  {
   "cell_type": "code",
   "execution_count": null,
   "metadata": {},
   "outputs": [],
   "source": []
  },
  {
   "cell_type": "code",
   "execution_count": null,
   "metadata": {},
   "outputs": [],
   "source": []
  }
 ],
 "metadata": {
  "kernelspec": {
   "display_name": "Python 3",
   "language": "python",
   "name": "python3"
  },
  "language_info": {
   "codemirror_mode": {
    "name": "ipython",
    "version": 3
   },
   "file_extension": ".py",
   "mimetype": "text/x-python",
   "name": "python",
   "nbconvert_exporter": "python",
   "pygments_lexer": "ipython3",
   "version": "3.6.7"
  }
 },
 "nbformat": 4,
 "nbformat_minor": 2
}
